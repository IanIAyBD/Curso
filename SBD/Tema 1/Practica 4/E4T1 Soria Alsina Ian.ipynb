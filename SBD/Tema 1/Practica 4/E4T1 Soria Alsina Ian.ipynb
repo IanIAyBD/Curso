{
 "cells": [
  {
   "cell_type": "markdown",
   "metadata": {
    "id": "W9eX-tO_UKYZ"
   },
   "source": [
    "El dataset es “Mammographic masses” del conjunto de datos público del repositorio UCI (https://archive.ics.uci.edu/ml/datasets/Mammographic+Mass)"
   ]
  },
  {
   "cell_type": "code",
   "execution_count": 252,
   "metadata": {
    "id": "eOfFuNXdSNIg"
   },
   "outputs": [],
   "source": [
    "import numpy as np\n",
    "import pandas as pd"
   ]
  },
  {
   "cell_type": "code",
   "execution_count": 253,
   "metadata": {
    "id": "8itY8EMmSNIh"
   },
   "outputs": [],
   "source": [
    "colnames = ['BI-RADS_ASSESSMENT','AGE', 'SHAPE', 'MARGIN', 'DENSITY', 'SEVERITY']\n",
    "\n",
    "df = pd.read_csv('mammographic_masses.data', header=None, names=colnames) # Read csv file"
   ]
  },
  {
   "cell_type": "markdown",
   "metadata": {
    "id": "lhqw2CEuSNIi"
   },
   "source": [
    "#### Copia los datos de df en otro nuevo df_clean"
   ]
  },
  {
   "cell_type": "code",
   "execution_count": 254,
   "metadata": {
    "id": "t39J_DTkSNIi"
   },
   "outputs": [],
   "source": [
    "df_clean = df.copy()"
   ]
  },
  {
   "cell_type": "code",
   "execution_count": 255,
   "metadata": {
    "id": "VJytWQghSNIj"
   },
   "outputs": [],
   "source": [
    "df.names       = 'Mammographic Full Dataset'\n",
    "df_clean.names = 'Mammographic Cleaned Dataset'"
   ]
  },
  {
   "cell_type": "markdown",
   "metadata": {
    "id": "zdPVXb7JSNIj"
   },
   "source": [
    "#### Muestra las 5 primeras filas"
   ]
  },
  {
   "cell_type": "code",
   "execution_count": 256,
   "metadata": {
    "id": "Hz84J_vCSNIk"
   },
   "outputs": [
    {
     "data": {
      "text/html": [
       "<div>\n",
       "<style scoped>\n",
       "    .dataframe tbody tr th:only-of-type {\n",
       "        vertical-align: middle;\n",
       "    }\n",
       "\n",
       "    .dataframe tbody tr th {\n",
       "        vertical-align: top;\n",
       "    }\n",
       "\n",
       "    .dataframe thead th {\n",
       "        text-align: right;\n",
       "    }\n",
       "</style>\n",
       "<table border=\"1\" class=\"dataframe\">\n",
       "  <thead>\n",
       "    <tr style=\"text-align: right;\">\n",
       "      <th></th>\n",
       "      <th>BI-RADS_ASSESSMENT</th>\n",
       "      <th>AGE</th>\n",
       "      <th>SHAPE</th>\n",
       "      <th>MARGIN</th>\n",
       "      <th>DENSITY</th>\n",
       "      <th>SEVERITY</th>\n",
       "    </tr>\n",
       "  </thead>\n",
       "  <tbody>\n",
       "    <tr>\n",
       "      <th>0</th>\n",
       "      <td>BI-RADS_ASSESSMENT</td>\n",
       "      <td>AGE</td>\n",
       "      <td>SHAPE</td>\n",
       "      <td>MARGIN</td>\n",
       "      <td>DENSITY</td>\n",
       "      <td>NaN</td>\n",
       "    </tr>\n",
       "    <tr>\n",
       "      <th>1</th>\n",
       "      <td>5</td>\n",
       "      <td>67</td>\n",
       "      <td>3</td>\n",
       "      <td>5</td>\n",
       "      <td>3</td>\n",
       "      <td>1.0</td>\n",
       "    </tr>\n",
       "    <tr>\n",
       "      <th>2</th>\n",
       "      <td>4</td>\n",
       "      <td>43</td>\n",
       "      <td>1</td>\n",
       "      <td>1</td>\n",
       "      <td>?</td>\n",
       "      <td>1.0</td>\n",
       "    </tr>\n",
       "    <tr>\n",
       "      <th>3</th>\n",
       "      <td>5</td>\n",
       "      <td>58</td>\n",
       "      <td>4</td>\n",
       "      <td>5</td>\n",
       "      <td>3</td>\n",
       "      <td>1.0</td>\n",
       "    </tr>\n",
       "    <tr>\n",
       "      <th>4</th>\n",
       "      <td>4</td>\n",
       "      <td>28</td>\n",
       "      <td>1</td>\n",
       "      <td>1</td>\n",
       "      <td>3</td>\n",
       "      <td>0.0</td>\n",
       "    </tr>\n",
       "  </tbody>\n",
       "</table>\n",
       "</div>"
      ],
      "text/plain": [
       "   BI-RADS_ASSESSMENT  AGE  SHAPE  MARGIN  DENSITY  SEVERITY\n",
       "0  BI-RADS_ASSESSMENT  AGE  SHAPE  MARGIN  DENSITY       NaN\n",
       "1                   5   67      3       5        3       1.0\n",
       "2                   4   43      1       1        ?       1.0\n",
       "3                   5   58      4       5        3       1.0\n",
       "4                   4   28      1       1        3       0.0"
      ]
     },
     "execution_count": 256,
     "metadata": {},
     "output_type": "execute_result"
    }
   ],
   "source": [
    "df.head()"
   ]
  },
  {
   "cell_type": "markdown",
   "metadata": {
    "id": "zdPVXb7JSNIj"
   },
   "source": [
    "#### Borra la primera fila con los labels antiguos"
   ]
  },
  {
   "cell_type": "code",
   "execution_count": 257,
   "metadata": {},
   "outputs": [],
   "source": [
    "df_clean = df.drop(0)"
   ]
  },
  {
   "cell_type": "markdown",
   "metadata": {
    "id": "fOjMGrceRVMc"
   },
   "source": [
    "Resultado:\n",
    "\n",
    "![image.png](data:image/png;base64,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)"
   ]
  },
  {
   "cell_type": "markdown",
   "metadata": {
    "id": "YvVKsbkbSNIk"
   },
   "source": [
    "#### Muestra el info() del df"
   ]
  },
  {
   "cell_type": "code",
   "execution_count": 258,
   "metadata": {
    "id": "NdSDjFkeSNIl"
   },
   "outputs": [
    {
     "name": "stdout",
     "output_type": "stream",
     "text": [
      "<class 'pandas.core.frame.DataFrame'>\n",
      "RangeIndex: 962 entries, 0 to 961\n",
      "Data columns (total 6 columns):\n",
      " #   Column              Non-Null Count  Dtype  \n",
      "---  ------              --------------  -----  \n",
      " 0   BI-RADS_ASSESSMENT  962 non-null    object \n",
      " 1   AGE                 962 non-null    object \n",
      " 2   SHAPE               962 non-null    object \n",
      " 3   MARGIN              962 non-null    object \n",
      " 4   DENSITY             962 non-null    object \n",
      " 5   SEVERITY            961 non-null    float64\n",
      "dtypes: float64(1), object(5)\n",
      "memory usage: 45.2+ KB\n"
     ]
    }
   ],
   "source": [
    "df.info()"
   ]
  },
  {
   "cell_type": "markdown",
   "metadata": {
    "id": "T9yQ2ysOSVsW"
   },
   "source": [
    "Resultado:\n",
    "\n",
    "![image.png](data:image/png;base64,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)"
   ]
  },
  {
   "cell_type": "markdown",
   "metadata": {
    "id": "l5-RzBDoSNIl"
   },
   "source": [
    "#### Comprueba cuántas filas y columnas tiene el dataframe"
   ]
  },
  {
   "cell_type": "code",
   "execution_count": 259,
   "metadata": {
    "id": "JhClkC4cSNIm"
   },
   "outputs": [
    {
     "data": {
      "text/plain": [
       "(962, 6)"
      ]
     },
     "execution_count": 259,
     "metadata": {},
     "output_type": "execute_result"
    }
   ],
   "source": [
    "df.shape"
   ]
  },
  {
   "cell_type": "markdown",
   "metadata": {
    "id": "EAOX4nSsTIak"
   },
   "source": [
    "Resultado:\n",
    "\n",
    "(961, 6)"
   ]
  },
  {
   "cell_type": "markdown",
   "metadata": {
    "id": "c1yA-BhnSNIm"
   },
   "source": [
    "#### Comprueba si faltan valores en alguna columna con isnull()"
   ]
  },
  {
   "cell_type": "code",
   "execution_count": 260,
   "metadata": {
    "id": "4L6qwIaaSNIm"
   },
   "outputs": [
    {
     "data": {
      "text/plain": [
       "BI-RADS_ASSESSMENT    0\n",
       "AGE                   0\n",
       "SHAPE                 0\n",
       "MARGIN                0\n",
       "DENSITY               0\n",
       "SEVERITY              1\n",
       "dtype: int64"
      ]
     },
     "execution_count": 260,
     "metadata": {},
     "output_type": "execute_result"
    }
   ],
   "source": [
    "    ''' Escribe tu código aquí '''\n",
    "columns_na = df.isna().sum()\n",
    "columns_na"
   ]
  },
  {
   "cell_type": "markdown",
   "metadata": {
    "id": "ZibPIcvqh6UB"
   },
   "source": [
    "Resultado:\n",
    "\n",
    "![image.png](data:image/png;base64,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)"
   ]
  },
  {
   "cell_type": "markdown",
   "metadata": {
    "id": "LCn5LlllSNIm"
   },
   "source": [
    "#### Comprueba para cada columna (feature - característica) los valores únicos y cuántos hay de cada"
   ]
  },
  {
   "cell_type": "code",
   "execution_count": 261,
   "metadata": {
    "id": "DwtwkPnoSNIm"
   },
   "outputs": [
    {
     "name": "stdout",
     "output_type": "stream",
     "text": [
      "Análisis para el feature:  BI-RADS_ASSESSMENT \n",
      "\n",
      "Valores únicos: \n",
      "\n",
      "['BI-RADS_ASSESSMENT' '5' '4' '3' '?' '2' '55' '0' '6']\n",
      "Frecuencias de cada valor: \n",
      "4                     547\n",
      "5                     345\n",
      "3                      36\n",
      "2                      14\n",
      "6                      11\n",
      "0                       5\n",
      "?                       2\n",
      "BI-RADS_ASSESSMENT      1\n",
      "55                      1\n",
      "Name: BI-RADS_ASSESSMENT, dtype: int64\n",
      "\n",
      "xxxxxxxxxxxxxxxxxxxxxxxxxxxxxxxxxxxxxxxxxxxxxxxxxxxxxxxxxxxxxxxxxxxxxxxxxxxxxxxxxxxxxxxxxxxxxxxxxxxxxxxxxxxxxxxxxxxxx\n",
      "\n",
      "Análisis para el feature:  AGE \n",
      "\n",
      "Valores únicos: \n",
      "\n",
      "['AGE' '67' '43' '58' '28' '74' '65' '70' '42' '57' '60' '76' '64' '36'\n",
      " '54' '52' '59' '40' '66' '56' '75' '63' '45' '55' '46' '39' '81' '77'\n",
      " '48' '78' '50' '61' '62' '44' '23' '80' '53' '49' '51' '25' '72' '73'\n",
      " '68' '33' '47' '29' '34' '71' '84' '24' '86' '41' '87' '21' '19' '35'\n",
      " '37' '79' '85' '69' '38' '32' '27' '83' '88' '26' '31' '?' '18' '82' '93'\n",
      " '30' '22' '96' '20']\n",
      "Frecuencias de cada valor: \n",
      "59     36\n",
      "67     32\n",
      "57     32\n",
      "66     31\n",
      "46     28\n",
      "       ..\n",
      "AGE     1\n",
      "82      1\n",
      "18      1\n",
      "88      1\n",
      "20      1\n",
      "Name: AGE, Length: 75, dtype: int64\n",
      "\n",
      "xxxxxxxxxxxxxxxxxxxxxxxxxxxxxxxxxxxxxxxxxxxxxxxxxxxxxxxxxxxxxxxxxxxxxxxxxxxxxxxxxxxxxxxxxxxxxxxxxxxxxxxxxxxxxxxxxxxxx\n",
      "\n",
      "Análisis para el feature:  SHAPE \n",
      "\n",
      "Valores únicos: \n",
      "\n",
      "['SHAPE' '3' '1' '4' '?' '2']\n",
      "Frecuencias de cada valor: \n",
      "4        400\n",
      "1        224\n",
      "2        211\n",
      "3         95\n",
      "?         31\n",
      "SHAPE      1\n",
      "Name: SHAPE, dtype: int64\n",
      "\n",
      "xxxxxxxxxxxxxxxxxxxxxxxxxxxxxxxxxxxxxxxxxxxxxxxxxxxxxxxxxxxxxxxxxxxxxxxxxxxxxxxxxxxxxxxxxxxxxxxxxxxxxxxxxxxxxxxxxxxxx\n",
      "\n",
      "Análisis para el feature:  MARGIN \n",
      "\n",
      "Valores únicos: \n",
      "\n",
      "['MARGIN' '5' '1' '?' '4' '3' '2']\n",
      "Frecuencias de cada valor: \n",
      "1         357\n",
      "4         280\n",
      "5         136\n",
      "3         116\n",
      "?          48\n",
      "2          24\n",
      "MARGIN      1\n",
      "Name: MARGIN, dtype: int64\n",
      "\n",
      "xxxxxxxxxxxxxxxxxxxxxxxxxxxxxxxxxxxxxxxxxxxxxxxxxxxxxxxxxxxxxxxxxxxxxxxxxxxxxxxxxxxxxxxxxxxxxxxxxxxxxxxxxxxxxxxxxxxxx\n",
      "\n",
      "Análisis para el feature:  DENSITY \n",
      "\n",
      "Valores únicos: \n",
      "\n",
      "['DENSITY' '3' '?' '1' '2' '4']\n",
      "Frecuencias de cada valor: \n",
      "3          798\n",
      "?           76\n",
      "2           59\n",
      "1           16\n",
      "4           12\n",
      "DENSITY      1\n",
      "Name: DENSITY, dtype: int64\n",
      "\n",
      "xxxxxxxxxxxxxxxxxxxxxxxxxxxxxxxxxxxxxxxxxxxxxxxxxxxxxxxxxxxxxxxxxxxxxxxxxxxxxxxxxxxxxxxxxxxxxxxxxxxxxxxxxxxxxxxxxxxxx\n",
      "\n",
      "Análisis para el feature:  SEVERITY \n",
      "\n",
      "Valores únicos: \n",
      "\n",
      "[nan  1.  0.]\n",
      "Frecuencias de cada valor: \n",
      "0.0    516\n",
      "1.0    445\n",
      "Name: SEVERITY, dtype: int64\n",
      "\n",
      "xxxxxxxxxxxxxxxxxxxxxxxxxxxxxxxxxxxxxxxxxxxxxxxxxxxxxxxxxxxxxxxxxxxxxxxxxxxxxxxxxxxxxxxxxxxxxxxxxxxxxxxxxxxxxxxxxxxxx\n",
      "\n"
     ]
    }
   ],
   "source": [
    "for x in df_clean.columns.tolist():\n",
    "    print(\"Análisis para el feature: \", x, \"\\n\")    \n",
    "    print(\"Valores únicos: \\n\")\n",
    "    print(df[x].unique())\n",
    "    ''' Escribe tu código aquí '''\n",
    "    print(\"Frecuencias de cada valor: \")\n",
    "    count = df[x].value_counts()\n",
    "    print (count)\n",
    "    ''' Escribe tu código aquí ''' \n",
    "    print(\"\\nxxxxxxxxxxxxxxxxxxxxxxxxxxxxxxxxxxxxxxxxxxxxxxxxxxxxxxxxxxxxxxxxxxxxxxxxxxxxxxxxxxxxxxxxxxxxxxxxxxxxxxxxxxxxxxxxxxxxx\\n\")"
   ]
  },
  {
   "cell_type": "markdown",
   "metadata": {
    "id": "J7RKl3niZi6m"
   },
   "source": [
    "Resultado:\n",
    "\n",
    "![image.png](data:image/png;base64,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)\n",
    "\n",
    "..."
   ]
  },
  {
   "cell_type": "markdown",
   "metadata": {
    "id": "-XPO928NSNIn"
   },
   "source": [
    "#### Clean Existing Columns"
   ]
  },
  {
   "cell_type": "markdown",
   "metadata": {
    "id": "Ld8G8bhicl8d"
   },
   "source": [
    "Hay algunos valores marcados como '?'. Vamos a convertirlos a nan. Para ello creamos la función cleanFeature()"
   ]
  },
  {
   "cell_type": "code",
   "execution_count": 262,
   "metadata": {
    "id": "ts77uFA7SNIn"
   },
   "outputs": [],
   "source": [
    "# Create Function traansforming '?' values into NaN\n",
    "def cleanFeature(num):\n",
    "    if num == '?':\n",
    "        return np.nan\n",
    "    else:\n",
    "        return num"
   ]
  },
  {
   "cell_type": "markdown",
   "metadata": {},
   "source": [
    "Aplicamos la función sobre las columnas implicadas."
   ]
  },
  {
   "cell_type": "code",
   "execution_count": 263,
   "metadata": {
    "id": "Yvg3Ua1LSNIn"
   },
   "outputs": [],
   "source": [
    "# Clean existing features\n",
    "''' Escribe tu código aquí'''\n",
    "\n",
    "for x in df_clean.columns:\n",
    "        df_clean[x] =df_clean[x].apply(cleanFeature)"
   ]
  },
  {
   "cell_type": "code",
   "execution_count": 264,
   "metadata": {},
   "outputs": [
    {
     "data": {
      "text/html": [
       "<div>\n",
       "<style scoped>\n",
       "    .dataframe tbody tr th:only-of-type {\n",
       "        vertical-align: middle;\n",
       "    }\n",
       "\n",
       "    .dataframe tbody tr th {\n",
       "        vertical-align: top;\n",
       "    }\n",
       "\n",
       "    .dataframe thead th {\n",
       "        text-align: right;\n",
       "    }\n",
       "</style>\n",
       "<table border=\"1\" class=\"dataframe\">\n",
       "  <thead>\n",
       "    <tr style=\"text-align: right;\">\n",
       "      <th></th>\n",
       "      <th>BI-RADS_ASSESSMENT</th>\n",
       "      <th>AGE</th>\n",
       "      <th>SHAPE</th>\n",
       "      <th>MARGIN</th>\n",
       "      <th>DENSITY</th>\n",
       "      <th>SEVERITY</th>\n",
       "    </tr>\n",
       "  </thead>\n",
       "  <tbody>\n",
       "    <tr>\n",
       "      <th>1</th>\n",
       "      <td>5</td>\n",
       "      <td>67</td>\n",
       "      <td>3</td>\n",
       "      <td>5</td>\n",
       "      <td>3</td>\n",
       "      <td>1.0</td>\n",
       "    </tr>\n",
       "    <tr>\n",
       "      <th>2</th>\n",
       "      <td>4</td>\n",
       "      <td>43</td>\n",
       "      <td>1</td>\n",
       "      <td>1</td>\n",
       "      <td>NaN</td>\n",
       "      <td>1.0</td>\n",
       "    </tr>\n",
       "    <tr>\n",
       "      <th>3</th>\n",
       "      <td>5</td>\n",
       "      <td>58</td>\n",
       "      <td>4</td>\n",
       "      <td>5</td>\n",
       "      <td>3</td>\n",
       "      <td>1.0</td>\n",
       "    </tr>\n",
       "    <tr>\n",
       "      <th>4</th>\n",
       "      <td>4</td>\n",
       "      <td>28</td>\n",
       "      <td>1</td>\n",
       "      <td>1</td>\n",
       "      <td>3</td>\n",
       "      <td>0.0</td>\n",
       "    </tr>\n",
       "    <tr>\n",
       "      <th>5</th>\n",
       "      <td>5</td>\n",
       "      <td>74</td>\n",
       "      <td>1</td>\n",
       "      <td>5</td>\n",
       "      <td>NaN</td>\n",
       "      <td>1.0</td>\n",
       "    </tr>\n",
       "  </tbody>\n",
       "</table>\n",
       "</div>"
      ],
      "text/plain": [
       "  BI-RADS_ASSESSMENT AGE SHAPE MARGIN DENSITY  SEVERITY\n",
       "1                  5  67     3      5       3       1.0\n",
       "2                  4  43     1      1     NaN       1.0\n",
       "3                  5  58     4      5       3       1.0\n",
       "4                  4  28     1      1       3       0.0\n",
       "5                  5  74     1      5     NaN       1.0"
      ]
     },
     "execution_count": 264,
     "metadata": {},
     "output_type": "execute_result"
    }
   ],
   "source": [
    "df_clean.head()"
   ]
  },
  {
   "cell_type": "markdown",
   "metadata": {
    "id": "pzqFq8aDSNIo"
   },
   "source": [
    "#### Comprueba cuántos valores NaN tiene cada columna con isna()"
   ]
  },
  {
   "cell_type": "code",
   "execution_count": 265,
   "metadata": {
    "id": "3CF02gzjSNIo"
   },
   "outputs": [
    {
     "name": "stdout",
     "output_type": "stream",
     "text": [
      "BI-RADS_ASSESSMENT 2\n",
      "AGE 5\n",
      "SHAPE 31\n",
      "MARGIN 48\n",
      "DENSITY 76\n",
      "SEVERITY 0\n"
     ]
    }
   ],
   "source": [
    "\n",
    "    ''' Escribe tu código aquí '''\n",
    "for x in df_clean.columns:\n",
    "        print (x,end=\" \")\n",
    "        print(df_clean[x].isna().sum())"
   ]
  },
  {
   "cell_type": "markdown",
   "metadata": {
    "id": "bJ5qCMJxSNIo"
   },
   "source": [
    "#### Elimina las filas que contangan NaN"
   ]
  },
  {
   "cell_type": "code",
   "execution_count": 266,
   "metadata": {
    "id": "D_bvarNNSNIo"
   },
   "outputs": [
    {
     "data": {
      "text/plain": [
       "(830, 6)"
      ]
     },
     "execution_count": 266,
     "metadata": {},
     "output_type": "execute_result"
    }
   ],
   "source": [
    "df_clean = df_clean.dropna()\n",
    "df_clean.shape"
   ]
  },
  {
   "cell_type": "code",
   "execution_count": 267,
   "metadata": {},
   "outputs": [
    {
     "data": {
      "text/html": [
       "<div>\n",
       "<style scoped>\n",
       "    .dataframe tbody tr th:only-of-type {\n",
       "        vertical-align: middle;\n",
       "    }\n",
       "\n",
       "    .dataframe tbody tr th {\n",
       "        vertical-align: top;\n",
       "    }\n",
       "\n",
       "    .dataframe thead th {\n",
       "        text-align: right;\n",
       "    }\n",
       "</style>\n",
       "<table border=\"1\" class=\"dataframe\">\n",
       "  <thead>\n",
       "    <tr style=\"text-align: right;\">\n",
       "      <th></th>\n",
       "      <th>BI-RADS_ASSESSMENT</th>\n",
       "      <th>AGE</th>\n",
       "      <th>SHAPE</th>\n",
       "      <th>MARGIN</th>\n",
       "      <th>DENSITY</th>\n",
       "      <th>SEVERITY</th>\n",
       "    </tr>\n",
       "  </thead>\n",
       "  <tbody>\n",
       "    <tr>\n",
       "      <th>1</th>\n",
       "      <td>5</td>\n",
       "      <td>67</td>\n",
       "      <td>3</td>\n",
       "      <td>5</td>\n",
       "      <td>3</td>\n",
       "      <td>1.0</td>\n",
       "    </tr>\n",
       "    <tr>\n",
       "      <th>3</th>\n",
       "      <td>5</td>\n",
       "      <td>58</td>\n",
       "      <td>4</td>\n",
       "      <td>5</td>\n",
       "      <td>3</td>\n",
       "      <td>1.0</td>\n",
       "    </tr>\n",
       "    <tr>\n",
       "      <th>4</th>\n",
       "      <td>4</td>\n",
       "      <td>28</td>\n",
       "      <td>1</td>\n",
       "      <td>1</td>\n",
       "      <td>3</td>\n",
       "      <td>0.0</td>\n",
       "    </tr>\n",
       "    <tr>\n",
       "      <th>9</th>\n",
       "      <td>5</td>\n",
       "      <td>57</td>\n",
       "      <td>1</td>\n",
       "      <td>5</td>\n",
       "      <td>3</td>\n",
       "      <td>1.0</td>\n",
       "    </tr>\n",
       "    <tr>\n",
       "      <th>11</th>\n",
       "      <td>5</td>\n",
       "      <td>76</td>\n",
       "      <td>1</td>\n",
       "      <td>4</td>\n",
       "      <td>3</td>\n",
       "      <td>1.0</td>\n",
       "    </tr>\n",
       "  </tbody>\n",
       "</table>\n",
       "</div>"
      ],
      "text/plain": [
       "   BI-RADS_ASSESSMENT AGE SHAPE MARGIN DENSITY  SEVERITY\n",
       "1                   5  67     3      5       3       1.0\n",
       "3                   5  58     4      5       3       1.0\n",
       "4                   4  28     1      1       3       0.0\n",
       "9                   5  57     1      5       3       1.0\n",
       "11                  5  76     1      4       3       1.0"
      ]
     },
     "execution_count": 267,
     "metadata": {},
     "output_type": "execute_result"
    }
   ],
   "source": [
    "df_clean.head()"
   ]
  },
  {
   "cell_type": "markdown",
   "metadata": {
    "id": "MFOCLpRsSNIn"
   },
   "source": [
    "#### Crea una función para convertir la columna AGE en una columna agrupada"
   ]
  },
  {
   "cell_type": "code",
   "execution_count": 268,
   "metadata": {
    "id": "Tcehq1sxanlR"
   },
   "outputs": [],
   "source": [
    "def AgeGroup(age):\n",
    "        if age < 21:\n",
    "            return 0 # 'Teenager'\n",
    "        elif age >= 21 and age <=34:\n",
    "            return 1 # 'YoungAdult'\n",
    "        elif age >=34 and age<=49:\n",
    "            return 2 # 'Adult'\n",
    "        elif age >= 49 and age<=65:\n",
    "            return 3 # 'OldAdult'\n",
    "        elif age > 65:\n",
    "            return 4 # 'Elderly'y"
   ]
  },
  {
   "cell_type": "markdown",
   "metadata": {},
   "source": [
    "#### Aplica la función a la columna AGE"
   ]
  },
  {
   "cell_type": "code",
   "execution_count": 269,
   "metadata": {
    "id": "Tcehq1sxanlR"
   },
   "outputs": [],
   "source": [
    "df_clean = df_clean.astype({'AGE':'int'})\n",
    "df_clean['AGE'] = df_clean['AGE'].apply(AgeGroup)"
   ]
  },
  {
   "cell_type": "markdown",
   "metadata": {
    "id": "yTZkea8_iVpj"
   },
   "source": [
    "#### Comprueba cuántos valores únicos hay para AGE en cada grupo"
   ]
  },
  {
   "cell_type": "code",
   "execution_count": 270,
   "metadata": {
    "id": "elqm_eBwiWmj"
   },
   "outputs": [
    {
     "data": {
      "text/plain": [
       "3    326\n",
       "4    231\n",
       "2    205\n",
       "1     62\n",
       "0      6\n",
       "Name: AGE, dtype: int64"
      ]
     },
     "execution_count": 270,
     "metadata": {},
     "output_type": "execute_result"
    }
   ],
   "source": [
    "df_clean['AGE'].value_counts()"
   ]
  },
  {
   "cell_type": "markdown",
   "metadata": {
    "id": "SZ5g2SejnrjH"
   },
   "source": [
    "Resultado:\n",
    "\n",
    "![image.png](data:image/png;base64,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)"
   ]
  },
  {
   "cell_type": "markdown",
   "metadata": {
    "id": "0bjYcMdsSNIo"
   },
   "source": [
    "#### Elimina la coumna BI-RADS_ASSESSMENT"
   ]
  },
  {
   "cell_type": "code",
   "execution_count": 271,
   "metadata": {
    "id": "XCcI02uaSNIo"
   },
   "outputs": [],
   "source": [
    "df_clean= df_clean.drop(\"BI-RADS_ASSESSMENT\", axis =1)"
   ]
  },
  {
   "cell_type": "code",
   "execution_count": 272,
   "metadata": {},
   "outputs": [
    {
     "data": {
      "text/plain": [
       "(830, 5)"
      ]
     },
     "execution_count": 272,
     "metadata": {},
     "output_type": "execute_result"
    }
   ],
   "source": [
    "df_clean.shape"
   ]
  },
  {
   "cell_type": "markdown",
   "metadata": {},
   "source": [
    "#### Exporta como CSV el dataframe limpio, con el nombre Mammographic_Data_Cleaned.csv"
   ]
  },
  {
   "cell_type": "code",
   "execution_count": 273,
   "metadata": {},
   "outputs": [],
   "source": [
    "df_clean.to_csv('Mammographic_Data_Cleaned.csv')"
   ]
  },
  {
   "cell_type": "code",
   "execution_count": null,
   "metadata": {},
   "outputs": [],
   "source": []
  }
 ],
 "metadata": {
  "colab": {
   "collapsed_sections": [],
   "name": "3. Ejercicio 2. Mammographic_procesado de datos.ipynb",
   "provenance": [],
   "toc_visible": true
  },
  "kernelspec": {
   "display_name": "Python 3 (ipykernel)",
   "language": "python",
   "name": "python3"
  },
  "language_info": {
   "codemirror_mode": {
    "name": "ipython",
    "version": 3
   },
   "file_extension": ".py",
   "mimetype": "text/x-python",
   "name": "python",
   "nbconvert_exporter": "python",
   "pygments_lexer": "ipython3",
   "version": "3.9.12"
  }
 },
 "nbformat": 4,
 "nbformat_minor": 1
}
