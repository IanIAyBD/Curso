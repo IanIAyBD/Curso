{
  "nbformat": 4,
  "nbformat_minor": 0,
  "metadata": {
    "colab": {
      "provenance": [],
      "toc_visible": true
    },
    "kernelspec": {
      "name": "python3",
      "display_name": "Python 3"
    },
    "language_info": {
      "name": "python"
    },
    "accelerator": "GPU",
    "gpuClass": "standard"
  },
  "cells": [
    {
      "cell_type": "markdown",
      "metadata": {
        "id": "H0RetZ8RUDLr"
      },
      "source": [
        "# **Práctica 2**\n",
        "\n",
        "En esta práctica vamos a ver como podríamos trabajar con redes neuronales totalmente conectadas en imagen. Veremos cuales son las limitaciones de emplear este tipo de arquitecturas para trabajar con imágenes.\n"
      ]
    },
    {
      "cell_type": "markdown",
      "metadata": {
        "id": "-mc0TTORUkpi"
      },
      "source": [
        "En primer lugar vamos a trabajar con el dataset MNIST para clasificación de imágenes de dígitos numéricos. Para ello seguiremos los siguientes pasos:\n",
        "\n",
        "\n",
        "\n",
        "1.   Descargaremos las imágenes y las visualizaremos\n",
        "2.   Pre-procesaremos los datos.\n",
        "3.   Diseñaremos la arquitectura.\n",
        "4.   Entrenaremos la red.\n",
        "5.   Evaluaremos el modelo entrenado.\n",
        "\n"
      ]
    },
    {
      "cell_type": "markdown",
      "metadata": {
        "id": "aWhJoqzBVB5J"
      },
      "source": [
        "# 1. Descaga de las imágenes y visualización"
      ]
    },
    {
      "cell_type": "code",
      "metadata": {
        "id": "RzV61jpmTYkb",
        "colab": {
          "base_uri": "https://localhost:8080/"
        },
        "outputId": "911e16ff-c8f3-425a-891b-7aa2fc0c9370"
      },
      "source": [
        "# Importamos la base de datos de las propias de keras\n",
        "from tensorflow.keras.datasets import mnist\n",
        "\n",
        "# Descargamos el dataset diferenciando entre conjunto de entrenamiento y validación/test\n",
        "(X_train, y_train), (X_testval, y_testval) = mnist.load_data()"
      ],
      "execution_count": 2,
      "outputs": [
        {
          "output_type": "stream",
          "name": "stdout",
          "text": [
            "Downloading data from https://storage.googleapis.com/tensorflow/tf-keras-datasets/mnist.npz\n",
            "11490434/11490434 [==============================] - 2s 0us/step\n"
          ]
        }
      ]
    },
    {
      "cell_type": "code",
      "metadata": {
        "id": "4-mbeVX0VjMK",
        "colab": {
          "base_uri": "https://localhost:8080/"
        },
        "outputId": "853233d9-d20f-45b5-bc55-4958248bdcc6"
      },
      "source": [
        "# Analizamos la base de datos descargada\n",
        "# Tamaño de las imágenes y número de muestras\n",
        "print(\"Tamaño imágenes entrenamiento: \", X_train.shape)\n",
        "print(\"Tamaño etiquetas entrenamiento: \", y_train.shape)\n",
        "print(\"Tamaño imágenes validación/test: \", X_testval.shape)\n",
        "print(\"Tamaño etiquetas validación/test: \", y_testval.shape)"
      ],
      "execution_count": 3,
      "outputs": [
        {
          "output_type": "stream",
          "name": "stdout",
          "text": [
            "Tamaño imágenes entrenamiento:  (60000, 28, 28)\n",
            "Tamaño etiquetas entrenamiento:  (60000,)\n",
            "Tamaño imágenes validación/test:  (10000, 28, 28)\n",
            "Tamaño etiquetas validación/test:  (10000,)\n"
          ]
        }
      ]
    },
    {
      "cell_type": "code",
      "metadata": {
        "id": "s_V82xxpWHVb",
        "colab": {
          "base_uri": "https://localhost:8080/"
        },
        "outputId": "c27046a1-7e20-4963-fd73-83d87ae22aaa"
      },
      "source": [
        "# Tipo de datos\n",
        "print(\"Tipo datos imágenes entrenamiento: \", X_train.dtype)\n",
        "print(\"Tipo datos etiquetas entrenamiento: \", y_train.dtype)\n",
        "print(\"Tipo datos imágenes validación/test: \", X_testval.dtype)\n",
        "print(\"Tipo datos etiquetas validación/test: \", y_testval.dtype)"
      ],
      "execution_count": 4,
      "outputs": [
        {
          "output_type": "stream",
          "name": "stdout",
          "text": [
            "Tipo datos imágenes entrenamiento:  uint8\n",
            "Tipo datos etiquetas entrenamiento:  uint8\n",
            "Tipo datos imágenes validación/test:  uint8\n",
            "Tipo datos etiquetas validación/test:  uint8\n"
          ]
        }
      ]
    },
    {
      "cell_type": "code",
      "metadata": {
        "id": "1KlTXs_JWPbR",
        "colab": {
          "base_uri": "https://localhost:8080/"
        },
        "outputId": "de71529f-ed75-44c2-de82-313201b7afb9"
      },
      "source": [
        "# Rango de valores de las imágenes\n",
        "print(\"Valor mínimo imágenes entrenamiento: \", X_train.min())\n",
        "print(\"Valor máximo imágenes entrenamiento: \", X_train.max())\n",
        "print(\"Valor mínimo imágenes validación/test: \", X_testval.min())\n",
        "print(\"Valor máximo imágenes validación/test: \", X_testval.max())"
      ],
      "execution_count": 5,
      "outputs": [
        {
          "output_type": "stream",
          "name": "stdout",
          "text": [
            "Valor mínimo imágenes entrenamiento:  0\n",
            "Valor máximo imágenes entrenamiento:  255\n",
            "Valor mínimo imágenes validación/test:  0\n",
            "Valor máximo imágenes validación/test:  255\n"
          ]
        }
      ]
    },
    {
      "cell_type": "code",
      "metadata": {
        "id": "608DcGpLXl15",
        "colab": {
          "base_uri": "https://localhost:8080/"
        },
        "outputId": "0172e558-2003-4f7d-b5fb-2c862cba9f7a"
      },
      "source": [
        "# Etiquetas de las particiones\n",
        "import numpy as np\n",
        "\n",
        "print(\"Etiquetas entrenamiento: \", np.unique(y_train))\n",
        "print(\"Etiquetas validación/test: \", np.unique(y_testval))"
      ],
      "execution_count": 6,
      "outputs": [
        {
          "output_type": "stream",
          "name": "stdout",
          "text": [
            "Etiquetas entrenamiento:  [0 1 2 3 4 5 6 7 8 9]\n",
            "Etiquetas validación/test:  [0 1 2 3 4 5 6 7 8 9]\n"
          ]
        }
      ]
    },
    {
      "cell_type": "code",
      "metadata": {
        "id": "CW1JYISWX6Qa",
        "colab": {
          "base_uri": "https://localhost:8080/",
          "height": 607
        },
        "outputId": "3993d3b2-850a-402d-8e02-dbe8f7680585"
      },
      "source": [
        "# Visualización de las imágenes\n",
        "import matplotlib.pyplot as plt\n",
        "# Configuramos tamaño de las imágenes para una correcta visualización\n",
        "plt.rcParams['figure.figsize'] = (10, 10)\n",
        "# Mostramos 9 imágenes con su etiqueta correspondiente\n",
        "for i in range(9):\n",
        "  plt.subplot(3, 3, i+1)\n",
        "  plt.imshow(X_train[i], cmap='gray')\n",
        "  plt.title(f'Clase {y_train[i]}')"
      ],
      "execution_count": 7,
      "outputs": [
        {
          "output_type": "display_data",
          "data": {
            "text/plain": [
              "<Figure size 720x720 with 9 Axes>"
            ],
            "image/png": "[encoded data removed]"
          },
          "metadata": {
            "needs_background": "light"
          }
        }
      ]
    },
    {
      "cell_type": "markdown",
      "metadata": {
        "id": "mYU2_0K0Y3hk"
      },
      "source": [
        "# 2. Pre-proceso de los datos"
      ]
    },
    {
      "cell_type": "code",
      "metadata": {
        "id": "s7cw65IwYy_0",
        "colab": {
          "base_uri": "https://localhost:8080/"
        },
        "outputId": "e84b178d-72be-43e4-ffa2-80224bdd0f51"
      },
      "source": [
        "# Para trabajar con redes neuronales totalmente conectadas no podemos trabajar con matrices 2D, debemos convertir la imagen a vector 1D\n",
        "X_train_vector = X_train.reshape(X_train.shape[0], X_train.shape[1]*X_train.shape[2])\n",
        "X_testval_vector = X_testval.reshape(X_testval.shape[0], X_testval.shape[1]*X_testval.shape[2])\n",
        "print(\"Nuevo tamaño datos entrenamiento: \", X_train_vector.shape)\n",
        "print(\"Nuevo tamaño datos validación/test: \", X_testval_vector.shape)"
      ],
      "execution_count": 8,
      "outputs": [
        {
          "output_type": "stream",
          "name": "stdout",
          "text": [
            "Nuevo tamaño datos entrenamiento:  (60000, 784)\n",
            "Nuevo tamaño datos validación/test:  (10000, 784)\n"
          ]
        }
      ]
    },
    {
      "cell_type": "code",
      "metadata": {
        "id": "n6eBfheuZ_w6",
        "colab": {
          "base_uri": "https://localhost:8080/"
        },
        "outputId": "4e3100cc-f0a9-44ee-8554-0b11c94061c3"
      },
      "source": [
        "# Las redes neuronales trabajan mejor con valores entre 0-1. Por lo que vamos a convertir el rango\n",
        "\n",
        "# Primero convertimos las imágenes a float\n",
        "X_train_vector = X_train_vector.astype('float32')\n",
        "X_testval_vector = X_testval_vector.astype('float32')\n",
        "print('Tipo datos entrenamiento: ', X_train_vector.dtype)\n",
        "print('Tipo datos validación/test: ', X_testval_vector.dtype)"
      ],
      "execution_count": 9,
      "outputs": [
        {
          "output_type": "stream",
          "name": "stdout",
          "text": [
            "Tipo datos entrenamiento:  float32\n",
            "Tipo datos validación/test:  float32\n"
          ]
        }
      ]
    },
    {
      "cell_type": "code",
      "metadata": {
        "id": "bSKwN9goavmZ",
        "colab": {
          "base_uri": "https://localhost:8080/"
        },
        "outputId": "14a47db2-e7b5-4fc1-d251-619726a6d381"
      },
      "source": [
        "# Cambiamos rango de las imágenes\n",
        "X_train_vector /= 255\n",
        "X_testval_vector /= 255\n",
        "print(\"Rango datos entrenamiento: [\", X_train_vector.min(), ', ', X_train_vector.max(), ']')\n",
        "print(\"Rango datos validación/test: [\", X_testval_vector.min(), ', ', X_testval_vector.max(), ']')"
      ],
      "execution_count": 10,
      "outputs": [
        {
          "output_type": "stream",
          "name": "stdout",
          "text": [
            "Rango datos entrenamiento: [ 0.0 ,  1.0 ]\n",
            "Rango datos validación/test: [ 0.0 ,  1.0 ]\n"
          ]
        }
      ]
    },
    {
      "cell_type": "code",
      "metadata": {
        "id": "gwCkZqtebJNR"
      },
      "source": [
        "# Convertimos etiquetas a codificación one-hot\n",
        "from tensorflow.keras.utils import to_categorical\n",
        "num_clases = len(np.unique(y_train))\n",
        "y_train_cod = to_categorical(y_train, num_clases)\n",
        "y_testval_cod = to_categorical(y_testval, num_clases)"
      ],
      "execution_count": 11,
      "outputs": []
    },
    {
      "cell_type": "code",
      "metadata": {
        "id": "o-bCirGpcF0B",
        "colab": {
          "base_uri": "https://localhost:8080/"
        },
        "outputId": "ed8b3198-5617-4fa0-81e1-7d497bd75664"
      },
      "source": [
        "print(\"Tamaño etiquetas entrenamiento: \", y_train_cod.shape)\n",
        "print(\"Tamaño etiquetas validación/test: \", y_testval_cod.shape)"
      ],
      "execution_count": 12,
      "outputs": [
        {
          "output_type": "stream",
          "name": "stdout",
          "text": [
            "Tamaño etiquetas entrenamiento:  (60000, 10)\n",
            "Tamaño etiquetas validación/test:  (10000, 10)\n"
          ]
        }
      ]
    },
    {
      "cell_type": "code",
      "metadata": {
        "id": "dLFnhlMDcdCu",
        "colab": {
          "base_uri": "https://localhost:8080/"
        },
        "outputId": "5191273f-3b5f-49ed-af58-398b751b58d7"
      },
      "source": [
        "# Dividimos conjunto de datos de validación/test en 2 subconjuntos\n",
        "samples_test_nb = int(X_testval.shape[0]/2)\n",
        "X_val = X_testval_vector[:samples_test_nb]\n",
        "y_val = y_testval_cod[:samples_test_nb]\n",
        "X_test = X_testval_vector[samples_test_nb:]\n",
        "y_test = y_testval_cod[samples_test_nb:]\n",
        "\n",
        "print(\"Muestras validación: \", X_val.shape)\n",
        "print(\"Muestras test: \", X_test.shape)"
      ],
      "execution_count": 13,
      "outputs": [
        {
          "output_type": "stream",
          "name": "stdout",
          "text": [
            "Muestras validación:  (5000, 784)\n",
            "Muestras test:  (5000, 784)\n"
          ]
        }
      ]
    },
    {
      "cell_type": "markdown",
      "metadata": {
        "id": "PVYvjZjRdGvI"
      },
      "source": [
        "# 3. Diseñamos la arquitectura\n"
      ]
    },
    {
      "cell_type": "code",
      "metadata": {
        "id": "JQcYWFXAdFJd"
      },
      "source": [
        "# Importamos dependencias\n",
        "from tensorflow.keras.models import Model\n",
        "from tensorflow.keras.layers import Input, Dense"
      ],
      "execution_count": 14,
      "outputs": []
    },
    {
      "cell_type": "code",
      "metadata": {
        "id": "KyWnx5pNd3_b",
        "colab": {
          "base_uri": "https://localhost:8080/"
        },
        "outputId": "d238a7ac-662b-46c6-85fe-c3d6d0bb3a38"
      },
      "source": [
        "# Definimos la arquitectura\n",
        "# Definimos arquitectura\n",
        "input_layer = Input(shape=(X_train_vector.shape[1],))\n",
        "hidden_layer = Dense(32, activation=\"relu\")(input_layer)\n",
        "output_layer = Dense(num_clases, activation=\"softmax\")(hidden_layer)\n",
        "\n",
        "model = Model(inputs=input_layer, outputs=output_layer)\n",
        "model.summary()"
      ],
      "execution_count": 15,
      "outputs": [
        {
          "output_type": "stream",
          "name": "stdout",
          "text": [
            "Model: \"model\"\n",
            "_________________________________________________________________\n",
            " Layer (type)                Output Shape              Param #   \n",
            "=================================================================\n",
            " input_1 (InputLayer)        [(None, 784)]             0         \n",
            "                                                                 \n",
            " dense (Dense)               (None, 32)                25120     \n",
            "                                                                 \n",
            " dense_1 (Dense)             (None, 10)                330       \n",
            "                                                                 \n",
            "=================================================================\n",
            "Total params: 25,450\n",
            "Trainable params: 25,450\n",
            "Non-trainable params: 0\n",
            "_________________________________________________________________\n"
          ]
        }
      ]
    },
    {
      "cell_type": "code",
      "metadata": {
        "id": "ehdQg2sceUkm"
      },
      "source": [
        "# Compilamos el modelo\n",
        "model.compile(loss=\"categorical_crossentropy\", optimizer=\"adam\",\n",
        "              metrics=[\"accuracy\"])"
      ],
      "execution_count": 16,
      "outputs": []
    },
    {
      "cell_type": "markdown",
      "metadata": {
        "id": "NuO7Sypvetf3"
      },
      "source": [
        "# 4. Entrenamiento de un modelo"
      ]
    },
    {
      "cell_type": "code",
      "metadata": {
        "id": "2ONkOOPQer3k",
        "colab": {
          "base_uri": "https://localhost:8080/",
          "height": 677
        },
        "outputId": "d10f2de1-4310-4cbc-98c9-51ee490f2e51"
      },
      "source": [
        "history = model.fit(X_train_vector, y_train_cod, epochs=20, batch_size=128,\n",
        "                    validation_data=(X_val, y_val))"
      ],
      "execution_count": 17,
      "outputs": [
        {
          "output_type": "stream",
          "name": "stdout",
          "text": [
            "Epoch 1/20\n",
            "469/469 [==============================] - 4s 3ms/step - loss: 0.5278 - accuracy: 0.8568 - val_loss: 0.3456 - val_accuracy: 0.9000\n",
            "Epoch 2/20\n",
            "469/469 [==============================] - 1s 3ms/step - loss: 0.2377 - accuracy: 0.9325 - val_loss: 0.2584 - val_accuracy: 0.9236\n",
            "Epoch 3/20\n",
            "469/469 [==============================] - 1s 3ms/step - loss: 0.1889 - accuracy: 0.9460 - val_loss: 0.2225 - val_accuracy: 0.9340\n",
            "Epoch 4/20\n",
            "469/469 [==============================] - 1s 3ms/step - loss: 0.1610 - accuracy: 0.9541 - val_loss: 0.1966 - val_accuracy: 0.9386\n",
            "Epoch 5/20\n",
            "469/469 [==============================] - 1s 3ms/step - loss: 0.1422 - accuracy: 0.9594 - val_loss: 0.1817 - val_accuracy: 0.9450\n",
            "Epoch 6/20\n",
            "469/469 [==============================] - 1s 3ms/step - loss: 0.1281 - accuracy: 0.9628 - val_loss: 0.1696 - val_accuracy: 0.9472\n",
            "Epoch 7/20\n",
            "469/469 [==============================] - 1s 3ms/step - loss: 0.1162 - accuracy: 0.9662 - val_loss: 0.1609 - val_accuracy: 0.9514\n",
            "Epoch 8/20\n",
            "469/469 [==============================] - 1s 3ms/step - loss: 0.1069 - accuracy: 0.9688 - val_loss: 0.1573 - val_accuracy: 0.9530\n",
            "Epoch 9/20\n",
            "469/469 [==============================] - 1s 3ms/step - loss: 0.0993 - accuracy: 0.9715 - val_loss: 0.1478 - val_accuracy: 0.9532\n",
            "Epoch 10/20\n",
            "390/469 [=======================>......] - ETA: 0s - loss: 0.0914 - accuracy: 0.9727"
          ]
        },
        {
          "output_type": "error",
          "ename": "KeyboardInterrupt",
          "evalue": "ignored",
          "traceback": [
            "\u001b[0;31m---------------------------------------------------------------------------\u001b[0m",
            "\u001b[0;31mKeyboardInterrupt\u001b[0m                         Traceback (most recent call last)",
            "\u001b[0;32m<ipython-input-17-e7a0f8a7d10e>\u001b[0m in \u001b[0;36m<module>\u001b[0;34m\u001b[0m\n\u001b[0;32m----> 1\u001b[0;31m history = model.fit(X_train_vector, y_train_cod, epochs=20, batch_size=128,\n\u001b[0m\u001b[1;32m      2\u001b[0m                     validation_data=(X_val, y_val))\n",
            "\u001b[0;32m/usr/local/lib/python3.8/dist-packages/keras/utils/traceback_utils.py\u001b[0m in \u001b[0;36merror_handler\u001b[0;34m(*args, **kwargs)\u001b[0m\n\u001b[1;32m     62\u001b[0m     \u001b[0mfiltered_tb\u001b[0m \u001b[0;34m=\u001b[0m \u001b[0;32mNone\u001b[0m\u001b[0;34m\u001b[0m\u001b[0;34m\u001b[0m\u001b[0m\n\u001b[1;32m     63\u001b[0m     \u001b[0;32mtry\u001b[0m\u001b[0;34m:\u001b[0m\u001b[0;34m\u001b[0m\u001b[0;34m\u001b[0m\u001b[0m\n\u001b[0;32m---> 64\u001b[0;31m       \u001b[0;32mreturn\u001b[0m \u001b[0mfn\u001b[0m\u001b[0;34m(\u001b[0m\u001b[0;34m*\u001b[0m\u001b[0margs\u001b[0m\u001b[0;34m,\u001b[0m \u001b[0;34m**\u001b[0m\u001b[0mkwargs\u001b[0m\u001b[0;34m)\u001b[0m\u001b[0;34m\u001b[0m\u001b[0;34m\u001b[0m\u001b[0m\n\u001b[0m\u001b[1;32m     65\u001b[0m     \u001b[0;32mexcept\u001b[0m \u001b[0mException\u001b[0m \u001b[0;32mas\u001b[0m \u001b[0me\u001b[0m\u001b[0;34m:\u001b[0m  \u001b[0;31m# pylint: disable=broad-except\u001b[0m\u001b[0;34m\u001b[0m\u001b[0;34m\u001b[0m\u001b[0m\n\u001b[1;32m     66\u001b[0m       \u001b[0mfiltered_tb\u001b[0m \u001b[0;34m=\u001b[0m \u001b[0m_process_traceback_frames\u001b[0m\u001b[0;34m(\u001b[0m\u001b[0me\u001b[0m\u001b[0;34m.\u001b[0m\u001b[0m__traceback__\u001b[0m\u001b[0;34m)\u001b[0m\u001b[0;34m\u001b[0m\u001b[0;34m\u001b[0m\u001b[0m\n",
            "\u001b[0;32m/usr/local/lib/python3.8/dist-packages/keras/engine/training.py\u001b[0m in \u001b[0;36mfit\u001b[0;34m(self, x, y, batch_size, epochs, verbose, callbacks, validation_split, validation_data, shuffle, class_weight, sample_weight, initial_epoch, steps_per_epoch, validation_steps, validation_batch_size, validation_freq, max_queue_size, workers, use_multiprocessing)\u001b[0m\n\u001b[1;32m   1407\u001b[0m                 _r=1):\n\u001b[1;32m   1408\u001b[0m               \u001b[0mcallbacks\u001b[0m\u001b[0;34m.\u001b[0m\u001b[0mon_train_batch_begin\u001b[0m\u001b[0;34m(\u001b[0m\u001b[0mstep\u001b[0m\u001b[0;34m)\u001b[0m\u001b[0;34m\u001b[0m\u001b[0;34m\u001b[0m\u001b[0m\n\u001b[0;32m-> 1409\u001b[0;31m               \u001b[0mtmp_logs\u001b[0m \u001b[0;34m=\u001b[0m \u001b[0mself\u001b[0m\u001b[0;34m.\u001b[0m\u001b[0mtrain_function\u001b[0m\u001b[0;34m(\u001b[0m\u001b[0miterator\u001b[0m\u001b[0;34m)\u001b[0m\u001b[0;34m\u001b[0m\u001b[0;34m\u001b[0m\u001b[0m\n\u001b[0m\u001b[1;32m   1410\u001b[0m               \u001b[0;32mif\u001b[0m \u001b[0mdata_handler\u001b[0m\u001b[0;34m.\u001b[0m\u001b[0mshould_sync\u001b[0m\u001b[0;34m:\u001b[0m\u001b[0;34m\u001b[0m\u001b[0;34m\u001b[0m\u001b[0m\n\u001b[1;32m   1411\u001b[0m                 \u001b[0mcontext\u001b[0m\u001b[0;34m.\u001b[0m\u001b[0masync_wait\u001b[0m\u001b[0;34m(\u001b[0m\u001b[0;34m)\u001b[0m\u001b[0;34m\u001b[0m\u001b[0;34m\u001b[0m\u001b[0m\n",
            "\u001b[0;32m/usr/local/lib/python3.8/dist-packages/tensorflow/python/util/traceback_utils.py\u001b[0m in \u001b[0;36merror_handler\u001b[0;34m(*args, **kwargs)\u001b[0m\n\u001b[1;32m    148\u001b[0m     \u001b[0mfiltered_tb\u001b[0m \u001b[0;34m=\u001b[0m \u001b[0;32mNone\u001b[0m\u001b[0;34m\u001b[0m\u001b[0;34m\u001b[0m\u001b[0m\n\u001b[1;32m    149\u001b[0m     \u001b[0;32mtry\u001b[0m\u001b[0;34m:\u001b[0m\u001b[0;34m\u001b[0m\u001b[0;34m\u001b[0m\u001b[0m\n\u001b[0;32m--> 150\u001b[0;31m       \u001b[0;32mreturn\u001b[0m \u001b[0mfn\u001b[0m\u001b[0;34m(\u001b[0m\u001b[0;34m*\u001b[0m\u001b[0margs\u001b[0m\u001b[0;34m,\u001b[0m \u001b[0;34m**\u001b[0m\u001b[0mkwargs\u001b[0m\u001b[0;34m)\u001b[0m\u001b[0;34m\u001b[0m\u001b[0;34m\u001b[0m\u001b[0m\n\u001b[0m\u001b[1;32m    151\u001b[0m     \u001b[0;32mexcept\u001b[0m \u001b[0mException\u001b[0m \u001b[0;32mas\u001b[0m \u001b[0me\u001b[0m\u001b[0;34m:\u001b[0m\u001b[0;34m\u001b[0m\u001b[0;34m\u001b[0m\u001b[0m\n\u001b[1;32m    152\u001b[0m       \u001b[0mfiltered_tb\u001b[0m \u001b[0;34m=\u001b[0m \u001b[0m_process_traceback_frames\u001b[0m\u001b[0;34m(\u001b[0m\u001b[0me\u001b[0m\u001b[0;34m.\u001b[0m\u001b[0m__traceback__\u001b[0m\u001b[0;34m)\u001b[0m\u001b[0;34m\u001b[0m\u001b[0;34m\u001b[0m\u001b[0m\n",
            "\u001b[0;32m/usr/local/lib/python3.8/dist-packages/tensorflow/python/eager/def_function.py\u001b[0m in \u001b[0;36m__call__\u001b[0;34m(self, *args, **kwds)\u001b[0m\n\u001b[1;32m    913\u001b[0m \u001b[0;34m\u001b[0m\u001b[0m\n\u001b[1;32m    914\u001b[0m       \u001b[0;32mwith\u001b[0m \u001b[0mOptionalXlaContext\u001b[0m\u001b[0;34m(\u001b[0m\u001b[0mself\u001b[0m\u001b[0;34m.\u001b[0m\u001b[0m_jit_compile\u001b[0m\u001b[0;34m)\u001b[0m\u001b[0;34m:\u001b[0m\u001b[0;34m\u001b[0m\u001b[0;34m\u001b[0m\u001b[0m\n\u001b[0;32m--> 915\u001b[0;31m         \u001b[0mresult\u001b[0m \u001b[0;34m=\u001b[0m \u001b[0mself\u001b[0m\u001b[0;34m.\u001b[0m\u001b[0m_call\u001b[0m\u001b[0;34m(\u001b[0m\u001b[0;34m*\u001b[0m\u001b[0margs\u001b[0m\u001b[0;34m,\u001b[0m \u001b[0;34m**\u001b[0m\u001b[0mkwds\u001b[0m\u001b[0;34m)\u001b[0m\u001b[0;34m\u001b[0m\u001b[0;34m\u001b[0m\u001b[0m\n\u001b[0m\u001b[1;32m    916\u001b[0m \u001b[0;34m\u001b[0m\u001b[0m\n\u001b[1;32m    917\u001b[0m       \u001b[0mnew_tracing_count\u001b[0m \u001b[0;34m=\u001b[0m \u001b[0mself\u001b[0m\u001b[0;34m.\u001b[0m\u001b[0mexperimental_get_tracing_count\u001b[0m\u001b[0;34m(\u001b[0m\u001b[0;34m)\u001b[0m\u001b[0;34m\u001b[0m\u001b[0;34m\u001b[0m\u001b[0m\n",
            "\u001b[0;32m/usr/local/lib/python3.8/dist-packages/tensorflow/python/eager/def_function.py\u001b[0m in \u001b[0;36m_call\u001b[0;34m(self, *args, **kwds)\u001b[0m\n\u001b[1;32m    945\u001b[0m       \u001b[0;31m# In this case we have created variables on the first call, so we run the\u001b[0m\u001b[0;34m\u001b[0m\u001b[0;34m\u001b[0m\u001b[0;34m\u001b[0m\u001b[0m\n\u001b[1;32m    946\u001b[0m       \u001b[0;31m# defunned version which is guaranteed to never create variables.\u001b[0m\u001b[0;34m\u001b[0m\u001b[0;34m\u001b[0m\u001b[0;34m\u001b[0m\u001b[0m\n\u001b[0;32m--> 947\u001b[0;31m       \u001b[0;32mreturn\u001b[0m \u001b[0mself\u001b[0m\u001b[0;34m.\u001b[0m\u001b[0m_stateless_fn\u001b[0m\u001b[0;34m(\u001b[0m\u001b[0;34m*\u001b[0m\u001b[0margs\u001b[0m\u001b[0;34m,\u001b[0m \u001b[0;34m**\u001b[0m\u001b[0mkwds\u001b[0m\u001b[0;34m)\u001b[0m  \u001b[0;31m# pylint: disable=not-callable\u001b[0m\u001b[0;34m\u001b[0m\u001b[0;34m\u001b[0m\u001b[0m\n\u001b[0m\u001b[1;32m    948\u001b[0m     \u001b[0;32melif\u001b[0m \u001b[0mself\u001b[0m\u001b[0;34m.\u001b[0m\u001b[0m_stateful_fn\u001b[0m \u001b[0;32mis\u001b[0m \u001b[0;32mnot\u001b[0m \u001b[0;32mNone\u001b[0m\u001b[0;34m:\u001b[0m\u001b[0;34m\u001b[0m\u001b[0;34m\u001b[0m\u001b[0m\n\u001b[1;32m    949\u001b[0m       \u001b[0;31m# Release the lock early so that multiple threads can perform the call\u001b[0m\u001b[0;34m\u001b[0m\u001b[0;34m\u001b[0m\u001b[0;34m\u001b[0m\u001b[0m\n",
            "\u001b[0;32m/usr/local/lib/python3.8/dist-packages/tensorflow/python/eager/function.py\u001b[0m in \u001b[0;36m__call__\u001b[0;34m(self, *args, **kwargs)\u001b[0m\n\u001b[1;32m   2451\u001b[0m       (graph_function,\n\u001b[1;32m   2452\u001b[0m        filtered_flat_args) = self._maybe_define_function(args, kwargs)\n\u001b[0;32m-> 2453\u001b[0;31m     return graph_function._call_flat(\n\u001b[0m\u001b[1;32m   2454\u001b[0m         filtered_flat_args, captured_inputs=graph_function.captured_inputs)  # pylint: disable=protected-access\n\u001b[1;32m   2455\u001b[0m \u001b[0;34m\u001b[0m\u001b[0m\n",
            "\u001b[0;32m/usr/local/lib/python3.8/dist-packages/tensorflow/python/eager/function.py\u001b[0m in \u001b[0;36m_call_flat\u001b[0;34m(self, args, captured_inputs, cancellation_manager)\u001b[0m\n\u001b[1;32m   1858\u001b[0m         and executing_eagerly):\n\u001b[1;32m   1859\u001b[0m       \u001b[0;31m# No tape is watching; skip to running the function.\u001b[0m\u001b[0;34m\u001b[0m\u001b[0;34m\u001b[0m\u001b[0;34m\u001b[0m\u001b[0m\n\u001b[0;32m-> 1860\u001b[0;31m       return self._build_call_outputs(self._inference_function.call(\n\u001b[0m\u001b[1;32m   1861\u001b[0m           ctx, args, cancellation_manager=cancellation_manager))\n\u001b[1;32m   1862\u001b[0m     forward_backward = self._select_forward_and_backward_functions(\n",
            "\u001b[0;32m/usr/local/lib/python3.8/dist-packages/tensorflow/python/eager/function.py\u001b[0m in \u001b[0;36mcall\u001b[0;34m(self, ctx, args, cancellation_manager)\u001b[0m\n\u001b[1;32m    495\u001b[0m       \u001b[0;32mwith\u001b[0m \u001b[0m_InterpolateFunctionError\u001b[0m\u001b[0;34m(\u001b[0m\u001b[0mself\u001b[0m\u001b[0;34m)\u001b[0m\u001b[0;34m:\u001b[0m\u001b[0;34m\u001b[0m\u001b[0;34m\u001b[0m\u001b[0m\n\u001b[1;32m    496\u001b[0m         \u001b[0;32mif\u001b[0m \u001b[0mcancellation_manager\u001b[0m \u001b[0;32mis\u001b[0m \u001b[0;32mNone\u001b[0m\u001b[0;34m:\u001b[0m\u001b[0;34m\u001b[0m\u001b[0;34m\u001b[0m\u001b[0m\n\u001b[0;32m--> 497\u001b[0;31m           outputs = execute.execute(\n\u001b[0m\u001b[1;32m    498\u001b[0m               \u001b[0mstr\u001b[0m\u001b[0;34m(\u001b[0m\u001b[0mself\u001b[0m\u001b[0;34m.\u001b[0m\u001b[0msignature\u001b[0m\u001b[0;34m.\u001b[0m\u001b[0mname\u001b[0m\u001b[0;34m)\u001b[0m\u001b[0;34m,\u001b[0m\u001b[0;34m\u001b[0m\u001b[0;34m\u001b[0m\u001b[0m\n\u001b[1;32m    499\u001b[0m               \u001b[0mnum_outputs\u001b[0m\u001b[0;34m=\u001b[0m\u001b[0mself\u001b[0m\u001b[0;34m.\u001b[0m\u001b[0m_num_outputs\u001b[0m\u001b[0;34m,\u001b[0m\u001b[0;34m\u001b[0m\u001b[0;34m\u001b[0m\u001b[0m\n",
            "\u001b[0;32m/usr/local/lib/python3.8/dist-packages/tensorflow/python/eager/execute.py\u001b[0m in \u001b[0;36mquick_execute\u001b[0;34m(op_name, num_outputs, inputs, attrs, ctx, name)\u001b[0m\n\u001b[1;32m     52\u001b[0m   \u001b[0;32mtry\u001b[0m\u001b[0;34m:\u001b[0m\u001b[0;34m\u001b[0m\u001b[0;34m\u001b[0m\u001b[0m\n\u001b[1;32m     53\u001b[0m     \u001b[0mctx\u001b[0m\u001b[0;34m.\u001b[0m\u001b[0mensure_initialized\u001b[0m\u001b[0;34m(\u001b[0m\u001b[0;34m)\u001b[0m\u001b[0;34m\u001b[0m\u001b[0;34m\u001b[0m\u001b[0m\n\u001b[0;32m---> 54\u001b[0;31m     tensors = pywrap_tfe.TFE_Py_Execute(ctx._handle, device_name, op_name,\n\u001b[0m\u001b[1;32m     55\u001b[0m                                         inputs, attrs, num_outputs)\n\u001b[1;32m     56\u001b[0m   \u001b[0;32mexcept\u001b[0m \u001b[0mcore\u001b[0m\u001b[0;34m.\u001b[0m\u001b[0m_NotOkStatusException\u001b[0m \u001b[0;32mas\u001b[0m \u001b[0me\u001b[0m\u001b[0;34m:\u001b[0m\u001b[0;34m\u001b[0m\u001b[0;34m\u001b[0m\u001b[0m\n",
            "\u001b[0;31mKeyboardInterrupt\u001b[0m: "
          ]
        }
      ]
    },
    {
      "cell_type": "markdown",
      "metadata": {
        "id": "PEbi2c1Ggb0c"
      },
      "source": [
        "Cosas a observar:\n",
        "\n",
        "Métricas entrenamiento\n",
        "Métricas validacón\n",
        "¿Sobreajuste?"
      ]
    },
    {
      "cell_type": "code",
      "metadata": {
        "id": "whQQnSA9gGJ7"
      },
      "source": [
        "# Visualizamos la precisión\n",
        "import matplotlib.pyplot as plt\n",
        "plt.plot(history.history['accuracy'])\n",
        "plt.plot(history.history['val_accuracy'])\n",
        "plt.title('Precisión modelo')\n",
        "plt.ylabel('Precisión')\n",
        "plt.xlabel('Época')\n",
        "plt.legend(['Entrenamiento', 'Validación'], loc=\"lower right\")\n",
        "plt.show()"
      ],
      "execution_count": null,
      "outputs": []
    },
    {
      "cell_type": "code",
      "metadata": {
        "id": "ygwwFTrxgew7"
      },
      "source": [
        "# Visualizamos pérdidas\n",
        "plt.plot(history.history['loss'])\n",
        "plt.plot(history.history['val_loss'])\n",
        "plt.title('Pérdidas modelo')\n",
        "plt.ylabel('Pérdidas')\n",
        "plt.xlabel('Época')\n",
        "plt.legend(['Entrenamiento', 'Validación'], loc=\"upper left\")\n",
        "plt.show()"
      ],
      "execution_count": null,
      "outputs": []
    },
    {
      "cell_type": "code",
      "metadata": {
        "id": "GLqG7g5xgtIg"
      },
      "source": [
        "# Guardamos el modelo\n",
        "from pathlib import Path\n",
        "path_modelos = Path('./modelos')\n",
        "path_modelos.mkdir(exist_ok=True)\n",
        "model.save(path_modelos / 'model_mnist.h5')"
      ],
      "execution_count": null,
      "outputs": []
    },
    {
      "cell_type": "markdown",
      "metadata": {
        "id": "VS_2uFMphIid"
      },
      "source": [
        "# 5. Evaluamos el modelo"
      ]
    },
    {
      "cell_type": "code",
      "metadata": {
        "id": "wREq19jahFS6"
      },
      "source": [
        "# Sacamos métricas sobre nuestro conjunto de test\n",
        "metrics = model.evaluate(X_test, y_test, verbose=0)\n",
        "print(\"Precision test: \", metrics[1])"
      ],
      "execution_count": null,
      "outputs": []
    },
    {
      "cell_type": "code",
      "metadata": {
        "id": "ak9Mpndohdds"
      },
      "source": [
        "# Obtenemos predicciones \n",
        "prediccion = model.predict(X_test)\n",
        "# Cogemos la clase con mayor probabilidad\n",
        "prediccion = np.argmax(prediccion, axis=1)"
      ],
      "execution_count": null,
      "outputs": []
    },
    {
      "cell_type": "code",
      "metadata": {
        "id": "ydaKcZBDiW6N"
      },
      "source": [
        "# Deshacemos codificación one-hot en conjunto de test\n",
        "y_test_clases = np.argmax(y_test, axis=1)"
      ],
      "execution_count": null,
      "outputs": []
    },
    {
      "cell_type": "code",
      "metadata": {
        "id": "E-xGq2-EijVC"
      },
      "source": [
        "# Detectamos imágenes correctamente clasificadas\n",
        "correct_index = np.nonzero(prediccion == y_test_clases)[0]"
      ],
      "execution_count": null,
      "outputs": []
    },
    {
      "cell_type": "code",
      "metadata": {
        "id": "rUhnUxgBiv_r"
      },
      "source": [
        "# Detectamos imágenes incorrectamente clasificadas\n",
        "incorrect_index = np.nonzero(prediccion != y_test_clases)[0]"
      ],
      "execution_count": null,
      "outputs": []
    },
    {
      "cell_type": "code",
      "metadata": {
        "id": "HpSLcnAli48F"
      },
      "source": [
        "# Mostramos imágenes correctamente clasificadas\n",
        "plt.figure()\n",
        "for i, correct in enumerate(correct_index[:9]):\n",
        "  plt.subplot(3, 3, i+1)\n",
        "  plt.imshow(X_test[correct].reshape(28,28), cmap='gray')\n",
        "  plt.title(f'Real {y_test_clases[correct]}, Predicha {prediccion[correct]}')"
      ],
      "execution_count": null,
      "outputs": []
    },
    {
      "cell_type": "code",
      "metadata": {
        "id": "ua1pLyTTjwCg"
      },
      "source": [
        "# Mostramos imágenes incorrectamente clasificadas\n",
        "plt.figure()\n",
        "for i, incorrect in enumerate(incorrect_index[:9]):\n",
        "  plt.subplot(3, 3, i+1)\n",
        "  plt.imshow(X_test[incorrect].reshape(28,28), cmap='gray')\n",
        "  plt.title(f'Real {y_test_clases[incorrect]}, Predicha {prediccion[incorrect]}')"
      ],
      "execution_count": null,
      "outputs": []
    },
    {
      "cell_type": "markdown",
      "metadata": {
        "id": "ACTQQG5xddc4"
      },
      "source": [
        "# Ejercicio 1: Probamos diferentes funciones de activación\n",
        "\n",
        "Analizamos cómo afecta el uso de diferentes funciones de activación en la capa oculta. Probamos las siguientes:\n",
        "\n",
        "*   Sin función de activación\n",
        "*   Sigmoid\n",
        "*   Tanh\n",
        "*   Relu\n",
        "\n",
        "\n"
      ]
    },
    {
      "cell_type": "code",
      "metadata": {
        "id": "nr3wXVI15wvD"
      },
      "source": [
        "def crear_modelo(act):\n",
        "  input_layer = Input(shape=(X_train_vector.shape[1],))\n",
        "  hidden_layer = Dense(32, activation=act)(input_layer)\n",
        "  output_layer = Dense(num_clases, activation=\"softmax\")(hidden_layer)\n",
        "  model = Model(inputs=input_layer, outputs=output_layer)\n",
        "  return model\n",
        "\n",
        "activacion=[None,\"sigmoid\",\"tanh\",\"relu\"]\n",
        "history_ = {}\n",
        "for act in activacion:\n",
        "  crear_modelo(act)\n",
        "  model.compile(loss=\"categorical_crossentropy\", optimizer=\"adam\",\n",
        "              metrics=[\"accuracy\"])\n",
        "  history_[str(act)] = model.fit(X_train_vector, y_train_cod, epochs=20, batch_size=128,\n",
        "                    validation_data=(X_val, y_val),verbose=0)\n",
        "  # Visualizamos la precisión\n",
        "  import matplotlib.pyplot as plt\n",
        "  plt.plot(history_[str(act)].history['accuracy'])\n",
        "  plt.plot(history_[str(act)].history['val_accuracy'])\n",
        "  plt.title('Precisión modelo')\n",
        "  plt.ylabel('Precisión')\n",
        "  plt.xlabel('Época')\n",
        "  plt.title(act)\n",
        "  plt.legend(['Entrenamiento', 'Validación'], loc=\"lower right\")\n",
        "  plt.show()\n",
        "\n",
        "\n",
        "  "
      ],
      "execution_count": null,
      "outputs": []
    },
    {
      "cell_type": "markdown",
      "metadata": {
        "id": "fW1RIZ43lR7d"
      },
      "source": [
        "# Ejercicio 2: Creamos un modelo más complejo\n",
        "Para aumentar la complejidad del modelo añadimos una capa oculta de 512 neuronas"
      ]
    },
    {
      "cell_type": "code",
      "metadata": {
        "id": "drSXozl45wBK"
      },
      "source": [
        "# Definimos la arquitectura\n",
        "# Definimos arquitectura\n",
        "input_layer = Input(shape=(X_train_vector.shape[1],))\n",
        "hidden_layer = Dense(512, activation=\"relu\")(input_layer)\n",
        "output_layer = Dense(num_clases, activation=\"softmax\")(hidden_layer)\n",
        "\n",
        "model_comp = Model(inputs=input_layer, outputs=output_layer)\n",
        "model.summary()\n",
        "\n",
        "model_comp.compile(loss=\"categorical_crossentropy\", optimizer=\"adam\",\n",
        "            metrics=[\"accuracy\"])\n",
        "history_compleja = model_comp.fit(X_train_vector, y_train_cod, epochs=20, batch_size=128,\n",
        "                    validation_data=(X_val, y_val),verbose=0)\n",
        "\n",
        "plt.plot(history_compleja.history['accuracy'])\n",
        "plt.plot(history_compleja.history['val_accuracy'])\n",
        "plt.title('Precisión modelo')\n",
        "plt.ylabel('Precisión')\n",
        "plt.xlabel('Época')\n",
        "plt.title(act)\n",
        "plt.legend(['Entrenamiento', 'Validación'], loc=\"lower right\")\n",
        "plt.show()"
      ],
      "execution_count": null,
      "outputs": []
    },
    {
      "cell_type": "code",
      "source": [
        "# Visualizamos pérdidas\n",
        "plt.plot(history_compleja.history['loss'])\n",
        "plt.plot(history_compleja.history['val_loss'])\n",
        "plt.title('Pérdidas modelo')\n",
        "plt.ylabel('Pérdidas')\n",
        "plt.xlabel('Época')\n",
        "plt.legend(['Entrenamiento', 'Validación'], loc=\"upper left\")\n",
        "plt.show()"
      ],
      "metadata": {
        "id": "aY-pGunSz0Y3"
      },
      "execution_count": null,
      "outputs": []
    },
    {
      "cell_type": "markdown",
      "metadata": {
        "id": "c7C9hCFknFSA"
      },
      "source": [
        "# Ejercicio 3: Entrenamos un modelo con la base de datos CIFAR10"
      ]
    },
    {
      "cell_type": "code",
      "metadata": {
        "id": "xcZjARMQ51jU"
      },
      "source": [
        "from keras.datasets import cifar10"
      ],
      "execution_count": 18,
      "outputs": []
    },
    {
      "cell_type": "code",
      "source": [
        "(X_train, y_train), (X_test, y_test) = cifar10.load_data()\n",
        "X_train = X_train.astype('float32')\n",
        "X_test = X_test.astype('float32')\n",
        "X_train = X_train / 255.0\n",
        "X_test = X_test / 255.0\n",
        "from keras.utils import np_utils\n",
        "y_train = np_utils.to_categorical(y_train)\n",
        "y_test = np_utils.to_categorical(y_test)\n",
        "from keras.models import Sequential\n",
        "\n",
        "from keras.layers import Dense, Dropout, Activation, Flatten\n",
        "\n",
        "from keras.layers import Conv2D, MaxPooling2D\n",
        "from keras.optimizers import SGD\n",
        "from keras.callbacks import LearningRateScheduler\n",
        "from keras.preprocessing.image import ImageDataGenerator\n",
        "model = Sequential()\n",
        "\n",
        "model.add(Conv2D(32, (3, 3), padding='same',input_shape=X_train.shape[1:]))\n",
        "\n",
        "model.add(Activation('relu'))\n",
        "model.add(Conv2D(32, (3, 3)))\n",
        "model.add(Activation('relu'))\n",
        "\n",
        "model.add(MaxPooling2D(pool_size=(2, 2)))\n",
        "\n",
        "model.add(Flatten())\n",
        "model.add(Dense(10))\n",
        "model.add(Activation('softmax'))\n",
        "sgd = SGD(lr=0.01, decay=1e-6, momentum=0.9, nesterov=True)\n",
        "model.compile(loss='categorical_crossentropy',optimizer=\"adam\",\n",
        "            metrics=[\"accuracy\"])\n",
        "history_cifar = model.fit(X_train, y_train, batch_size=32, epochs=5, validation_data=(X_test, y_test))\n",
        "score = model.evaluate(X_test, y_test, verbose=0)\n",
        "\n",
        "plt.plot(history_cifar.history['accuracy'])\n",
        "plt.plot(history_cifar.history['loss'])\n",
        "plt.title('Pérdidas modelo')\n",
        "plt.ylabel('Pérdidas')\n",
        "plt.xlabel('Época')\n",
        "plt.legend(['Accuracy', 'Perdida'], loc=\"upper left\")\n",
        "plt.show()\n",
        "print('Test loss:', score[0])\n",
        "print('Test accuracy:', score[1])\n",
        "model.save('model.h5')\n",
        "\n",
        "\n",
        "\n"
      ],
      "metadata": {
        "colab": {
          "base_uri": "https://localhost:8080/",
          "height": 922
        },
        "id": "nhIZS24W3nsV",
        "outputId": "38a553b0-4177-4e53-f439-0a8e957e35bf"
      },
      "execution_count": 19,
      "outputs": [
        {
          "output_type": "stream",
          "name": "stdout",
          "text": [
            "Downloading data from https://www.cs.toronto.edu/~kriz/cifar-10-python.tar.gz\n",
            "170498071/170498071 [==============================] - 15s 0us/step\n"
          ]
        },
        {
          "output_type": "stream",
          "name": "stderr",
          "text": [
            "/usr/local/lib/python3.8/dist-packages/keras/optimizers/optimizer_v2/gradient_descent.py:108: UserWarning: The `lr` argument is deprecated, use `learning_rate` instead.\n",
            "  super(SGD, self).__init__(name, **kwargs)\n"
          ]
        },
        {
          "output_type": "stream",
          "name": "stdout",
          "text": [
            "Epoch 1/5\n",
            "1563/1563 [==============================] - 13s 5ms/step - loss: 1.3429 - accuracy: 0.5263 - val_loss: 1.0826 - val_accuracy: 0.6234\n",
            "Epoch 2/5\n",
            "1563/1563 [==============================] - 7s 4ms/step - loss: 1.0126 - accuracy: 0.6499 - val_loss: 1.0158 - val_accuracy: 0.6537\n",
            "Epoch 3/5\n",
            "1563/1563 [==============================] - 7s 5ms/step - loss: 0.9078 - accuracy: 0.6881 - val_loss: 0.9705 - val_accuracy: 0.6665\n",
            "Epoch 4/5\n",
            "1563/1563 [==============================] - 7s 4ms/step - loss: 0.8359 - accuracy: 0.7130 - val_loss: 0.9570 - val_accuracy: 0.6736\n",
            "Epoch 5/5\n",
            "1563/1563 [==============================] - 7s 4ms/step - loss: 0.7825 - accuracy: 0.7292 - val_loss: 0.9583 - val_accuracy: 0.6753\n"
          ]
        },
        {
          "output_type": "display_data",
          "data": {
            "text/plain": [
              "<Figure size 720x720 with 1 Axes>"
            ],
            "image/png": "[encoded data removed]"
          },
          "metadata": {
            "needs_background": "light"
          }
        },
        {
          "output_type": "stream",
          "name": "stdout",
          "text": [
            "Test loss: 0.9582804441452026\n",
            "Test accuracy: 0.6753000020980835\n"
          ]
        }
      ]
    }
  ]
}