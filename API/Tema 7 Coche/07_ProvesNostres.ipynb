{
 "cells": [
  {
   "cell_type": "markdown",
   "id": "affected-bride",
   "metadata": {},
   "source": [
    "# Instrucciones\n",
    "\n",
    "Conectar el mando al Jetracer, configurar constantes y ejecutar el cuaderno.\n",
    "\n",
    "La pantalla del Jetracer muestra los ajustes de velocidad máxima / desplazamiento de la dirección.\n",
    "\n",
    "## Controles\n",
    "\n",
    "* **`Joystick izquierdo`**: velocidad\n",
    "* **`Joystick derecho`**: dirección\n",
    "* **`Y`/`A`**: velocidad máxima\n",
    "* **`B`/`X`**: corrección desplazamiento dirección\n",
    "* **`LT`**: graba vídeo / detiene grabación\n",
    "* **`SELECT`**: modo conducción manual\n",
    "* **`START`**: modo conducción IA\n",
    "* **`LT2 + RT2`**: sale del bucle de control (por si queremos hacer cambios en el cuaderno y reejecutar)\n",
    "\n",
    "# TODO\n",
    "- Evento \"DESCONEXIÓN\" del mando?\n",
    "- Poder hacer cambios en el cuaderno sin tener que reiniciar kernel\n"
   ]
  },
  {
   "cell_type": "code",
   "execution_count": 1,
   "id": "faced-collapse",
   "metadata": {},
   "outputs": [],
   "source": [
    "from datetime import datetime\n",
    "import time\n",
    "import threading\n",
    "\n",
    "import cv2\n",
    "import ipywidgets\n",
    "import numpy as np\n",
    "import requests\n",
    "import torch\n",
    "import torchvision\n",
    "from inputs import get_gamepad\n",
    "from IPython.display import display\n",
    "from jetcam.csi_camera import CSICamera\n",
    "from jetcam.utils import bgr8_to_jpeg\n",
    "from jetracer.nvidia_racecar import NvidiaRacecar\n",
    "from matplotlib import pyplot as plt\n",
    "from torch2trt import TRTModule\n",
    "\n",
    "from pathlib import Path"
   ]
  },
  {
   "cell_type": "markdown",
   "id": "focused-canal",
   "metadata": {},
   "source": [
    "# Constants\n",
    "\n",
    "* **`STEERING_OFFSET`**: usar el modo de conducción manual y los botones `X`/`B` para corregir el error en la dirección según el valor mostrado en la pantalla del Jetracer.\n",
    "* **`FPS`**: recomendado 15 para conducción IA y grabación de vídeo simultánea\n",
    "* **`THROTTLE_GAIN`**: recomendado 0.15 para la pista oval de Waveshare\n",
    "* **`PREVIEW`**: muestra predicciones en tiempo real en Jupyer Lab\n",
    "* **`MODEL`**: nombre del modelo. Debe estar en el directorio `models`. Sin sufijo `_trt.pth`"
   ]
  },
  {
   "cell_type": "code",
   "execution_count": 2,
   "id": "heard-relationship",
   "metadata": {},
   "outputs": [],
   "source": [
    "CAP_WIDTH = 640 #960\n",
    "CAP_HEIGHT = 480 #540\n",
    "SZ = 224\n",
    "FPS = 1\n",
    "THROTTLE_GAIN = 0.15\n",
    "STEERING_OFFSET = +0.15\n",
    "STEERING_GAIN = -0.55\n",
    "PREVIEW = False\n",
    "MODEL = 'cida_javi_cristal_ep15_lr3e-4'\n",
    "OUT_P = Path('train_dataset') # directorio de destino de las fotos (se creará)"
   ]
  },
  {
   "cell_type": "markdown",
   "id": "raising-restoration",
   "metadata": {},
   "source": [
    "# Read pretrained model"
   ]
  },
  {
   "cell_type": "markdown",
   "id": "functional-wonder",
   "metadata": {},
   "source": [
    "# Create RaceCar object"
   ]
  },
  {
   "cell_type": "code",
   "execution_count": 3,
   "id": "designing-prototype",
   "metadata": {
    "tags": []
   },
   "outputs": [],
   "source": [
    "car = NvidiaRacecar()"
   ]
  },
  {
   "cell_type": "markdown",
   "id": "latin-phone",
   "metadata": {},
   "source": [
    "# Create camera object"
   ]
  },
  {
   "cell_type": "markdown",
   "id": "corporate-bridal",
   "metadata": {},
   "source": [
    "Si sale el siguiente error:\n",
    "\n",
    "```\n",
    "RuntimeError: Could not read image from camera.\n",
    "```\n",
    "\n",
    "Abrir un terminal desde File -> New -> Terminal, ejecutar:\n",
    "\n",
    "```\n",
    "sudo systemctl restart nvargus-daemon\n",
    "```\n",
    "\n",
    "Después, Kernel -> Restart kernel"
   ]
  },
  {
   "cell_type": "code",
   "execution_count": 4,
   "id": "collect-genre",
   "metadata": {},
   "outputs": [],
   "source": [
    "#camera = CSICamera(width=SZ, height=SZ, capture_fps=30) # fps=65\n",
    "camera = CSICamera(\n",
    "    capture_width=CAP_WIDTH, \n",
    "    capture_height=CAP_HEIGHT,\n",
    "    width=CAP_WIDTH, \n",
    "    height=CAP_HEIGHT, \n",
    "    capture_fps=FPS) # fps=65"
   ]
  },
  {
   "cell_type": "code",
   "execution_count": 5,
   "id": "demographic-fusion",
   "metadata": {},
   "outputs": [],
   "source": [
    "#image = camera.read()"
   ]
  },
  {
   "cell_type": "code",
   "execution_count": 6,
   "id": "expanded-treasurer",
   "metadata": {},
   "outputs": [],
   "source": [
    "#plt.imshow(image)"
   ]
  },
  {
   "cell_type": "code",
   "execution_count": 7,
   "id": "julian-character",
   "metadata": {},
   "outputs": [],
   "source": [
    "#plt.imshow(image)"
   ]
  },
  {
   "cell_type": "markdown",
   "id": "dominant-sierra",
   "metadata": {},
   "source": [
    "# Display functions"
   ]
  },
  {
   "cell_type": "code",
   "execution_count": 5,
   "id": "latter-spectrum",
   "metadata": {},
   "outputs": [],
   "source": [
    "def update_display():\n",
    "    global manual_drive, video_out\n",
    "    info = '\\n'.join([\n",
    "        f\"th_gain: {car.throttle_gain:.2f}\",\n",
    "        f\"st_offs: {car.steering_offset:.2f}\",\n",
    "        f\"{'RECORDING VIDEO' if video_out is not None else ''}\",\n",
    "        f\"{'MANUAL' if manual_drive else 'AI'} drive\",\n",
    "    ])\n",
    "    requests.get(\"http://localhost:8000/text/\" + info)\n",
    "\n",
    "def reset_display():\n",
    "    requests.get(\"http://localhost:8000/stats/on\")"
   ]
  },
  {
   "cell_type": "markdown",
   "id": "amateur-hazard",
   "metadata": {},
   "source": [
    "# Video recording functions"
   ]
  },
  {
   "cell_type": "code",
   "execution_count": 6,
   "id": "disciplinary-minneapolis",
   "metadata": {},
   "outputs": [],
   "source": [
    "def open_mov():\n",
    "    global video_out\n",
    "    fn = datetime.utcnow().strftime('%Y%m%d_%H%M%S_%f') + '.mov'\n",
    "    gst_out = f\"appsrc ! video/x-raw, format=BGR ! queue ! videoconvert ! video/x-raw,format=RGBA ! nvvidconv ! nvv4l2h264enc ! h264parse ! qtmux ! filesink location={fn} \" # trailing space is REQUIRED\n",
    "    video_out = cv2.VideoWriter(gst_out, cv2.CAP_GSTREAMER, 0, float(FPS), (CAP_WIDTH, CAP_HEIGHT))\n",
    "    if not video_out.isOpened():\n",
    "        print(\"Failed to open output\")\n",
    "    #print(\"open_mov\")\n",
    "\n",
    "def close_mov():\n",
    "    global video_out\n",
    "    video_out.release()\n",
    "    video_out = None\n",
    "    #print(\"close_mov\")"
   ]
  },
  {
   "cell_type": "markdown",
   "id": "honest-jumping",
   "metadata": {},
   "source": [
    "# Driving (AI / manual) thread"
   ]
  },
  {
   "cell_type": "code",
   "execution_count": 10,
   "id": "identified-matthew",
   "metadata": {},
   "outputs": [],
   "source": [
    "preview_widget = ipywidgets.Image(width=CAP_WIDTH, height=CAP_HEIGHT)\n",
    "\n",
    "if PREVIEW:\n",
    "    display(preview_widget)"
   ]
  },
  {
   "cell_type": "code",
   "execution_count": 11,
   "id": "perceived-bernard",
   "metadata": {},
   "outputs": [],
   "source": [
    "def get_road_center(image):\n",
    "    h, w = image.shape[:2]\n",
    "    image = cv2.resize(image, (SZ, SZ))\n",
    "    \n",
    "    # BGR -> RGB\n",
    "    image = cv2.cvtColor(image, cv2.COLOR_BGR2RGB)\n",
    "\n",
    "    # Convert uint8 array to float tensor, div by 255, permute dimensions HWC to CHW\n",
    "    t = torchvision.transforms.functional.to_tensor(image) # uint8 -> float, [0,255] -> [0,1], 3, SZ, SZ\n",
    "    \n",
    "    # Move to GPU\n",
    "    t = t.cuda()\n",
    "    \n",
    "    # Normalize with imagenet stats since we're using an imagenet pretrained model\n",
    "    t = (t - mean[:,None,None]) / std[:,None,None]\n",
    "    \n",
    "    # Add batch dimension\n",
    "    t = t[None, ...] # 1, 3, SZ, SZ\n",
    "    \n",
    "    # float -> float16 for faster inference\n",
    "    t = t.half()\n",
    "\n",
    "    # Get center of road\n",
    "    o = model_trt(t)\n",
    "\n",
    "    # Clamp to [-1, 1]\n",
    "    o = torch.clamp(o, min=-1, max=1)\n",
    "\n",
    "    # Remove batch dimension\n",
    "    o = o.flatten()\n",
    "    \n",
    "    # Move to CPU\n",
    "    o = o.cpu()\n",
    "    \n",
    "    # Get x, y values between -1, 1\n",
    "    nx, ny = o.tolist()\n",
    "\n",
    "    # Map to image x and y\n",
    "    ix = int((nx + 1) / 2 * (w - 1))\n",
    "    iy = int((ny + 1) / 2 * (h - 1))\n",
    "\n",
    "    return nx, ny, ix, iy"
   ]
  },
  {
   "cell_type": "code",
   "execution_count": 12,
   "id": "lesser-tiffany",
   "metadata": {},
   "outputs": [],
   "source": [
    "#%%timeit\n",
    "if False:\n",
    "    image = camera.read()\n",
    "\n",
    "    # Get center of road\n",
    "    x, y, ix, iy = get_road_center(image)\n",
    "\n",
    "    # Draw circle and preview\n",
    "    cv2.circle(image, (ix, iy), 8, (0, 255, 0), 2)\n",
    "\n",
    "    jpg = bgr8_to_jpeg(image)\n",
    "    preview_widget.value = jpg"
   ]
  },
  {
   "cell_type": "code",
   "execution_count": 9,
   "id": "worldwide-foster",
   "metadata": {},
   "outputs": [],
   "source": [
    "def update_image(change):\n",
    "    # New image is a numpy array with shape (SZ, SZ, 3), dtype uint8, BGR channels\n",
    "    image = change['new']\n",
    "\n",
    "    # Get center of road\n",
    "    x, y, ix, iy = get_road_center(image)\n",
    "\n",
    "    # AI drive\n",
    "    if not manual_drive:\n",
    "        car.steering = x\n",
    "    \n",
    "    # Draw circle\n",
    "    cv2.circle(image, (ix, iy), 8, (0, 255, 0), 2)\n",
    "    \n",
    "    if PREVIEW:\n",
    "        jpg = bgr8_to_jpeg(image)\n",
    "        preview_widget.value = jpg\n",
    "    \n",
    "    if video_out is not None:\n",
    "        #print(\"Write frame\")\n",
    "        video_out.write(image)\n",
    "        "
   ]
  },
  {
   "cell_type": "markdown",
   "id": "waiting-north",
   "metadata": {},
   "source": [
    "# Driving loop"
   ]
  },
  {
   "cell_type": "code",
   "execution_count": 10,
   "id": "about-irrigation",
   "metadata": {},
   "outputs": [],
   "source": [
    "right_trigger = left_trigger = 0\n",
    "car.throttle = 0.0\n",
    "car.throttle_gain = THROTTLE_GAIN\n",
    "car.steering_offset = STEERING_OFFSET\n",
    "car.steering_gain = STEERING_GAIN\n",
    "manual_drive = True\n",
    "video_out = None"
   ]
  },
  {
   "cell_type": "code",
   "execution_count": 11,
   "id": "breathing-franklin",
   "metadata": {},
   "outputs": [],
   "source": [
    "camera.observe(update_image, names='value')"
   ]
  },
  {
   "cell_type": "code",
   "execution_count": 13,
   "id": "polished-reproduction",
   "metadata": {},
   "outputs": [],
   "source": [
    "camera.running = True"
   ]
  },
  {
   "cell_type": "code",
   "execution_count": 14,
   "id": "brazilian-rogers",
   "metadata": {},
   "outputs": [],
   "source": [
    "def get_timestamp():\n",
    "    return datetime.utcnow().strftime('%Y%m%d_%H%M%S_%f')"
   ]
  },
  {
   "cell_type": "code",
   "execution_count": 15,
   "id": "quiet-palestine",
   "metadata": {},
   "outputs": [
    {
     "name": "stdout",
     "output_type": "stream",
     "text": [
      "Absolute ABS_X 128\n",
      "X=128\n",
      "Absolute ABS_Y 127\n",
      "Y=127\n",
      "Absolute ABS_Z 128\n",
      "Z=128\n",
      "Absolute ABS_RZ 127\n",
      "Sync SYN_REPORT 0\n",
      "Absolute ABS_X 127\n",
      "X=127\n",
      "Absolute ABS_Y 128\n",
      "Y=128\n",
      "Absolute ABS_Z 127\n",
      "Z=127\n",
      "Absolute ABS_RZ 128\n",
      "Sync SYN_REPORT 0\n",
      "Misc MSC_SCAN 589828\n",
      "Key BTN_NORTH 1\n",
      "FOTO\n"
     ]
    },
    {
     "ename": "NameError",
     "evalue": "name 'change' is not defined",
     "output_type": "error",
     "traceback": [
      "\u001b[0;31m---------------------------------------------------------------------------\u001b[0m",
      "\u001b[0;31mNameError\u001b[0m                                 Traceback (most recent call last)",
      "\u001b[0;32m<ipython-input-15-b22fa2cb1fef>\u001b[0m in \u001b[0;36m<module>\u001b[0;34m\u001b[0m\n\u001b[1;32m     35\u001b[0m             \u001b[0;32mif\u001b[0m \u001b[0mevent\u001b[0m\u001b[0;34m.\u001b[0m\u001b[0mcode\u001b[0m \u001b[0;34m==\u001b[0m \u001b[0;34m'BTN_NORTH'\u001b[0m\u001b[0;34m:\u001b[0m \u001b[0;31m# X / LEFT\u001b[0m\u001b[0;34m\u001b[0m\u001b[0;34m\u001b[0m\u001b[0m\n\u001b[1;32m     36\u001b[0m                 \u001b[0mprint\u001b[0m\u001b[0;34m(\u001b[0m\u001b[0;34m'FOTO'\u001b[0m\u001b[0;34m)\u001b[0m\u001b[0;34m\u001b[0m\u001b[0;34m\u001b[0m\u001b[0m\n\u001b[0;32m---> 37\u001b[0;31m                 \u001b[0mimage\u001b[0m \u001b[0;34m=\u001b[0m \u001b[0mchange\u001b[0m\u001b[0;34m[\u001b[0m\u001b[0;34m'new'\u001b[0m\u001b[0;34m]\u001b[0m\u001b[0;34m\u001b[0m\u001b[0;34m\u001b[0m\u001b[0m\n\u001b[0m\u001b[1;32m     38\u001b[0m                 \u001b[0mjpg\u001b[0m \u001b[0;34m=\u001b[0m \u001b[0mbgr8_to_jpeg\u001b[0m\u001b[0;34m(\u001b[0m\u001b[0mimage\u001b[0m\u001b[0;34m)\u001b[0m\u001b[0;34m\u001b[0m\u001b[0;34m\u001b[0m\u001b[0m\n\u001b[1;32m     39\u001b[0m                 \u001b[0mimage_widget\u001b[0m\u001b[0;34m.\u001b[0m\u001b[0mvalue\u001b[0m \u001b[0;34m=\u001b[0m \u001b[0mjpg\u001b[0m\u001b[0;34m\u001b[0m\u001b[0;34m\u001b[0m\u001b[0m\n",
      "\u001b[0;31mNameError\u001b[0m: name 'change' is not defined"
     ]
    }
   ],
   "source": [
    "right_trigger = left_trigger = 0\n",
    "while not (right_trigger and left_trigger):\n",
    "    events = get_gamepad()\n",
    "    for event in events:\n",
    "        print(event.ev_type, event.code, event.state)\n",
    "        if event.ev_type == 'Absolute' and manual_drive:\n",
    "            if event.code == 'ABS_X':\n",
    "                #car.throttle = -(event.state - 127.5) / 127.5\n",
    "                print(f'X={event.state}')\n",
    "            if event.code == 'ABS_Y':\n",
    "                #car.throttle = -(event.state - 127.5) / 127.5\n",
    "                print(f'Y={event.state}')\n",
    "            if event.code == 'ABS_Z':\n",
    "                #car.steering = (event.state - 127.5) / 127.5\n",
    "                print(f'Z={event.state}')\n",
    "        elif event.ev_type == 'Key' and event.code == 'BTN_TR2':\n",
    "            right_trigger = event.state\n",
    "        elif event.ev_type == 'Key' and event.code == 'BTN_TL2':\n",
    "            left_trigger = event.state\n",
    "        elif event.ev_type == 'Key' and event.state == 1:\n",
    "            if event.code == 'BTN_WEST': # Y / UP\n",
    "                #car.throttle_gain = min(1.0, car.throttle_gain + 0.05)\n",
    "                #update_display()\n",
    "                print('BTN_WEST')\n",
    "            if event.code == 'BTN_SOUTH': # A / DOWN\n",
    "                #car.throttle_gain = max(0.0, car.throttle_gain - 0.05)\n",
    "                #update_display()\n",
    "                print('BTN_SOUTH')\n",
    "            if event.code == 'BTN_EAST': # B / RIGHT\n",
    "                #car.steering_offset = max(-0.3, car.steering_offset - 0.05)\n",
    "                #car.steering = 0.1\n",
    "                #car.steering = 0\n",
    "                #update_display()\n",
    "                print('BTN_EAST')\n",
    "            if event.code == 'BTN_NORTH': # X / LEFT\n",
    "                print('FOTO')\n",
    "                image = change['new']\n",
    "                jpg = bgr8_to_jpeg(image)\n",
    "                image_widget.value = jpg\n",
    "                jpg_p = OUT_P / (get_timestamp() + \".jpg\")\n",
    "                with jpg_p.open('wb') as f:\n",
    "                    f.write(jpg)\n",
    "            if event.code == 'BTN_TL':\n",
    "                print('BTN_TL')\n",
    "\n",
    "\n",
    "        #else:\n",
    "            #print(event.ev_type, event.code, event.state)\n",
    "   \n",
    "            #print(f\"throttle_gain={car.throttle_gain:.1f}\")\n",
    "        #print(event.ev_type, event.code, event.state)\n",
    "        \n",
    "#manual_drive = True\n",
    "#camera.running = False\n",
    "#camera.unobserve_all()\n",
    "#car.throttle = 0\n",
    "\n",
    "#reset_display()"
   ]
  },
  {
   "cell_type": "code",
   "execution_count": null,
   "id": "express-momentum",
   "metadata": {},
   "outputs": [],
   "source": [
    "car.throttle=0"
   ]
  },
  {
   "cell_type": "code",
   "execution_count": null,
   "id": "pending-phrase",
   "metadata": {},
   "outputs": [],
   "source": [
    "car.steering=0"
   ]
  },
  {
   "cell_type": "code",
   "execution_count": null,
   "id": "killing-inventory",
   "metadata": {},
   "outputs": [],
   "source": []
  }
 ],
 "metadata": {
  "kernelspec": {
   "display_name": "Python 3",
   "language": "python",
   "name": "python3"
  },
  "language_info": {
   "codemirror_mode": {
    "name": "ipython",
    "version": 3
   },
   "file_extension": ".py",
   "mimetype": "text/x-python",
   "name": "python",
   "nbconvert_exporter": "python",
   "pygments_lexer": "ipython3",
   "version": "3.6.9"
  }
 },
 "nbformat": 4,
 "nbformat_minor": 5
}
