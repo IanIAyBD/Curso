{
 "cells": [
  {
   "cell_type": "code",
   "execution_count": 5,
   "id": "direct-father",
   "metadata": {},
   "outputs": [
    {
     "name": "stdout",
     "output_type": "stream",
     "text": [
      "Defaulting to user installation because normal site-packages is not writeable\n",
      "Requirement already satisfied: inputs in /home/jetson/.local/lib/python3.6/site-packages (0.5)\n",
      "\u001b[33mWARNING: You are using pip version 21.0.1; however, version 21.3.1 is available.\n",
      "You should consider upgrading via the '/usr/bin/python3 -m pip install --upgrade pip' command.\u001b[0m\n"
     ]
    }
   ],
   "source": [
    "!pip install inputs"
   ]
  },
  {
   "cell_type": "code",
   "execution_count": 1,
   "id": "synthetic-mailman",
   "metadata": {},
   "outputs": [],
   "source": [
    "from inputs import get_gamepad\n",
    "from jetracer.nvidia_racecar import NvidiaRacecar\n",
    "import requests"
   ]
  },
  {
   "cell_type": "code",
   "execution_count": 2,
   "id": "bored-retrieval",
   "metadata": {},
   "outputs": [],
   "source": [
    "car = NvidiaRacecar()"
   ]
  },
  {
   "cell_type": "code",
   "execution_count": 3,
   "id": "objective-engineering",
   "metadata": {},
   "outputs": [],
   "source": [
    "car.steering = 0\n",
    "car.steering_offset = 0\n",
    "car.throttle_gain = 0.20"
   ]
  },
  {
   "cell_type": "code",
   "execution_count": 8,
   "id": "precise-chain",
   "metadata": {},
   "outputs": [],
   "source": [
    "def update_display():\n",
    "    info = '\\n'.join([\n",
    "        f\"th_gain: {car.throttle_gain:.2f}\",\n",
    "        f\"st_offs: {car.steering_offset:.2f}\",\n",
    "    ])\n",
    "    requests.get(\"http://localhost:8000/text/\" + info)"
   ]
  },
  {
   "cell_type": "code",
   "execution_count": 9,
   "id": "natural-manchester",
   "metadata": {},
   "outputs": [],
   "source": [
    "def reset_display():\n",
    "    requests.get(\"http://localhost:8000/stats/on\")"
   ]
  },
  {
   "cell_type": "markdown",
   "id": "relevant-treasure",
   "metadata": {},
   "source": [
    "# Instrucciones para controlar desde el mando:\n",
    "- Joystick izquierdo: **acelera / frena**\n",
    "- Joystick derecho: **dirección**\n",
    "- X / B: **offset dirección**. En la pantalla del coche se muestra el offset actual.\n",
    "- Y / A: **velocidad máxima** (ojo, a partir de 0.2 corre **MUCHO**). En la pantalla del coche se muestra la velocidad máxima actual.\n",
    "- Gatillos izquierdo y derecho a la vez: **finaliza el bucle de control y detiene el coche** (finaliza el control remoto)"
   ]
  },
  {
   "cell_type": "code",
   "execution_count": 10,
   "id": "ultimate-graphic",
   "metadata": {},
   "outputs": [],
   "source": [
    "right_trigger = left_trigger = 0\n",
    "\n",
    "\n",
    "while not (right_trigger and left_trigger):\n",
    "    events = get_gamepad()\n",
    "    for event in events:\n",
    "        if event.ev_type == 'Absolute':\n",
    "            if event.code == 'ABS_Y':\n",
    "                car.throttle = -(event.state - 127.5) / 127.5\n",
    "                #print(f'Y={event.state}')\n",
    "            if event.code == 'ABS_Z':\n",
    "                car.steering = (event.state - 127.5) / 127.5\n",
    "                #print(f'Z={event.state}')\n",
    "        elif event.ev_type == 'Key' and event.code == 'BTN_TR2':\n",
    "            right_trigger = event.state\n",
    "        elif event.ev_type == 'Key' and event.code == 'BTN_TL2':\n",
    "            left_trigger = event.state\n",
    "        elif event.ev_type == 'Key' and event.state == 1:\n",
    "            if event.code == 'BTN_WEST': # Y / UP\n",
    "                car.throttle_gain = min(1.0, car.throttle_gain + 0.05)\n",
    "                update_display()\n",
    "            if event.code == 'BTN_SOUTH': # A / DOWN\n",
    "                car.throttle_gain = max(0.0, car.throttle_gain - 0.05)\n",
    "                update_display()\n",
    "            if event.code == 'BTN_EAST': # B / RIGHT\n",
    "                car.steering_offset = max(-0.3, car.steering_offset - 0.05)\n",
    "                car.steering = 0.1\n",
    "                car.steering = 0\n",
    "                update_display()\n",
    "            if event.code == 'BTN_NORTH': # X / LEFT\n",
    "                car.steering_offset = min(0.3, car.steering_offset + 0.05)\n",
    "                car.steering = 0.1\n",
    "                car.steering = 0\n",
    "                update_display()\n",
    "                \n",
    "            #print(f\"throttle_gain={car.throttle_gain:.1f}\")\n",
    "        #print(event.ev_type, event.code, event.state)\n",
    "        \n",
    "car.throttle = 0\n",
    "reset_display()"
   ]
  },
  {
   "cell_type": "code",
   "execution_count": null,
   "id": "numerical-restoration",
   "metadata": {},
   "outputs": [],
   "source": []
  }
 ],
 "metadata": {
  "kernelspec": {
   "display_name": "Python 3",
   "language": "python",
   "name": "python3"
  },
  "language_info": {
   "codemirror_mode": {
    "name": "ipython",
    "version": 3
   },
   "file_extension": ".py",
   "mimetype": "text/x-python",
   "name": "python",
   "nbconvert_exporter": "python",
   "pygments_lexer": "ipython3",
   "version": "3.6.9"
  }
 },
 "nbformat": 4,
 "nbformat_minor": 5
}
