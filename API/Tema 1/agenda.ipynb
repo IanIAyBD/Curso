{
 "cells": [
  {
   "cell_type": "markdown",
   "metadata": {},
   "source": [
    "lase Dirección\n",
    "La clase dirección estará compuesta por los siguientes atributos:\n",
    "• Calle: contendrá la información referente a la calle de la dirección.\n",
    "• Piso: contendrá la información referente al piso de la dirección.\n",
    "• Ciudad: contendrá la información referente a la ciudad de la dirección.\n",
    "• CodigoPostal: contendrá la información referente al código postal de la dirección.\n",
    "\n",
    "• GetCalle: devolverá la información del atributo Calle.\n",
    "• GetPiso: devolverá la información del atributo Piso.\n",
    "• GetCiudad: devolverá la información del atributo Ciudad.\n",
    "• GetCodigoPostal: devolverá la información del atributo CodigoPostal.\n",
    "• SetCalle: modificará la información del atributo Calle.\n",
    "• SetPiso: modificará la información del atributo Piso.\n",
    "• SetCiudad: modificará la información del atributo Ciudad.\n",
    "• SetCodigoPostal: modificará la información del atributo CodigoPostal"
   ]
  },
  {
   "cell_type": "code",
   "execution_count": 21,
   "metadata": {},
   "outputs": [],
   "source": [
    "from tabulate import tabulate\n",
    "\n",
    "class Direccion:\n",
    "\n",
    "    def __init__(self, calle, piso, ciudad, cp):\n",
    "        self.calle = calle\n",
    "        self.piso =piso\n",
    "        self.ciudad = ciudad\n",
    "        self.cp = cp\n",
    "    \n",
    "    def GetCalle(self):\n",
    "        return self.calle\n",
    "    def GetPiso(self):\n",
    "        return self.piso\n",
    "    def GetCiudad(self):\n",
    "        return self.ciudad\n",
    "    def GetCp(self):\n",
    "        return self.cp\n",
    "    \n",
    "    def SetCalle(self,calle):\n",
    "        self.calle = calle\n",
    "    def SetPiso(self,piso):\n",
    "        self.piso = piso\n",
    "    def SetCiudad(self,ciudad):\n",
    "        self.ciudad = ciudad\n",
    "    def SetCp(self,cp):\n",
    "        self.cp = cp\n",
    "    "
   ]
  },
  {
   "cell_type": "markdown",
   "metadata": {},
   "source": [
    "Clase Persona\n",
    "La clase persona estará compuesta por los siguientes atributos:\n",
    "• Nombre: contendrá la información referente al nombre de la persona.\n",
    "• Apellidos: contendrá la información referente a los apellidos de la persona.\n",
    "• FechaNacimiento: contendrá la información referente a la fecha de nacimiento de la\n",
    "persona.\n",
    "La clase persona estará compuesta por los siguientes métodos:\n",
    "• GetNombre: devolverá la información del atributo Nombre.\n",
    "• GetApellidos: devolverá la información del atributo Apellidos.\n",
    "• GetFechaNacimiento: devolverá la información del atributo FechaNacimiento.\n",
    "• SetNombre: modificará la información del atributo Nombre.\n",
    "• SetApellidos: modificará la información del atributo Apellidos.\n",
    "• SetFechaNacimiento: modificará la información del atributo FechaNacimiento."
   ]
  },
  {
   "cell_type": "code",
   "execution_count": 22,
   "metadata": {},
   "outputs": [],
   "source": [
    "class Persona: \n",
    "    \n",
    "    def __init__(self, nombre, apellidos, fecha_nacimiento):\n",
    "      self.nombre = nombre\n",
    "      self.apellidos = apellidos\n",
    "      self.fecha_nacimiento = fecha_nacimiento\n",
    "    \n",
    "    def GetNombre(self):\n",
    "        return self.nombre\n",
    "    def GetApellidos(self):\n",
    "        return self.apellidos\n",
    "    def GetFecha_nacimiento(self):\n",
    "        return self.fecha_nacimiento\n",
    "      \n",
    "    def SetNombre(self,nombre):\n",
    "        self.nombre = nombre\n",
    "    def SetApellidos(self, apellidos):\n",
    "        self.apellidos = apellidos\n",
    "    def SetFecha_nacimiento(self, fecha_nacimiento):\n",
    "        self.fecha_nacimiento = fecha_nacimiento"
   ]
  },
  {
   "cell_type": "markdown",
   "metadata": {},
   "source": [
    "Clase Teléfono\n",
    "La clase teléfono estará compuesta por los siguientes atributos:\n",
    "• TelefonoFijo: contendrá la información referente al teléfono fijo.\n",
    "• TeléfonoMovil: contendrá la información referente al teléfono móvil.\n",
    "• TelefonoTrabajo: contendrá la información referente al teléfono del trabajo.\n",
    "La clase teléfono estará compuesta por los siguientes métodos:\n",
    "• GetTelefonoFijo: devolverá la información del atributo TelefonoFijo.\n",
    "• GetTelefonoMovil: devolverá la información del atributo TelefonoMovil.\n",
    "• GetTelefonoTrabajo: devolverá la información del atributo TelefonoTrabajo.\n",
    "• SetTelefonoFijo: modificará la información del atributo TelefonoFijo.\n",
    "• SetTelefonoMovil: modificará la información del atributo TelefonoMovil.\n",
    "• SetTelefonoTrabajo: modificará la información del atributo TelefonoTrabajo."
   ]
  },
  {
   "cell_type": "code",
   "execution_count": 23,
   "metadata": {},
   "outputs": [],
   "source": [
    "class Telefono:\n",
    "\n",
    "    def __init__(self, fijo, movil, trabajo):\n",
    "      self.fijo = fijo\n",
    "      self.movil = movil\n",
    "      self.trabajo = trabajo\n",
    "      \n",
    "    def GetFijo(self):\n",
    "      return self.fijo\n",
    "    def GetMovil(self):\n",
    "      return self.movil\n",
    "    def GetTrabajo(self):\n",
    "      return self.trabajo\n",
    "    \n",
    "    def SetFijo(self,fijo):\n",
    "        self.fijo = fijo\n",
    "    def SetMovil(self,movil):\n",
    "        self.movil = movil\n",
    "    def SetTrabajo(self,trabajo):\n",
    "        self.trabajo = trabajo\n",
    "    "
   ]
  },
  {
   "cell_type": "markdown",
   "metadata": {},
   "source": [
    "Clase Contacto\n",
    "La clase contacto estará compuesta por los siguientes atributos:\n",
    "• Email: contendrá la información referente al email.\n",
    "La clase contacto estará compuesta por los siguientes métodos:\n",
    "• GetEmail: devolverá la información del atributo Email.\n",
    "• SetEmail: modificará la información del atributo Email.\n",
    "• MostrarContacto: mostrará la información completa del contacto.\n",
    "La clase contacto será una clase que herece de todas las anteriores, por lo que, además de los\n",
    "atributos y métodos propios, tendrá los de las clases de las que hereda."
   ]
  },
  {
   "cell_type": "code",
   "execution_count": 31,
   "metadata": {},
   "outputs": [],
   "source": [
    "class Contacto(Direccion,Persona,Telefono):\n",
    "        \n",
    "\n",
    "    def __init__(self, email, nombre, apellidos, fecha_nacimiento, calle, piso, ciudad, cp, fijo, movil,trabajo):\n",
    "        \n",
    "        self.email = email\n",
    "        Persona.__init__(self,nombre,apellidos,fecha_nacimiento)\n",
    "        Direccion.__init__(self,calle,piso,ciudad,cp)\n",
    "        Telefono.__init__(self,fijo,movil,trabajo)\n",
    "    \n",
    "    def GetEmail(self):\n",
    "        return self.email\n",
    "    \n",
    "    def SetEmail(self,email):\n",
    "        self.email = email\n",
    "        \n",
    "    def MostrarContacto(self):\n",
    "        print('Nombre: ',  self.nombre ,\n",
    "              '\\nApellidos: ',self.apellidos ,\n",
    "              '\\nFecha de nacimiento: ',self.fecha_nacimiento,\n",
    "              '\\nCalle: ',self.calle,\n",
    "              '\\nPiso: ',self.piso,\n",
    "              '\\nCiudad: ',self.ciudad,\n",
    "              '\\nCodigo Postal: ',self.cp,\n",
    "              '\\nT. Fijo: ',self.fijo,\n",
    "              '\\nT. Movil: ',self.movil,\n",
    "              '\\nT. Trbajo: ',self.trabajo\n",
    "              )\n",
    "        #print('Nombre','Apellidos','Fecha de nacimiento','Calle','Piso','Ciudad','Codigo Postal','T.Fijo','T.Movil','T.Trabajo')\n",
    "    "
   ]
  },
  {
   "cell_type": "code",
   "execution_count": 29,
   "metadata": {},
   "outputs": [],
   "source": [
    "cont = Contacto('alrod@gmail.com','Alex','Rodriguez Diez','20/12/1985','Calle Mayor','2ºA','Castellon',12006,748512836,9584712536,152748967)"
   ]
  },
  {
   "cell_type": "code",
   "execution_count": 30,
   "metadata": {},
   "outputs": [
    {
     "name": "stdout",
     "output_type": "stream",
     "text": [
      "Nombre:  Alex \n",
      "Apellidos:  Rodriguez Diez \n",
      "Fecha de nacimiento:  20/12/1985 \n",
      "Calle:  Calle Mayor \n",
      "Piso:  2ºA \n",
      "Ciudad:  Castellon \n",
      "Codigo Postal:  12006 \n",
      "T. Fijo:  748512836 \n",
      "T. Movil:  9584712536 \n",
      "T. Trbajo:  152748967\n"
     ]
    }
   ],
   "source": [
    "cont.MostrarContacto()"
   ]
  },
  {
   "cell_type": "markdown",
   "metadata": {},
   "source": [
    "Clase Agenda\n",
    "La clase agenda estará compuesta por los siguientes atributos:\n",
    "• ListaContactos: contendrá la información de todos los contactos que están en la agenda.\n",
    "• Path: contendrá la información de la ruta física del fichero en el ordenador en donde están\n",
    "almacenados los contactos.\n",
    "La clase agenda estará compuesta por los siguientes métodos:\n",
    "• CargarContactos: cargará en la aplicación la lista de contactos leyéndola desde el fichero.\n",
    "• CrearNuevoContacto: almacenará en la lista de contactos un nuevo contacto.\n",
    "• GuardarContactos: grabará en el fichero la lista de contactos que tiene almacenada el\n",
    "atributo ListaContactos.\n",
    "• MostrarAgenda: mostrará por pantalla el contenido del atributo ListaContactos.\n",
    "• BuscarContactoPorNombre: realizará una búsqueda de un contacto en el atributo\n",
    "ListaContactos por su nombre y lo devolverá.\n",
    "• BuscarContactoPorTelefono: realizará una búsqueda de un contacto en el atributo\n",
    "ListaContactos por su teléfono y lo devolverá.\n",
    "• BorrarContactoPorNombre: borrará un contacto del atributo ListaContacto utilizando el\n",
    "nombre para buscarlo.\n",
    "• BorrarContactoPorTelefono: borrará un contacto del atributo ListaContacto utilizando el\n",
    "teléfono para buscarlo.\n",
    "El constructor de la clase recibe como parámetro la ruta en la que se encuentra el fichero que se\n",
    "utiliza para almacenar los contactos."
   ]
  },
  {
   "cell_type": "code",
   "execution_count": null,
   "metadata": {},
   "outputs": [],
   "source": [
    "class Agenda:\n",
    "    def __init__(self,__path):\n",
    "      self.ListaContactos = []\n",
    "      self.__path = __path\n",
    "    def CargarContactos(self):\n",
    "      try:\n",
    "        fichero =open(self,__path,\"r\")\n",
    "      except:\n",
    "        print(\"Error\")\n",
    "      else:\n",
    "        contactos = fichero.readlines()\n",
    "        fichero.close()\n",
    "        if(len(contactos)>0):\n",
    "          for contacto in contactos:\n",
    "            \n",
    "    \n",
    "      "
   ]
  }
 ],
 "metadata": {
  "interpreter": {
   "hash": "884d91944a0fc43a6985f5fe93e6455a304636fbd6abe963398f900a7da1ef5e"
  },
  "kernelspec": {
   "display_name": "Python 3.9.12 ('base')",
   "language": "python",
   "name": "python3"
  },
  "language_info": {
   "codemirror_mode": {
    "name": "ipython",
    "version": 3
   },
   "file_extension": ".py",
   "mimetype": "text/x-python",
   "name": "python",
   "nbconvert_exporter": "python",
   "pygments_lexer": "ipython3",
   "version": "3.9.12"
  },
  "orig_nbformat": 4
 },
 "nbformat": 4,
 "nbformat_minor": 2
}
