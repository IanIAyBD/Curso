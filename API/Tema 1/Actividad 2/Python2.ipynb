{
 "cells": [
  {
   "cell_type": "markdown",
   "metadata": {},
   "source": [
    "# Estructuras de control"
   ]
  },
  {
   "cell_type": "markdown",
   "metadata": {},
   "source": [
    "* if\n",
    "* for\n",
    "* while"
   ]
  },
  {
   "cell_type": "markdown",
   "metadata": {},
   "source": [
    "Los tipos de datos Boolenos en Python se representan con el tipo `bool` y reciben únicamente dos posibles valores:\n",
    "1. True\n",
    "2. False"
   ]
  },
  {
   "cell_type": "code",
   "execution_count": null,
   "metadata": {},
   "outputs": [],
   "source": []
  },
  {
   "cell_type": "markdown",
   "metadata": {},
   "source": [
    "### None"
   ]
  },
  {
   "cell_type": "code",
   "execution_count": 38,
   "metadata": {},
   "outputs": [
    {
     "name": "stdout",
     "output_type": "stream",
     "text": [
      "None\n"
     ]
    },
    {
     "data": {
      "text/plain": [
       "NoneType"
      ]
     },
     "execution_count": 38,
     "metadata": {},
     "output_type": "execute_result"
    }
   ],
   "source": [
    "var = None\n",
    "print(var)\n",
    "type(None)\n"
   ]
  },
  {
   "cell_type": "markdown",
   "metadata": {},
   "source": [
    "* `None` no es lo mismo que `False`\n",
    "* `None` no es 0\n",
    "* `None` no es un string vacío\n",
    "* Comparar `None` con cualquier cosa devuelve `False` excepto con `None`"
   ]
  },
  {
   "cell_type": "markdown",
   "metadata": {},
   "source": [
    "### input()"
   ]
  },
  {
   "cell_type": "markdown",
   "metadata": {},
   "source": [
    "Entrada por teclado. <<a href=\"https://www.mclibre.org/consultar/python/lecciones/python-entrada-teclado.html\">enlace web</a>>"
   ]
  },
  {
   "cell_type": "code",
   "execution_count": 39,
   "metadata": {},
   "outputs": [],
   "source": [
    "var = input(\"Entrada por texto: \")"
   ]
  },
  {
   "cell_type": "markdown",
   "metadata": {},
   "source": [
    "## if else"
   ]
  },
  {
   "cell_type": "markdown",
   "metadata": {},
   "source": [
    "```\n",
    "if <expresión>:\n",
    "    <sentencia(s)>\n",
    "elif <expresión>:\n",
    "    <sentencia(s)>\n",
    "elif <expresión>:\n",
    "    <sentencia(s)\n",
    "...\n",
    "else:\n",
    "    <sentencia(s)>\n",
    "\n",
    "```"
   ]
  },
  {
   "cell_type": "markdown",
   "metadata": {},
   "source": [
    "Combrobar si un número está entre el 15 y el 45."
   ]
  },
  {
   "cell_type": "code",
   "execution_count": 40,
   "metadata": {},
   "outputs": [
    {
     "ename": "ValueError",
     "evalue": "invalid literal for int() with base 10: 'caca'",
     "output_type": "error",
     "traceback": [
      "\u001b[0;31m---------------------------------------------------------------------------\u001b[0m",
      "\u001b[0;31mValueError\u001b[0m                                Traceback (most recent call last)",
      "\u001b[1;32m/home/INFORMATICA/alu10181909/Escriptori/API/Tema 1/Actividad 2/Python2.ipynb Cell 14'\u001b[0m in \u001b[0;36m<cell line: 3>\u001b[0;34m()\u001b[0m\n\u001b[1;32m      <a href='vscode-notebook-cell:/home/INFORMATICA/alu10181909/Escriptori/API/Tema%201/Actividad%202/Python2.ipynb#ch0000013?line=0'>1</a>\u001b[0m check \u001b[39m=\u001b[39m \u001b[39mFalse\u001b[39;00m\n\u001b[1;32m      <a href='vscode-notebook-cell:/home/INFORMATICA/alu10181909/Escriptori/API/Tema%201/Actividad%202/Python2.ipynb#ch0000013?line=1'>2</a>\u001b[0m numero \u001b[39m=\u001b[39m \u001b[39minput\u001b[39m(\u001b[39m\"\u001b[39m\u001b[39mIntroduce numero: \u001b[39m\u001b[39m\"\u001b[39m)\n\u001b[0;32m----> <a href='vscode-notebook-cell:/home/INFORMATICA/alu10181909/Escriptori/API/Tema%201/Actividad%202/Python2.ipynb#ch0000013?line=2'>3</a>\u001b[0m \u001b[39mif\u001b[39;00m \u001b[39mint\u001b[39;49m(numero) \u001b[39m>\u001b[39m\u001b[39m=\u001b[39m \u001b[39m15\u001b[39m \u001b[39mand\u001b[39;00m \u001b[39mint\u001b[39m(numero) \u001b[39m<\u001b[39m\u001b[39m=\u001b[39m \u001b[39m45\u001b[39m:\n\u001b[1;32m      <a href='vscode-notebook-cell:/home/INFORMATICA/alu10181909/Escriptori/API/Tema%201/Actividad%202/Python2.ipynb#ch0000013?line=3'>4</a>\u001b[0m     check \u001b[39m=\u001b[39m \u001b[39mTrue\u001b[39;00m\n\u001b[1;32m      <a href='vscode-notebook-cell:/home/INFORMATICA/alu10181909/Escriptori/API/Tema%201/Actividad%202/Python2.ipynb#ch0000013?line=4'>5</a>\u001b[0m check\n",
      "\u001b[0;31mValueError\u001b[0m: invalid literal for int() with base 10: 'caca'"
     ]
    }
   ],
   "source": [
    "check = False\n",
    "numero = input(\"Introduce numero: \")\n",
    "if int(numero) >= 15 and int(numero) <= 45:\n",
    "    check = True\n",
    "check"
   ]
  },
  {
   "cell_type": "markdown",
   "metadata": {},
   "source": [
    "## for"
   ]
  },
  {
   "cell_type": "markdown",
   "metadata": {},
   "source": [
    "```\n",
    "for <variable> in <iterable>:\n",
    "    <sentencia(s)>\n",
    "```"
   ]
  },
  {
   "cell_type": "code",
   "execution_count": null,
   "metadata": {},
   "outputs": [
    {
     "data": {
      "text/plain": [
       "range(0, 10)"
      ]
     },
     "execution_count": 3,
     "metadata": {},
     "output_type": "execute_result"
    }
   ],
   "source": [
    "range(10)"
   ]
  },
  {
   "cell_type": "markdown",
   "metadata": {},
   "source": [
    "#range (0, 5, 1)"
   ]
  },
  {
   "cell_type": "code",
   "execution_count": null,
   "metadata": {},
   "outputs": [
    {
     "name": "stdout",
     "output_type": "stream",
     "text": [
      "0\n",
      "-1\n",
      "-2\n",
      "-3\n",
      "-4\n",
      "-5\n",
      "-6\n",
      "-7\n"
     ]
    }
   ],
   "source": [
    "for i in range(0,8,2):\n",
    "    print(i)"
   ]
  },
  {
   "cell_type": "markdown",
   "metadata": {},
   "source": [
    "Dada la lista de colores: Blanco, Negro, Rojo, Azul y Amarillo.  \n",
    "Crea dos listas con los elemntos en minúsculas y mayúsculas."
   ]
  },
  {
   "cell_type": "code",
   "execution_count": null,
   "metadata": {},
   "outputs": [
    {
     "name": "stdout",
     "output_type": "stream",
     "text": [
      "['BLANCO', 'NEGRO', 'ROJO', 'AZUL', 'AMARILLO'] -- ['blanco', 'negro', 'rojo', 'azul', 'amarillo']\n"
     ]
    }
   ],
   "source": [
    "colores = ['Blanco', 'Negro','Rojo','Azul','Amarillo']\n",
    "may_colores=[]\n",
    "min_colores=[]\n",
    "for i in range(0,len(colores)):\n",
    "    may_colores.append(colores[i].upper())\n",
    "    min_colores.append(colores[i].lower())\n",
    "print(may_colores ,'--', min_colores)\n"
   ]
  },
  {
   "cell_type": "markdown",
   "metadata": {},
   "source": [
    "Con el diccionario \"frutas\", que contiene: \"manzanas\": 10, \"patanos\": 4, \"naranjas\": 9  \n",
    "Calcula la suma de todas las frutas."
   ]
  },
  {
   "cell_type": "code",
   "execution_count": null,
   "metadata": {},
   "outputs": [
    {
     "data": {
      "text/plain": [
       "23"
      ]
     },
     "execution_count": 27,
     "metadata": {},
     "output_type": "execute_result"
    }
   ],
   "source": [
    "frutas = {\n",
    "    \"manzanas\":10,\n",
    "    \"platanos\":4,\n",
    "    \"naranjas\":9\n",
    "}\n",
    "valores = frutas.values()\n",
    "sum(valores)"
   ]
  },
  {
   "cell_type": "markdown",
   "metadata": {},
   "source": [
    "## while"
   ]
  },
  {
   "cell_type": "markdown",
   "metadata": {},
   "source": [
    "```\n",
    "while <expresión>:\n",
    "    <sentencia(s)>\n",
    "```"
   ]
  },
  {
   "cell_type": "markdown",
   "metadata": {},
   "source": [
    "Muestra por pantalla de 0 a 5."
   ]
  },
  {
   "cell_type": "code",
   "execution_count": null,
   "metadata": {},
   "outputs": [
    {
     "name": "stdout",
     "output_type": "stream",
     "text": [
      "0\n",
      "1\n",
      "2\n",
      "3\n",
      "4\n",
      "5\n"
     ]
    }
   ],
   "source": [
    "i = 0\n",
    "while i<6:\n",
    "    print (i)\n",
    "    i+=1"
   ]
  },
  {
   "cell_type": "markdown",
   "metadata": {},
   "source": [
    "### break, continue y pass"
   ]
  },
  {
   "cell_type": "markdown",
   "metadata": {},
   "source": [
    "De la lista de colores: Blanco, Negro, Rojo, Azul y Amarillo.  \n",
    "Imprime los que NO empiecen por \"A\"."
   ]
  },
  {
   "cell_type": "code",
   "execution_count": 47,
   "metadata": {},
   "outputs": [
    {
     "name": "stdout",
     "output_type": "stream",
     "text": [
      "Blanco\n",
      "Negro\n",
      "Rojo\n"
     ]
    }
   ],
   "source": [
    "colores = ['Blanco','Negro','Amarillo','Azul','Rojo']\n",
    "i = 0\n",
    "while i < len(colores):\n",
    "    if colores[i][0] == 'A':\n",
    "        pass\n",
    "    else:\n",
    "        print(colores[i])\n",
    "    i+=1"
   ]
  },
  {
   "cell_type": "markdown",
   "metadata": {},
   "source": [
    "### zip y enumerate"
   ]
  },
  {
   "cell_type": "code",
   "execution_count": 50,
   "metadata": {},
   "outputs": [
    {
     "name": "stdout",
     "output_type": "stream",
     "text": [
      "[(1, 'Uno'), (2, 'Dos')]\n"
     ]
    }
   ],
   "source": [
    "a = [1,2]\n",
    "b = ['Uno','Dos']\n",
    "c = zip(a,b)\n",
    "\n",
    "print(list(c))"
   ]
  },
  {
   "cell_type": "code",
   "execution_count": 53,
   "metadata": {},
   "outputs": [
    {
     "name": "stdout",
     "output_type": "stream",
     "text": [
      "(0, 'Maria')\n",
      "(1, 'Pablo')\n",
      "(2, 'Jose')\n",
      "(3, 'Pepe')\n"
     ]
    }
   ],
   "source": [
    "estudiantes = ['Maria','Pablo','Jose','Pepe']\n",
    "for i in enumerate(estudiantes):\n",
    "    print(i)"
   ]
  },
  {
   "cell_type": "markdown",
   "metadata": {},
   "source": [
    "# FUNCIONES"
   ]
  },
  {
   "cell_type": "markdown",
   "metadata": {},
   "source": [
    "Una función va a consistir en un bloque de código que encapsula una tarea específica o un grupo de tareas relacionadas. Las funciones permiten dividir programas complejos en fragmentos más pequeños y modulares.\n",
    "```\n",
    "def <nombre_funcion>([<parámetros>]):\n",
    "    <sentencia(s)>\n",
    "```"
   ]
  },
  {
   "cell_type": "code",
   "execution_count": 55,
   "metadata": {},
   "outputs": [],
   "source": [
    "def x ():\n",
    "    len\n",
    "    "
   ]
  },
  {
   "cell_type": "code",
   "execution_count": null,
   "metadata": {},
   "outputs": [],
   "source": []
  }
 ],
 "metadata": {
  "interpreter": {
   "hash": "33ba981f45df271ef2947761f0b739a390df0f363cc4477a01d79ff1edceb140"
  },
  "kernelspec": {
   "display_name": "Python 3.8.8 64-bit ('base': conda)",
   "name": "python3"
  },
  "language_info": {
   "codemirror_mode": {
    "name": "ipython",
    "version": 3
   },
   "file_extension": ".py",
   "mimetype": "text/x-python",
   "name": "python",
   "nbconvert_exporter": "python",
   "pygments_lexer": "ipython3",
   "version": "3.9.12"
  },
  "orig_nbformat": 4
 },
 "nbformat": 4,
 "nbformat_minor": 2
}
