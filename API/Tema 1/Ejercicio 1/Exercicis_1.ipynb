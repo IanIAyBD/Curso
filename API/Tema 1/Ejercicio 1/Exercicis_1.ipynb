{
 "cells": [
  {
   "cell_type": "markdown",
   "metadata": {},
   "source": [
    "# EJERCICIOS"
   ]
  },
  {
   "cell_type": "markdown",
   "metadata": {},
   "source": [
    "# MATRIZ"
   ]
  },
  {
   "cell_type": "code",
   "execution_count": null,
   "metadata": {},
   "outputs": [],
   "source": []
  },
  {
   "cell_type": "markdown",
   "metadata": {},
   "source": [
    "Muestra la matriz por pantalla. Accede al valor 33 de la matriz.\n",
    "\n",
    "$ \\begin{pmatrix} 1 & 11 \\\\ 2 & 22 \\\\ 3 & 33\\\\ \\end{pmatrix} $"
   ]
  },
  {
   "cell_type": "code",
   "execution_count": 6,
   "metadata": {},
   "outputs": [
    {
     "name": "stdout",
     "output_type": "stream",
     "text": [
      "[1, 11]\n",
      "[2, 22]\n",
      "[3, 33]\n",
      "Acceder al valor 33: matriz[2][1] =  33\n"
     ]
    }
   ],
   "source": [
    "matriz = [[1,11],[2,22],[3,33]]\n",
    "for elemento in matriz:\n",
    "    print(elemento)\n",
    "print(\"Acceder al valor 33: matriz[2][1] = \",matriz[2][1])"
   ]
  },
  {
   "cell_type": "markdown",
   "metadata": {},
   "source": [
    "# IMPORT\n",
    "<pre>\n",
    "#Importar la librería numpy con nombre np\n",
    "\n",
    "import numpy as np\n",
    "\n",
    "#Importar una función load_iris de sklearn.datasets\n",
    "\n",
    "from sklearn.datasets import load_iris\n",
    "\n",
    "#Importar todas las funciones de math\n",
    "\n",
    "from math import *\n",
    "\n",
    "# para imprimir usaremos la librería tabulate https://github.com/astanin/python-tabulate\n",
    "\n",
    "from tabulate import tabulate\n",
    "\n",
    "a=[  [5,0.7,0.765], [10,1.45,0.84], [20,2.678,0.978], [60,11.396,0.9973] ]\n",
    "\n",
    "Imprime los resultados utilizando las siguientes cabeceras: \"Épocas\", \"Tiempo (s)\" y \"Resultado\"\n",
    "</pre>"
   ]
  },
  {
   "cell_type": "code",
   "execution_count": 7,
   "metadata": {},
   "outputs": [],
   "source": [
    "import numpy as np\n",
    "from sklearn.datasets import load_iris\n",
    "from math import *\n"
   ]
  },
  {
   "cell_type": "code",
   "execution_count": 8,
   "metadata": {},
   "outputs": [],
   "source": [
    "from tabulate import tabulate\n",
    "\n",
    "a=[ [5,0.7,0.765],  [10,1.45,0.84], [20,2.678,0.978],   [60,11.396,0.9973]  ]"
   ]
  },
  {
   "cell_type": "code",
   "execution_count": 20,
   "metadata": {},
   "outputs": [
    {
     "name": "stdout",
     "output_type": "stream",
     "text": [
      "Epocas   Tiempo    Resultado\n"
     ]
    }
   ],
   "source": [
    "\n"
   ]
  },
  {
   "cell_type": "markdown",
   "metadata": {},
   "source": [
    "# TIPOS DE VARIABLES"
   ]
  },
  {
   "cell_type": "markdown",
   "metadata": {},
   "source": [
    "<pre>Crea 2 variables booleanas una con el valor verdadero y otra con el valor falso.\n",
    "Crea una variable de tipo String con un número y la transformas en un int.\n",
    "Crea una variable de tipo String con un número y la transformas en un float.\n",
    "Crea una variable de tipo int y la transformas en un float.\n",
    "Crea una variable de tipo int y la transformas en un String.\n",
    "Crea una variable de tipo float y la transformas en un float.\n",
    "Crea una variable de tipo float y la transformas en un int. ¿La función redondea o trunca?\n",
    "</pre>"
   ]
  },
  {
   "cell_type": "code",
   "execution_count": null,
   "metadata": {},
   "outputs": [],
   "source": []
  },
  {
   "cell_type": "markdown",
   "metadata": {},
   "source": [
    "## OPERADORES\n",
    "\n",
    "+ Haz la división con decimales de 5/3\n",
    "+ Haz la división entera de 5/3\n",
    "+ Calcula $ 2^{16} $"
   ]
  },
  {
   "cell_type": "code",
   "execution_count": null,
   "metadata": {},
   "outputs": [],
   "source": []
  },
  {
   "cell_type": "code",
   "execution_count": null,
   "metadata": {},
   "outputs": [],
   "source": []
  },
  {
   "cell_type": "code",
   "execution_count": null,
   "metadata": {},
   "outputs": [],
   "source": []
  },
  {
   "cell_type": "markdown",
   "metadata": {},
   "source": [
    "# ARRAYS"
   ]
  },
  {
   "cell_type": "markdown",
   "metadata": {},
   "source": [
    "<pre>\n",
    "Crea una array con los siguiente números primos e imprime el cuarto número: 2, 3, 5, 7, 11, 13, 17, 19, 23, 29\n",
    "Calcula la longitud del anterior array\n",
    "Calcula la suma de los elementos del anterior array\n",
    "Crea una tupla con los siguiente números primos e imprime el cuarto número: 2, 3, 5, 7, 11, 13, 17, 19, 23, 29\n",
    "Anterior, añade 3 alementos.\n",
    "Crea una array que sea la unión de los elementos de los siguientes dos arrays 1,2,3,4 y 10,20,30,40\n",
    "Añade al array 1,2,3,4 el siguiente array 10,20,30,40, pero como si fiera un único elemento. ¿Vas la diferencia con el ejercicio anterior?\n",
    "</pre>"
   ]
  },
  {
   "cell_type": "code",
   "execution_count": null,
   "metadata": {},
   "outputs": [],
   "source": []
  },
  {
   "cell_type": "code",
   "execution_count": null,
   "metadata": {},
   "outputs": [],
   "source": []
  },
  {
   "cell_type": "code",
   "execution_count": null,
   "metadata": {},
   "outputs": [],
   "source": []
  },
  {
   "cell_type": "code",
   "execution_count": null,
   "metadata": {},
   "outputs": [],
   "source": []
  },
  {
   "cell_type": "code",
   "execution_count": null,
   "metadata": {},
   "outputs": [],
   "source": []
  },
  {
   "cell_type": "code",
   "execution_count": null,
   "metadata": {},
   "outputs": [],
   "source": []
  },
  {
   "cell_type": "markdown",
   "metadata": {},
   "source": [
    "## PRINT ARRAYS"
   ]
  },
  {
   "cell_type": "markdown",
   "metadata": {},
   "source": [
    "<pre>\n",
    "Dado el array:\n",
    "a=[2, 3, 5, 7, 11, 13, 17, 19, 23, 29, 31, 37, 41, 43, 47, 53, 59, 61, 67, 71, 73, 79, 83, 89, 97]\n",
    "Imprime todos sus números cada un en una línea distinta\n",
    "Imprime todos sus números en una única línea y separados por punto y coma\n",
    "Imprime todos sus números en una única línea y separados por un espacio\n",
    "Imprime todos sus números de forma que se impriman 2 por línea y separados por una coma\n",
    "Imprime todos sus números de forma que se impriman 3 por línea y sin separación entre los\n",
    "números</pre>"
   ]
  },
  {
   "cell_type": "code",
   "execution_count": null,
   "metadata": {},
   "outputs": [],
   "source": []
  },
  {
   "cell_type": "code",
   "execution_count": null,
   "metadata": {},
   "outputs": [],
   "source": []
  },
  {
   "cell_type": "code",
   "execution_count": null,
   "metadata": {},
   "outputs": [],
   "source": []
  },
  {
   "cell_type": "code",
   "execution_count": null,
   "metadata": {},
   "outputs": [],
   "source": []
  },
  {
   "cell_type": "code",
   "execution_count": null,
   "metadata": {},
   "outputs": [],
   "source": []
  },
  {
   "cell_type": "markdown",
   "metadata": {},
   "source": [
    "# DICCIONARIOS"
   ]
  },
  {
   "cell_type": "markdown",
   "metadata": {},
   "source": [
    "<pre>\n",
    "Crea una variable llamada cliente que sea un diccionario con la información de este cliente:\n",
    "\n",
    "nombre: Juan\n",
    "apellidos: Pérez García\n",
    "teléfono:\n",
    "  movil: 654789658\n",
    "  fijo: 963789654\n",
    "dirección:\n",
    "  tipo via: calle\n",
    "  numero: 45\n",
    "  puerta: 7\n",
    "numero facturas:\n",
    "  compras: 234/2020, 345/2021, 675/2021, 561/2022\n",
    "  ventas: 456/2020, 564/2021, 768/2021, 345/2022\n",
    "</pre>"
   ]
  },
  {
   "cell_type": "code",
   "execution_count": null,
   "metadata": {},
   "outputs": [],
   "source": []
  },
  {
   "cell_type": "markdown",
   "metadata": {},
   "source": [
    "<pre>\n",
    "Del anterior diccionario muestra la siguiente información:\n",
    "  nombre\n",
    "  El teléfono móvil\n",
    "  El tipo de vía\n",
    "  El número de la 3º factura que vendió\n",
    "  La cantidad de compras que ha hecho.\n",
    "Imprime el nombre de las claves del \"primer nivel\"</pre>"
   ]
  },
  {
   "cell_type": "code",
   "execution_count": null,
   "metadata": {},
   "outputs": [],
   "source": []
  },
  {
   "cell_type": "code",
   "execution_count": null,
   "metadata": {},
   "outputs": [],
   "source": []
  },
  {
   "cell_type": "code",
   "execution_count": null,
   "metadata": {},
   "outputs": [],
   "source": []
  },
  {
   "cell_type": "code",
   "execution_count": null,
   "metadata": {},
   "outputs": [],
   "source": []
  },
  {
   "cell_type": "markdown",
   "metadata": {},
   "source": [
    "# ESTRUCTURAS DE CONTROL"
   ]
  },
  {
   "cell_type": "markdown",
   "metadata": {},
   "source": [
    "<pre>\n",
    "Usando la variable cliente del ejercicio anterior, haz lo siguiente:\n",
    "  Muestra el texto \"Cliente Importante\" si el número de compras es mayor que 5 o sino muestra \"Cliente Normal\"\n",
    "  Muestra el texto \"Cliente Importante\" si el número de compras es mayor que 5 , si el número de compras es entre 2 y 5 muestra \"Cliente Normal\" , sino muestra \"Cliente poco importante\"\n",
    "\n",
    "  \n",
    "  Haz que se muestre por pantalla los números del 0 al 999\n",
    "  Haz que se muestre por pantalla los números del 1 al 1000\n",
    "  Crea un array con los números primos hasta el 100, que son 2, 3, 5, 7, 11, 13, 17, 19, 23, 29, 31,37, 41, 43, 47, 53, 59, 61, 67, 71, 73, 79, 83, 89, 97\n",
    "     Muestra cada número por pantalla.\n",
    "     Haz que se muestren por pantalla el número junto con el orden que ocupan. Por ejemplo 4º →7 , 6º → 13\n",
    "  Modifica el ejercicio anterior de forma que si es el primer número primo del array, se muestre Primero → 2 y si es el último número primo del array , se muestre Último → 97</pre>"
   ]
  },
  {
   "cell_type": "code",
   "execution_count": null,
   "metadata": {},
   "outputs": [],
   "source": []
  },
  {
   "cell_type": "code",
   "execution_count": null,
   "metadata": {},
   "outputs": [],
   "source": []
  },
  {
   "cell_type": "code",
   "execution_count": null,
   "metadata": {},
   "outputs": [],
   "source": []
  },
  {
   "cell_type": "code",
   "execution_count": null,
   "metadata": {},
   "outputs": [],
   "source": []
  },
  {
   "cell_type": "code",
   "execution_count": null,
   "metadata": {},
   "outputs": [],
   "source": []
  },
  {
   "cell_type": "code",
   "execution_count": null,
   "metadata": {},
   "outputs": [],
   "source": []
  },
  {
   "cell_type": "markdown",
   "metadata": {},
   "source": [
    "# FUNCIONES"
   ]
  },
  {
   "cell_type": "markdown",
   "metadata": {},
   "source": [
    "<pre>\n",
    "1.-Haz una función llamada \"importe_final que dado el precio de un producto y el porcentaje de descuento , nos diga el importe del producto. Usa la función con los valores de 120€ y un 10% e imprime el resultado. Vuelve a llamar ahora a la función pero cambiando el nombre de los argumentos y usando el nombre de los parámetros en la llamada.\n",
    "2.-Modifica la función para que retorne tanto el importe como la cantidad que se ha descontado del precio. Usa la función con los valores de 120€ y un 10% e imprime el resultado.\n",
    "3.-Modifica la función para que por defecto el descuento sea un 10% y no sea necesario pasar ese valor. Usa la función con el valor de 120€ e imprime el resultado.</pre>"
   ]
  },
  {
   "cell_type": "code",
   "execution_count": null,
   "metadata": {},
   "outputs": [],
   "source": []
  },
  {
   "cell_type": "code",
   "execution_count": null,
   "metadata": {},
   "outputs": [],
   "source": []
  },
  {
   "cell_type": "code",
   "execution_count": null,
   "metadata": {},
   "outputs": [],
   "source": []
  }
 ],
 "metadata": {
  "kernelspec": {
   "display_name": "Python 3.9.12 ('base')",
   "language": "python",
   "name": "python3"
  },
  "language_info": {
   "codemirror_mode": {
    "name": "ipython",
    "version": 3
   },
   "file_extension": ".py",
   "mimetype": "text/x-python",
   "name": "python",
   "nbconvert_exporter": "python",
   "pygments_lexer": "ipython3",
   "version": "3.9.12"
  },
  "orig_nbformat": 4,
  "vscode": {
   "interpreter": {
    "hash": "12aa012b0327e3e9f12c780aa48bb959bdea4832cf7313bc84dcebc3ab390eb7"
   }
  }
 },
 "nbformat": 4,
 "nbformat_minor": 2
}
