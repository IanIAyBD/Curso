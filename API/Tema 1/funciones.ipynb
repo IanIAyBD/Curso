{
 "cells": [
  {
   "cell_type": "code",
   "execution_count": 14,
   "metadata": {},
   "outputs": [
    {
     "name": "stdout",
     "output_type": "stream",
     "text": [
      "[2, 4, 6, 8]\n",
      "[1, 2, 3, 4, 5, 6, 7, 8, 9]\n"
     ]
    }
   ],
   "source": [
    "numeros=[1,2,3,4,5,6,7,8,9]\n",
    "\n",
    "par_num = list(filter(lambda x: x%2 == 0, numeros))\n",
    "print (par_num)\n",
    "print (numeros)"
   ]
  },
  {
   "cell_type": "code",
   "execution_count": 13,
   "metadata": {},
   "outputs": [
    {
     "name": "stdout",
     "output_type": "stream",
     "text": [
      "[0, 6, 12, 18, 24, 30, 36, 42, 48, 54]\n"
     ]
    }
   ],
   "source": [
    "par_num_map = list(map(lambda x: x * 6, numeros))\n",
    "print (par_num_map)"
   ]
  },
  {
   "cell_type": "code",
   "execution_count": 18,
   "metadata": {},
   "outputs": [
    {
     "name": "stdout",
     "output_type": "stream",
     "text": [
      "['Maria', 'Jose', 'Ana', 'Andrés']\n"
     ]
    }
   ],
   "source": [
    "lista = ['Maria','Jose','portatil','perro','Ana','guitarra','Andrés']\n",
    "\n",
    "may_lista = list(filter(lambda x : x[0].isupper(), lista))\n",
    "print (may_lista)"
   ]
  },
  {
   "cell_type": "code",
   "execution_count": 24,
   "metadata": {},
   "outputs": [
    {
     "name": "stdout",
     "output_type": "stream",
     "text": [
      "1.18 s ± 0 ns per loop (mean ± std. dev. of 1 run, 1 loop each)\n",
      "1.18 seg\n",
      "1.2917342739992819\n",
      "4999999950000000\n"
     ]
    }
   ],
   "source": [
    "from time import perf_counter\n",
    "\n",
    "time = %timeit -n1 -r1 -o sum(range(100000000))\n",
    "\n",
    "print(round(time.average,2),\"seg\")\n",
    "\n",
    "t = perf_counter()\n",
    "resultado = sum(range(100000000))\n",
    "t = perf_counter()-t\n",
    "\n",
    "print(t)\n",
    "print(resultado)\n"
   ]
  },
  {
   "cell_type": "code",
   "execution_count": 25,
   "metadata": {},
   "outputs": [],
   "source": [
    "def operaciones(op):\n",
    "    def suma(a,b):\n",
    "        return a + b\n",
    "    def resta(a,b):\n",
    "        return a -b\n",
    "    if op == \"suma\":\n",
    "        return suma\n",
    "    elif op == \"resta\":\n",
    "        return resta"
   ]
  },
  {
   "cell_type": "code",
   "execution_count": 26,
   "metadata": {},
   "outputs": [
    {
     "data": {
      "text/plain": [
       "9"
      ]
     },
     "execution_count": 26,
     "metadata": {},
     "output_type": "execute_result"
    }
   ],
   "source": [
    "operaciones(\"suma\")(2,7)"
   ]
  },
  {
   "cell_type": "code",
   "execution_count": null,
   "metadata": {},
   "outputs": [],
   "source": []
  }
 ],
 "metadata": {
  "interpreter": {
   "hash": "884d91944a0fc43a6985f5fe93e6455a304636fbd6abe963398f900a7da1ef5e"
  },
  "kernelspec": {
   "display_name": "Python 3.9.12 ('base')",
   "language": "python",
   "name": "python3"
  },
  "language_info": {
   "name": "python",
   "version": "3.9.12"
  },
  "orig_nbformat": 4
 },
 "nbformat": 4,
 "nbformat_minor": 2
}
