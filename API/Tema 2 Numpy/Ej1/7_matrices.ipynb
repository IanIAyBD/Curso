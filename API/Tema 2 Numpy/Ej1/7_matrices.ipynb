{
 "cells": [
  {
   "cell_type": "markdown",
   "metadata": {},
   "source": [
    "# MATRICES"
   ]
  },
  {
   "cell_type": "markdown",
   "metadata": {},
   "source": [
    "![Arrays](./arrays.png)"
   ]
  },
  {
   "cell_type": "markdown",
   "metadata": {},
   "source": [
    "Mostrar una matriz por pantalla:\n",
    "\n",
    "$ \\begin{pmatrix} 1 & 2 \\\\ 3 & 4 \\\\ \\end{pmatrix} $\n",
    "\n",
    "\n",
    "$ \\begin{pmatrix} 1 & 11 \\\\ 2 & 22\\\\ 3 & 33\\\\ \\end{pmatrix} $\n",
    "\n",
    "\n",
    "$$\n",
    "\\left(\n",
    "\\begin{pmatrix}\n",
    "1 & 11\\\\\n",
    "2 & 22\\\\\n",
    "3 & 33\n",
    "\\end{pmatrix}\n",
    "\\begin{pmatrix}\n",
    "4 & 44\\\\\n",
    "5 & 55\\\\\n",
    "6 & 66\n",
    "\\end{pmatrix}\n",
    "\\right)\n",
    "$$\n",
    "\n",
    "\n",
    "$$\n",
    "\\left(\n",
    "\\begin{array}{ll}\n",
    "123 & 4 \\\\\n",
    "1   & 234 \\\\\n",
    "\\end{array}\n",
    "\\right)\n",
    "$$\n",
    "\n",
    "<!---\n",
    "$$\n",
    "\\left\\{\n",
    "\\begin{array}{ll}\n",
    "123 & 4  \\\\\n",
    "1   & 234 \n",
    "\\end{array}\n",
    "\\right.\n",
    "$$\n",
    "\n",
    "$$\n",
    "        \\begin{matrix}\n",
    "        1 & x & x^2 \\\\\n",
    "        1 & y & y^2 \\\\\n",
    "        1 & z & z^2 \\\\\n",
    "        \\end{matrix}\n",
    "$$\n",
    "\n",
    "\n",
    "$ \\begin{matrix} 1 & 2 \\\\ 3 & 4 \\\\ \\end{matrix} $\n",
    "$ \\begin{pmatrix} 1 & 2 \\\\ 3 & 4 \\\\ \\end{pmatrix} $\n",
    "$ \\begin{bmatrix} 1 & 2 \\\\ 3 & 4 \\\\ \\end{bmatrix} $\n",
    "$ \\begin{Bmatrix} 1 & 2 \\\\ 3 & 4 \\\\ \\end{Bmatrix} $\n",
    "$ \\begin{vmatrix} 1 & 2 \\\\ 3 & 4 \\\\ \\end{vmatrix} $\n",
    "$ \\begin{Vmatrix} 1 & 2 \\\\ 3 & 4 \\\\ \\end{Vmatrix} $\n",
    "\n",
    "-->\n",
    "\n",
    "$$\n",
    "        \\begin{pmatrix}\n",
    "        1 & a_1 & a_1^2 & \\cdots & a_1^n \\\\\n",
    "        1 & a_2 & a_2^2 & \\cdots & a_2^n \\\\\n",
    "        \\vdots & \\vdots & \\vdots & \\ddots & \\vdots \\\\\n",
    "        1 & a_m & a_m^2 & \\cdots & a_m^n \\\\\n",
    "        \\end{pmatrix}\n",
    "$$"
   ]
  },
  {
   "cell_type": "markdown",
   "metadata": {},
   "source": [
    "# EJERCICIOS"
   ]
  },
  {
   "cell_type": "markdown",
   "metadata": {},
   "source": [
    "## 1"
   ]
  },
  {
   "cell_type": "markdown",
   "metadata": {},
   "source": [
    "Usando la función **arange** de numpy crea un array con los números del 100 al 200 pero sin incluir el 200. Muestra el resultado."
   ]
  },
  {
   "cell_type": "code",
   "execution_count": null,
   "metadata": {},
   "outputs": [],
   "source": []
  },
  {
   "cell_type": "markdown",
   "metadata": {},
   "source": [
    "## 2"
   ]
  },
  {
   "cell_type": "markdown",
   "metadata": {},
   "source": [
    "Crea una array de numpy con los siguiente números primos: 2, 3, 5, 7, 11, 13, 17, 19, 23, 29"
   ]
  },
  {
   "cell_type": "code",
   "execution_count": null,
   "metadata": {},
   "outputs": [],
   "source": []
  },
  {
   "cell_type": "markdown",
   "metadata": {},
   "source": [
    "* Muestra el último elemento. Y debes hacerlo sin saber su longitud."
   ]
  },
  {
   "cell_type": "code",
   "execution_count": null,
   "metadata": {},
   "outputs": [],
   "source": []
  },
  {
   "cell_type": "markdown",
   "metadata": {},
   "source": [
    "* Muestra el 3º elemento"
   ]
  },
  {
   "cell_type": "code",
   "execution_count": null,
   "metadata": {},
   "outputs": [],
   "source": []
  },
  {
   "cell_type": "markdown",
   "metadata": {},
   "source": [
    "* Muestra el último y 3º elemento."
   ]
  },
  {
   "cell_type": "code",
   "execution_count": null,
   "metadata": {},
   "outputs": [],
   "source": []
  },
  {
   "cell_type": "markdown",
   "metadata": {},
   "source": [
    "* Muestra del 2º al 5º elemento. "
   ]
  },
  {
   "cell_type": "code",
   "execution_count": null,
   "metadata": {},
   "outputs": [],
   "source": []
  },
  {
   "cell_type": "markdown",
   "metadata": {},
   "source": [
    "* Muestra el 2º y el 5º elemento. "
   ]
  },
  {
   "cell_type": "code",
   "execution_count": null,
   "metadata": {},
   "outputs": [],
   "source": []
  },
  {
   "cell_type": "markdown",
   "metadata": {},
   "source": [
    "* Muestra el último y el penúltimo elemento. Y debes hacerlo sin saber su longitud. "
   ]
  },
  {
   "cell_type": "code",
   "execution_count": null,
   "metadata": {},
   "outputs": [],
   "source": []
  },
  {
   "cell_type": "markdown",
   "metadata": {},
   "source": [
    "## 3"
   ]
  },
  {
   "cell_type": "markdown",
   "metadata": {},
   "source": [
    "Crea la siguiente matriz:\n",
    "\n",
    "$ \\begin{pmatrix} 1 & 4 & 6 & 5 \\\\ 4 & 1 & 7 & 3 \\\\ 2 & 9 & 1 & 2 \\\\ 6 & 3 & 1 & 1 \\\\ \\end{pmatrix} $\n",
    "\n",
    "\n",
    "*    Muestra el elemento de la fila 2º y la columna 3º. Es el valor del 7.\n",
    "*    Muestra la 3º Fila\n",
    "*    Muestra la 2º Columna\n",
    "*    Muestra la 2º y 3º Columna\n",
    "*    Muestra la 2º y 3º Fila\n",
    "*    Muestra la última columna. Debe funcionar independientemente del número de columnas.\n",
    "*    Muestra la 2º y 3º Columna y la 1º y 3º fila\n",
    "*    Muestra de la 2º a la 3º Columna y de la 1º a la 3º fila\n",
    "*    Muestra todas las columnas excepto la primera y la última. Debe funcionar independientemente del número de columnas.\n",
    "*    Muestra todas las filas excepto la primera y la última. Debe funcionar independientemente del número de filas.\n",
    "*    Muestra todas las columnas excepto la primera y la última y todas las filas excepto la primera y la última. Debe funcionar independientemente del número de filas y columnas."
   ]
  },
  {
   "cell_type": "code",
   "execution_count": null,
   "metadata": {},
   "outputs": [],
   "source": []
  },
  {
   "cell_type": "markdown",
   "metadata": {},
   "source": [
    "* Muestra el elemento de la fila 2º y la columna 3º. Es el valor del 7."
   ]
  },
  {
   "cell_type": "code",
   "execution_count": null,
   "metadata": {},
   "outputs": [],
   "source": []
  },
  {
   "cell_type": "markdown",
   "metadata": {},
   "source": [
    "* Muestra la 3º Fila"
   ]
  },
  {
   "cell_type": "code",
   "execution_count": null,
   "metadata": {},
   "outputs": [],
   "source": []
  },
  {
   "cell_type": "markdown",
   "metadata": {},
   "source": [
    "* Muestra la 2º Columna"
   ]
  },
  {
   "cell_type": "code",
   "execution_count": null,
   "metadata": {},
   "outputs": [],
   "source": []
  },
  {
   "cell_type": "markdown",
   "metadata": {},
   "source": [
    "* Muestra la 2º y 3º Columna"
   ]
  },
  {
   "cell_type": "code",
   "execution_count": null,
   "metadata": {},
   "outputs": [],
   "source": []
  },
  {
   "cell_type": "markdown",
   "metadata": {},
   "source": [
    "* Muestra la 2º y 3º Fila"
   ]
  },
  {
   "cell_type": "code",
   "execution_count": null,
   "metadata": {},
   "outputs": [],
   "source": []
  },
  {
   "cell_type": "markdown",
   "metadata": {},
   "source": [
    "*    Muestra la última columna. Debe funcionar independientemente del número de columnas."
   ]
  },
  {
   "cell_type": "code",
   "execution_count": null,
   "metadata": {},
   "outputs": [],
   "source": []
  },
  {
   "cell_type": "markdown",
   "metadata": {},
   "source": [
    "*    Muestra la 2º y 3º Columna y la 1º y 3º fila"
   ]
  },
  {
   "cell_type": "code",
   "execution_count": null,
   "metadata": {},
   "outputs": [],
   "source": []
  },
  {
   "cell_type": "markdown",
   "metadata": {},
   "source": [
    "*  Muestra de la 2º a la 3º Columna y de la 1º a la 3º fila"
   ]
  },
  {
   "cell_type": "code",
   "execution_count": null,
   "metadata": {},
   "outputs": [],
   "source": []
  },
  {
   "cell_type": "markdown",
   "metadata": {},
   "source": [
    "* Muestra todas las columnas excepto la primera y la última. Debe funcionar independientemente del número de columnas."
   ]
  },
  {
   "cell_type": "code",
   "execution_count": null,
   "metadata": {},
   "outputs": [],
   "source": []
  },
  {
   "cell_type": "markdown",
   "metadata": {},
   "source": [
    "* Muestra todas las filas excepto la primera y la última. Debe funcionar independientemente del número de filas."
   ]
  },
  {
   "cell_type": "code",
   "execution_count": null,
   "metadata": {},
   "outputs": [],
   "source": []
  },
  {
   "cell_type": "markdown",
   "metadata": {},
   "source": [
    "* Muestra todas las columnas excepto la primera y la última y todas las filas excepto la primera y la última. Debe funcionar independientemente del número de filas y columnas."
   ]
  },
  {
   "cell_type": "code",
   "execution_count": null,
   "metadata": {},
   "outputs": [],
   "source": []
  },
  {
   "cell_type": "markdown",
   "metadata": {},
   "source": [
    "## 4"
   ]
  },
  {
   "cell_type": "markdown",
   "metadata": {},
   "source": [
    "\n",
    "\n",
    "El siguiente array contiene las temperaturas medias que ha hecho en Valencia en cada mes [10.2, 10.7, 13.3, 15.8, 19.3, 23.6, 26, 25.9, 22.8, 19.1, 13.9, 10.8 ]\n",
    "\n",
    "*    Muestra las temperaturas cuyo valor sea mayor que 20\n",
    "*    Muestra las temperaturas cuyo valor sea menor que 11\n",
    "*    Muestra las temperaturas cuyo valor sea mayor que 20 o menor que 11\n",
    "\n"
   ]
  },
  {
   "cell_type": "code",
   "execution_count": null,
   "metadata": {},
   "outputs": [],
   "source": []
  },
  {
   "cell_type": "code",
   "execution_count": null,
   "metadata": {},
   "outputs": [],
   "source": []
  },
  {
   "cell_type": "code",
   "execution_count": null,
   "metadata": {},
   "outputs": [],
   "source": []
  },
  {
   "cell_type": "markdown",
   "metadata": {},
   "source": [
    "## 5"
   ]
  },
  {
   "cell_type": "markdown",
   "metadata": {},
   "source": [
    "**Matrices en 2 D**"
   ]
  },
  {
   "cell_type": "markdown",
   "metadata": {},
   "source": [
    "Selecciona las celdas en rojo oscuro de la siguiente matriz:\n",
    "(Crea un \"muro\" (matriz) de ceros y pon a 1 las celdas del centro ;-))"
   ]
  },
  {
   "cell_type": "markdown",
   "metadata": {},
   "source": [
    "![muro](./muro1.png)"
   ]
  },
  {
   "cell_type": "code",
   "execution_count": null,
   "metadata": {},
   "outputs": [],
   "source": []
  },
  {
   "cell_type": "markdown",
   "metadata": {},
   "source": [
    "## 6"
   ]
  },
  {
   "cell_type": "markdown",
   "metadata": {},
   "source": [
    "**Matrices en 3 D**"
   ]
  },
  {
   "cell_type": "markdown",
   "metadata": {},
   "source": [
    "Ahora selecciona las celdas en rojo oscuro pero también las verdes y azules que hay por detrás de las rojo oscuro.\n",
    "(Crea un \"muro\" (matriz) de ceros (de 3 dimensiones) y pon a 1 las celdas del centro en todas las dimensiones ;-))"
   ]
  },
  {
   "cell_type": "markdown",
   "metadata": {},
   "source": [
    "![muro](./muro2.png)"
   ]
  },
  {
   "cell_type": "code",
   "execution_count": null,
   "metadata": {},
   "outputs": [],
   "source": []
  },
  {
   "cell_type": "markdown",
   "metadata": {},
   "source": [
    "## 7"
   ]
  },
  {
   "cell_type": "markdown",
   "metadata": {},
   "source": [
    "Crea la siguiente matriz:\n",
    "\n",
    "$ \\begin{pmatrix} 1 & 4 & 6 & 5 \\\\ 4 & 1 & 7 & 3 \\\\ 2 & 9 & 1 & 2 \\\\ 6 & 3 & 1 & 1 \\\\ \\end{pmatrix} $\n",
    "\n",
    "\n",
    "*   A todos los elementos de la matriz sumale un 10. Usando las funciones de numpy\n",
    "*   A todos los elementos de la matriz sumale un 10 y divídelos entre 2. Usando las funciones de numpy\n",
    "*   A todos los elementos de la matriz sumale un 10. Usando operadores\n",
    "*   A todos los elementos de la matriz sumale un 10 y divídelos entre 2. Usando operadores\n"
   ]
  },
  {
   "cell_type": "code",
   "execution_count": null,
   "metadata": {},
   "outputs": [],
   "source": []
  },
  {
   "cell_type": "code",
   "execution_count": null,
   "metadata": {},
   "outputs": [],
   "source": []
  },
  {
   "cell_type": "code",
   "execution_count": null,
   "metadata": {},
   "outputs": [],
   "source": []
  },
  {
   "cell_type": "code",
   "execution_count": null,
   "metadata": {},
   "outputs": [],
   "source": []
  },
  {
   "cell_type": "markdown",
   "metadata": {},
   "source": [
    "## 8"
   ]
  },
  {
   "cell_type": "markdown",
   "metadata": {},
   "source": [
    "Crea la siguiente matriz:\n",
    "\n",
    "$ \\begin{pmatrix} 1 & 2 & 3 \\\\ 4 & 5 & 6 \\\\ 7 & 8 & 9 \\\\ \\end{pmatrix} $\n",
    "\n",
    "Multiplica cada elemento de la matriz por si mismo.\n",
    "Multiplica la matriz por si misma."
   ]
  },
  {
   "cell_type": "code",
   "execution_count": null,
   "metadata": {},
   "outputs": [],
   "source": []
  },
  {
   "cell_type": "markdown",
   "metadata": {},
   "source": [
    "## 9"
   ]
  },
  {
   "cell_type": "markdown",
   "metadata": {},
   "source": [
    "Crea la siguiente matriz:\n",
    "\n",
    "$ \\begin{pmatrix} 1 & 0 & 0 & 0 \\\\ 0 & 1 & 7 & 0 \\\\ 0 & 0 & 1 & 0 \\\\ 0 & 0 & 0 & 1 \\\\ \\end{pmatrix} $\n",
    "\n",
    "* Obtén el elemento de la fila 2º y la columna 3º. (Es el valor del 7).\n",
    "* Crea un nuevo array con los elementos de la 3º Fila de la matriz.\n",
    "* Crea un nuevo array con los elementos de la 2º Columna de la matriz.\n",
    "* Imprime la matriz y haz que las cabeceras de cada columna sean A, B , C y D."
   ]
  },
  {
   "cell_type": "code",
   "execution_count": null,
   "metadata": {},
   "outputs": [],
   "source": []
  },
  {
   "cell_type": "code",
   "execution_count": null,
   "metadata": {},
   "outputs": [],
   "source": []
  },
  {
   "cell_type": "code",
   "execution_count": null,
   "metadata": {},
   "outputs": [],
   "source": []
  },
  {
   "cell_type": "code",
   "execution_count": null,
   "metadata": {},
   "outputs": [],
   "source": []
  },
  {
   "cell_type": "markdown",
   "metadata": {},
   "source": [
    "## 10"
   ]
  },
  {
   "cell_type": "markdown",
   "metadata": {},
   "source": [
    "Crea una función llamada f que acepte como parámetro el número y que retorne el valor multiplicado por 2 y además que se le sume 1.\n",
    "\n",
    "Crea ahora el vector de numpy [1,5,4,7,3,9,8,6] y aplícale la función f\n"
   ]
  },
  {
   "cell_type": "code",
   "execution_count": null,
   "metadata": {},
   "outputs": [],
   "source": []
  },
  {
   "cell_type": "code",
   "execution_count": null,
   "metadata": {},
   "outputs": [],
   "source": []
  },
  {
   "cell_type": "code",
   "execution_count": null,
   "metadata": {},
   "outputs": [],
   "source": []
  },
  {
   "cell_type": "markdown",
   "metadata": {},
   "source": [
    "## 11"
   ]
  },
  {
   "cell_type": "markdown",
   "metadata": {},
   "source": [
    "Crea una función llamada f que acepte como parámetro el número y que retorne lo siguiente:\n",
    "\n",
    "*    Si es valor está en el rango ]-inf,3[ que retorne 0\n",
    "*    Si es valor está en el rango [3,5[ que retorne 4\n",
    "*    Si es valor está en el rango [5,6[ que retorne 5\n",
    "*    Si es valor está en el rango [6,7[ que retorne 6\n",
    "*    Si es valor está en el rango [7,9[ que retorne 8\n",
    "*    Si es valor está en el rango [9,+inf[ que retorne 10\n",
    "\n",
    "Crea ahora el vector de numpy [1,5,4,7,3,9,8,6] y aplícale la función f"
   ]
  },
  {
   "cell_type": "code",
   "execution_count": null,
   "metadata": {},
   "outputs": [],
   "source": []
  },
  {
   "cell_type": "code",
   "execution_count": null,
   "metadata": {},
   "outputs": [],
   "source": []
  },
  {
   "cell_type": "code",
   "execution_count": null,
   "metadata": {},
   "outputs": [],
   "source": []
  },
  {
   "cell_type": "markdown",
   "metadata": {},
   "source": [
    "## 12"
   ]
  },
  {
   "cell_type": "markdown",
   "metadata": {},
   "source": [
    "Dado el siguiente array:\n",
    "\n",
    "redes=[[4, 8, 4, 2, 1], [4, 8, 4, 2, 1], [8, 16, 8, 4, 1], [8, 16, 8, 4, 1], [16, 32, 16, 8, 1], [16, 32, 16, 8, 1], [32, 64, 32, 8, 1], [32, 64, 32, 8, 1], [64, 128, 64, 8, 1], [64, 128, 64, 8, 1]]\n",
    "\n",
    "Calcula:\n",
    "*    El Nº Máximo en cualquier red\n",
    "*    El Nº máximo en cada red\n",
    "*    El Nº máximo en cada capa\n",
    "*    El Nº máximo en la 3º red\n",
    "*    El Nº máximo en la 3º capa\n"
   ]
  },
  {
   "cell_type": "code",
   "execution_count": null,
   "metadata": {},
   "outputs": [],
   "source": []
  },
  {
   "cell_type": "code",
   "execution_count": null,
   "metadata": {},
   "outputs": [],
   "source": []
  },
  {
   "cell_type": "code",
   "execution_count": null,
   "metadata": {},
   "outputs": [],
   "source": []
  },
  {
   "cell_type": "markdown",
   "metadata": {},
   "source": [
    "## 13"
   ]
  },
  {
   "cell_type": "markdown",
   "metadata": {},
   "source": [
    "Crea una función llamada mostrar_tamanyo que le pasemos un array de numpy y nos imprima el tamaño de cada una de las dimensiones.\n",
    "\n",
    "<pre>\n",
    "Por ejemplo con el array:\n",
    "array([[[ 2,  3],\n",
    "        [ 5,  7]],\n",
    "\n",
    "       [[11, 13],\n",
    "        [17, 19]],\n",
    "\n",
    "       [[23, 29],\n",
    "        [31, 37]]]) \n",
    "Deberá mostrar:\n",
    "El nº de elementos de la dimension 0 es 3\n",
    "El nº de elementos de la dimension 1 es 2\n",
    "El nº de elementos de la dimension 2 es 2\n",
    "</pre>"
   ]
  },
  {
   "cell_type": "code",
   "execution_count": null,
   "metadata": {},
   "outputs": [],
   "source": []
  },
  {
   "cell_type": "code",
   "execution_count": null,
   "metadata": {},
   "outputs": [],
   "source": []
  },
  {
   "cell_type": "markdown",
   "metadata": {},
   "source": [
    "## 14"
   ]
  },
  {
   "cell_type": "markdown",
   "metadata": {},
   "source": [
    "Crea la siguiente matriz:\n",
    "\n",
    "<pre>\n",
    "array([[ 0.,  1.,  2.,  3.,  4.,  5.],\n",
    "       [10., 11., 12., 13., 14., 15.],\n",
    "       [20., 21., 22., 23., 24., 25.],\n",
    "       [30., 31., 32., 33., 34., 35.],\n",
    "       [40., 41., 42., 43., 44., 45.],\n",
    "       [50., 51., 52., 53., 54., 55.]])\n",
    "</pre>"
   ]
  },
  {
   "cell_type": "code",
   "execution_count": null,
   "metadata": {},
   "outputs": [],
   "source": []
  },
  {
   "cell_type": "markdown",
   "metadata": {},
   "source": [
    "## 15"
   ]
  },
  {
   "cell_type": "markdown",
   "metadata": {},
   "source": [
    "MUESTRA TODO LO QUE ESTÁ SELECCIONADO:\n",
    "* NARANJA\n",
    "* VERDE OSCURO (TURQUESA)\n",
    "* ROJO\n",
    "* VERDE CLARO"
   ]
  },
  {
   "cell_type": "markdown",
   "metadata": {},
   "source": [
    "![Matriz](./matriz.png)"
   ]
  },
  {
   "cell_type": "code",
   "execution_count": null,
   "metadata": {},
   "outputs": [],
   "source": []
  },
  {
   "cell_type": "code",
   "execution_count": null,
   "metadata": {},
   "outputs": [],
   "source": []
  },
  {
   "cell_type": "code",
   "execution_count": null,
   "metadata": {},
   "outputs": [],
   "source": []
  },
  {
   "cell_type": "code",
   "execution_count": null,
   "metadata": {},
   "outputs": [],
   "source": []
  },
  {
   "cell_type": "markdown",
   "metadata": {},
   "source": [
    "## 16"
   ]
  },
  {
   "cell_type": "markdown",
   "metadata": {},
   "source": [
    "MUESTRA TODO LO QUE ESTÁ SELECCIONADO:\n",
    "* NARANJA\n",
    "* AZUL\n",
    "* ROJO"
   ]
  },
  {
   "cell_type": "markdown",
   "metadata": {},
   "source": [
    "![Matriz](./matriz2.png)"
   ]
  },
  {
   "cell_type": "code",
   "execution_count": null,
   "metadata": {},
   "outputs": [],
   "source": []
  },
  {
   "cell_type": "code",
   "execution_count": null,
   "metadata": {},
   "outputs": [],
   "source": []
  },
  {
   "cell_type": "code",
   "execution_count": null,
   "metadata": {},
   "outputs": [],
   "source": []
  },
  {
   "cell_type": "markdown",
   "metadata": {},
   "source": [
    "## 17"
   ]
  },
  {
   "cell_type": "markdown",
   "metadata": {},
   "source": [
    "También se puede acceder a matrices multidimensionales utilizando secuencias enteras y matrices booleanas.\n",
    "\n",
    "Supongamos que x es una matriz bidimensional e inds es el subíndice representado por el tipo de matriz de una secuencia entera:\n",
    "* Si inds es una matriz unidimensional, x [inds] devuelve una matriz bidimensional, pero si inds es una matriz bidimensional, x [inds] devuelve una matriz tridimensional."
   ]
  },
  {
   "cell_type": "code",
   "execution_count": null,
   "metadata": {},
   "outputs": [],
   "source": []
  },
  {
   "cell_type": "markdown",
   "metadata": {},
   "source": [
    "## 18"
   ]
  },
  {
   "cell_type": "markdown",
   "metadata": {},
   "source": [
    "How to convert a 1D array into a 2D array (how to add a new axis to an array)"
   ]
  },
  {
   "cell_type": "code",
   "execution_count": null,
   "metadata": {},
   "outputs": [],
   "source": []
  },
  {
   "cell_type": "code",
   "execution_count": null,
   "metadata": {},
   "outputs": [],
   "source": []
  }
 ],
 "metadata": {
  "interpreter": {
   "hash": "33ba981f45df271ef2947761f0b739a390df0f363cc4477a01d79ff1edceb140"
  },
  "kernelspec": {
   "display_name": "Python 3.8.8 64-bit ('base': conda)",
   "name": "python3"
  },
  "language_info": {
   "name": "python",
   "version": "3.8.8"
  },
  "orig_nbformat": 4
 },
 "nbformat": 4,
 "nbformat_minor": 2
}
