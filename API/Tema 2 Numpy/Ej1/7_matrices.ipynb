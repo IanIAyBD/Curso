{
 "cells": [
  {
   "cell_type": "markdown",
   "metadata": {},
   "source": [
    "# MATRICES"
   ]
  },
  {
   "cell_type": "markdown",
   "metadata": {},
   "source": [
    "![Arrays](./arrays.png)"
   ]
  },
  {
   "cell_type": "markdown",
   "metadata": {},
   "source": [
    "Mostrar una matriz por pantalla:\n",
    "\n",
    "$ \\begin{pmatrix} 1 & 2 \\\\ 3 & 4 \\\\ \\end{pmatrix} $\n",
    "\n",
    "\n",
    "$ \\begin{pmatrix} 1 & 11 \\\\ 2 & 22\\\\ 3 & 33\\\\ \\end{pmatrix} $\n",
    "\n",
    "\n",
    "$$\n",
    "\\left(\n",
    "\\begin{pmatrix}\n",
    "1 & 11\\\\\n",
    "2 & 22\\\\\n",
    "3 & 33\n",
    "\\end{pmatrix}\n",
    "\\begin{pmatrix}\n",
    "4 & 44\\\\\n",
    "5 & 55\\\\\n",
    "6 & 66\n",
    "\\end{pmatrix}\n",
    "\\right)\n",
    "$$\n",
    "\n",
    "\n",
    "$$\n",
    "\\left(\n",
    "\\begin{array}{ll}\n",
    "123 & 4 \\\\\n",
    "1   & 234 \\\\\n",
    "\\end{array}\n",
    "\\right)\n",
    "$$\n",
    "\n",
    "<!---\n",
    "$$\n",
    "\\left\\{\n",
    "\\begin{array}{ll}\n",
    "123 & 4  \\\\\n",
    "1   & 234 \n",
    "\\end{array}\n",
    "\\right.\n",
    "$$\n",
    "\n",
    "$$\n",
    "        \\begin{matrix}\n",
    "        1 & x & x^2 \\\\\n",
    "        1 & y & y^2 \\\\\n",
    "        1 & z & z^2 \\\\\n",
    "        \\end{matrix}\n",
    "$$\n",
    "\n",
    "\n",
    "$ \\begin{matrix} 1 & 2 \\\\ 3 & 4 \\\\ \\end{matrix} $\n",
    "$ \\begin{pmatrix} 1 & 2 \\\\ 3 & 4 \\\\ \\end{pmatrix} $\n",
    "$ \\begin{bmatrix} 1 & 2 \\\\ 3 & 4 \\\\ \\end{bmatrix} $\n",
    "$ \\begin{Bmatrix} 1 & 2 \\\\ 3 & 4 \\\\ \\end{Bmatrix} $\n",
    "$ \\begin{vmatrix} 1 & 2 \\\\ 3 & 4 \\\\ \\end{vmatrix} $\n",
    "$ \\begin{Vmatrix} 1 & 2 \\\\ 3 & 4 \\\\ \\end{Vmatrix} $\n",
    "\n",
    "-->\n",
    "\n",
    "$$\n",
    "        \\begin{pmatrix}\n",
    "        1 & a_1 & a_1^2 & \\cdots & a_1^n \\\\\n",
    "        1 & a_2 & a_2^2 & \\cdots & a_2^n \\\\\n",
    "        \\vdots & \\vdots & \\vdots & \\ddots & \\vdots \\\\\n",
    "        1 & a_m & a_m^2 & \\cdots & a_m^n \\\\\n",
    "        \\end{pmatrix}\n",
    "$$"
   ]
  },
  {
   "cell_type": "markdown",
   "metadata": {},
   "source": [
    "# EJERCICIOS"
   ]
  },
  {
   "cell_type": "markdown",
   "metadata": {},
   "source": [
    "## 1"
   ]
  },
  {
   "cell_type": "markdown",
   "metadata": {},
   "source": [
    "Usando la función **arange** de numpy crea un array con los números del 100 al 200 pero sin incluir el 200. Muestra el resultado."
   ]
  },
  {
   "cell_type": "code",
   "execution_count": 242,
   "metadata": {},
   "outputs": [
    {
     "name": "stdout",
     "output_type": "stream",
     "text": [
      "[100 101 102 103 104 105 106 107 108 109 110 111 112 113 114 115 116 117\n",
      " 118 119 120 121 122 123 124 125 126 127 128 129 130 131 132 133 134 135\n",
      " 136 137 138 139 140 141 142 143 144 145 146 147 148 149 150 151 152 153\n",
      " 154 155 156 157 158 159 160 161 162 163 164 165 166 167 168 169 170 171\n",
      " 172 173 174 175 176 177 178 179 180 181 182 183 184 185 186 187 188 189\n",
      " 190 191 192 193 194 195 196 197 198 199]\n"
     ]
    }
   ],
   "source": [
    "import numpy as np\n",
    "\n",
    "array = np.arange(100,200)\n",
    "print (array)"
   ]
  },
  {
   "cell_type": "markdown",
   "metadata": {},
   "source": [
    "## 2"
   ]
  },
  {
   "cell_type": "markdown",
   "metadata": {},
   "source": [
    "Crea una array de numpy con los siguiente números primos: 2, 3, 5, 7, 11, 13, 17, 19, 23, 29"
   ]
  },
  {
   "cell_type": "code",
   "execution_count": 243,
   "metadata": {},
   "outputs": [
    {
     "name": "stdout",
     "output_type": "stream",
     "text": [
      "[ 2.  3.  5.  7. 11. 13. 17. 19. 23. 29.]\n"
     ]
    }
   ],
   "source": [
    "array2 = np.arange(1,30)\n",
    "array2primos = []\n",
    "\n",
    "for n in array2:\n",
    "    check = True\n",
    "    for i in range(1,n):\n",
    "        if i == 1:\n",
    "            pass\n",
    "        elif n%i == 0:\n",
    "            check = False\n",
    "            break\n",
    "    if check == True:\n",
    "        array2primos = np.append(array2primos,n)\n",
    "array2primos = np.delete(array2primos,0, axis = 0)\n",
    "print(array2primos)"
   ]
  },
  {
   "cell_type": "markdown",
   "metadata": {},
   "source": [
    "* Muestra el último elemento. Y debes hacerlo sin saber su longitud."
   ]
  },
  {
   "cell_type": "code",
   "execution_count": 244,
   "metadata": {},
   "outputs": [
    {
     "name": "stdout",
     "output_type": "stream",
     "text": [
      "29.0\n"
     ]
    }
   ],
   "source": [
    "print(array2primos[-1])"
   ]
  },
  {
   "cell_type": "markdown",
   "metadata": {},
   "source": [
    "* Muestra el 3º elemento"
   ]
  },
  {
   "cell_type": "code",
   "execution_count": 245,
   "metadata": {},
   "outputs": [
    {
     "name": "stdout",
     "output_type": "stream",
     "text": [
      "5.0\n"
     ]
    }
   ],
   "source": [
    "print(array2primos[2])"
   ]
  },
  {
   "cell_type": "markdown",
   "metadata": {},
   "source": [
    "* Muestra el último y 3º elemento."
   ]
  },
  {
   "cell_type": "code",
   "execution_count": 246,
   "metadata": {},
   "outputs": [
    {
     "name": "stdout",
     "output_type": "stream",
     "text": [
      "5.0 29.0\n"
     ]
    }
   ],
   "source": [
    "print(array2primos[2],array2primos[-1])"
   ]
  },
  {
   "cell_type": "markdown",
   "metadata": {},
   "source": [
    "* Muestra del 2º al 5º elemento. "
   ]
  },
  {
   "cell_type": "code",
   "execution_count": 247,
   "metadata": {},
   "outputs": [
    {
     "name": "stdout",
     "output_type": "stream",
     "text": [
      "[ 3.  5.  7. 11. 13. 17.]\n"
     ]
    }
   ],
   "source": [
    "print(array2primos[1:7])"
   ]
  },
  {
   "cell_type": "markdown",
   "metadata": {},
   "source": [
    "* Muestra el 2º y el 5º elemento. "
   ]
  },
  {
   "cell_type": "code",
   "execution_count": 248,
   "metadata": {},
   "outputs": [
    {
     "name": "stdout",
     "output_type": "stream",
     "text": [
      "3.0 17.0\n"
     ]
    }
   ],
   "source": [
    "print(array2primos[1],array2primos[6])"
   ]
  },
  {
   "cell_type": "markdown",
   "metadata": {},
   "source": [
    "* Muestra el último y el penúltimo elemento. Y debes hacerlo sin saber su longitud. "
   ]
  },
  {
   "cell_type": "code",
   "execution_count": 249,
   "metadata": {},
   "outputs": [
    {
     "name": "stdout",
     "output_type": "stream",
     "text": [
      "[23. 29.]\n"
     ]
    }
   ],
   "source": [
    "print(array2primos[-2:])"
   ]
  },
  {
   "cell_type": "markdown",
   "metadata": {},
   "source": [
    "## 3"
   ]
  },
  {
   "cell_type": "markdown",
   "metadata": {},
   "source": [
    "Crea la siguiente matriz:\n",
    "\n",
    "$ \\begin{pmatrix} 1 & 4 & 6 & 5 \\\\ 4 & 1 & 7 & 3 \\\\ 2 & 9 & 1 & 2 \\\\ 6 & 3 & 1 & 1 \\\\ \\end{pmatrix} $\n",
    "\n",
    "\n",
    "*    Muestra el elemento de la fila 2º y la columna 3º. Es el valor del 7.\n",
    "*    Muestra la 3º Fila\n",
    "*    Muestra la 2º Columna\n",
    "*    Muestra la 2º y 3º Columna\n",
    "*    Muestra la 2º y 3º Fila\n",
    "*    Muestra la última columna. Debe funcionar independientemente del número de columnas.\n",
    "*    Muestra la 2º y 3º Columna y la 1º y 3º fila\n",
    "*    Muestra de la 2º a la 3º Columna y de la 1º a la 3º fila\n",
    "*    Muestra todas las columnas excepto la primera y la última. Debe funcionar independientemente del número de columnas.\n",
    "*    Muestra todas las filas excepto la primera y la última. Debe funcionar independientemente del número de filas.\n",
    "*    Muestra todas las columnas excepto la primera y la última y todas las filas excepto la primera y la última. Debe funcionar independientemente del número de filas y columnas."
   ]
  },
  {
   "cell_type": "code",
   "execution_count": 250,
   "metadata": {},
   "outputs": [
    {
     "data": {
      "text/plain": [
       "array([[1, 4, 6, 5],\n",
       "       [4, 1, 7, 3],\n",
       "       [2, 9, 1, 2],\n",
       "       [6, 3, 1, 1]])"
      ]
     },
     "execution_count": 250,
     "metadata": {},
     "output_type": "execute_result"
    }
   ],
   "source": [
    "array3 = np.array([[1,4,6,5],[4,1,7,3],[2,9,1,2],[6,3,1,1]])\n",
    "array3"
   ]
  },
  {
   "cell_type": "markdown",
   "metadata": {},
   "source": [
    "* Muestra el elemento de la fila 2º y la columna 3º. Es el valor del 7."
   ]
  },
  {
   "cell_type": "code",
   "execution_count": 251,
   "metadata": {},
   "outputs": [
    {
     "name": "stdout",
     "output_type": "stream",
     "text": [
      "7\n"
     ]
    }
   ],
   "source": [
    "print(array3[1][2])"
   ]
  },
  {
   "cell_type": "markdown",
   "metadata": {},
   "source": [
    "* Muestra la 3º Fila"
   ]
  },
  {
   "cell_type": "code",
   "execution_count": 252,
   "metadata": {},
   "outputs": [
    {
     "name": "stdout",
     "output_type": "stream",
     "text": [
      "[2 9 1 2]\n"
     ]
    }
   ],
   "source": [
    "print(array3[2])"
   ]
  },
  {
   "cell_type": "markdown",
   "metadata": {},
   "source": [
    "* Muestra la 2º Columna"
   ]
  },
  {
   "cell_type": "code",
   "execution_count": 253,
   "metadata": {},
   "outputs": [
    {
     "name": "stdout",
     "output_type": "stream",
     "text": [
      "[4 1 9 3]\n"
     ]
    }
   ],
   "source": [
    "print(array3[:,1])"
   ]
  },
  {
   "cell_type": "markdown",
   "metadata": {},
   "source": [
    "* Muestra la 2º y 3º Columna"
   ]
  },
  {
   "cell_type": "code",
   "execution_count": 254,
   "metadata": {},
   "outputs": [
    {
     "name": "stdout",
     "output_type": "stream",
     "text": [
      "[[4 6]\n",
      " [1 7]\n",
      " [9 1]\n",
      " [3 1]]\n"
     ]
    }
   ],
   "source": [
    "print(array3[:,[1,2]])"
   ]
  },
  {
   "cell_type": "markdown",
   "metadata": {},
   "source": [
    "* Muestra la 2º y 3º Fila"
   ]
  },
  {
   "cell_type": "code",
   "execution_count": 255,
   "metadata": {},
   "outputs": [
    {
     "name": "stdout",
     "output_type": "stream",
     "text": [
      "[[4 1 7 3]\n",
      " [2 9 1 2]]\n"
     ]
    }
   ],
   "source": [
    "print(array3[[1,2],:])"
   ]
  },
  {
   "cell_type": "markdown",
   "metadata": {},
   "source": [
    "*    Muestra la última columna. Debe funcionar independientemente del número de columnas."
   ]
  },
  {
   "cell_type": "code",
   "execution_count": 256,
   "metadata": {},
   "outputs": [
    {
     "name": "stdout",
     "output_type": "stream",
     "text": [
      "[5 3 2 1]\n"
     ]
    }
   ],
   "source": [
    "print(array3[:,-1])"
   ]
  },
  {
   "cell_type": "markdown",
   "metadata": {},
   "source": [
    "*    Muestra la 2º y 3º Columna y la 1º y 3º fila"
   ]
  },
  {
   "cell_type": "code",
   "execution_count": 257,
   "metadata": {},
   "outputs": [
    {
     "name": "stdout",
     "output_type": "stream",
     "text": [
      "[[4 6]\n",
      " [1 7]\n",
      " [9 1]\n",
      " [3 1]]\n",
      "[[1 4 6 5]\n",
      " [2 9 1 2]]\n"
     ]
    }
   ],
   "source": [
    "print(array3[:,[1,2]])\n",
    "print(array3[[0,2],:])"
   ]
  },
  {
   "cell_type": "markdown",
   "metadata": {},
   "source": [
    "*  Muestra de la 2º a la 3º Columna y de la 1º a la 3º fila"
   ]
  },
  {
   "cell_type": "code",
   "execution_count": 258,
   "metadata": {},
   "outputs": [
    {
     "name": "stdout",
     "output_type": "stream",
     "text": [
      "[[4 6]\n",
      " [1 7]\n",
      " [9 1]]\n"
     ]
    }
   ],
   "source": [
    "print(array3[0:3,[1,2]])"
   ]
  },
  {
   "cell_type": "markdown",
   "metadata": {},
   "source": [
    "* Muestra todas las columnas excepto la primera y la última. Debe funcionar independientemente del número de columnas."
   ]
  },
  {
   "cell_type": "code",
   "execution_count": 259,
   "metadata": {},
   "outputs": [
    {
     "name": "stdout",
     "output_type": "stream",
     "text": [
      "[[4 6]\n",
      " [1 7]\n",
      " [9 1]\n",
      " [3 1]]\n"
     ]
    }
   ],
   "source": [
    "print(array3[:,1:-1])"
   ]
  },
  {
   "cell_type": "markdown",
   "metadata": {},
   "source": [
    "* Muestra todas las filas excepto la primera y la última. Debe funcionar independientemente del número de filas."
   ]
  },
  {
   "cell_type": "code",
   "execution_count": 260,
   "metadata": {},
   "outputs": [
    {
     "name": "stdout",
     "output_type": "stream",
     "text": [
      "[[4 1 7 3]\n",
      " [2 9 1 2]]\n"
     ]
    }
   ],
   "source": [
    "print(array3[1:-1,:])"
   ]
  },
  {
   "cell_type": "markdown",
   "metadata": {},
   "source": [
    "* Muestra todas las columnas excepto la primera y la última y todas las filas excepto la primera y la última. Debe funcionar independientemente del número de filas y columnas."
   ]
  },
  {
   "cell_type": "code",
   "execution_count": 261,
   "metadata": {},
   "outputs": [
    {
     "name": "stdout",
     "output_type": "stream",
     "text": [
      "[[1 7]\n",
      " [9 1]]\n"
     ]
    }
   ],
   "source": [
    "\n",
    "print(array3[1:-1,1:-1])"
   ]
  },
  {
   "cell_type": "markdown",
   "metadata": {},
   "source": [
    "## 4"
   ]
  },
  {
   "cell_type": "markdown",
   "metadata": {},
   "source": [
    "\n",
    "\n",
    "El siguiente array contiene las temperaturas medias que ha hecho en Valencia en cada mes [10.2, 10.7, 13.3, 15.8, 19.3, 23.6, 26, 25.9, 22.8, 19.1, 13.9, 10.8 ]\n",
    "\n",
    "*    Muestra las temperaturas cuyo valor sea mayor que 20\n",
    "*    Muestra las temperaturas cuyo valor sea menor que 11\n",
    "*    Muestra las temperaturas cuyo valor sea mayor que 20 o menor que 11\n",
    "\n"
   ]
  },
  {
   "cell_type": "code",
   "execution_count": 262,
   "metadata": {},
   "outputs": [
    {
     "name": "stdout",
     "output_type": "stream",
     "text": [
      "[22.8 23.6 25.9 26. ]\n"
     ]
    }
   ],
   "source": [
    "array4 = np.array([10.2, 10.7, 13.3, 15.8, 19.3, 23.6, 26, 25.9, 22.8, 19.1, 13.9, 10.8 ])\n",
    "arr4num = np.array([])\n",
    "for num in array4:\n",
    "    if num > 20:\n",
    "        arr4num = np.append(arr4num, num)\n",
    "arr4num.sort()\n",
    "print(arr4num)"
   ]
  },
  {
   "cell_type": "code",
   "execution_count": 263,
   "metadata": {},
   "outputs": [
    {
     "name": "stdout",
     "output_type": "stream",
     "text": [
      "[10.2 10.7 10.8]\n"
     ]
    }
   ],
   "source": [
    "arr4num = np.array([])\n",
    "for num in array4:\n",
    "    if num < 11:\n",
    "        arr4num = np.append(arr4num, num)\n",
    "arr4num.sort()\n",
    "print(arr4num)"
   ]
  },
  {
   "cell_type": "code",
   "execution_count": 264,
   "metadata": {},
   "outputs": [
    {
     "name": "stdout",
     "output_type": "stream",
     "text": [
      "[13.3 13.9 15.8 19.1 19.3]\n"
     ]
    }
   ],
   "source": [
    "arr4num = np.array([])\n",
    "for num in array4:\n",
    "    if num > 11 and num < 20:\n",
    "        arr4num = np.append(arr4num, num)\n",
    "arr4num.sort()\n",
    "print(arr4num)"
   ]
  },
  {
   "cell_type": "markdown",
   "metadata": {},
   "source": [
    "## 5"
   ]
  },
  {
   "cell_type": "markdown",
   "metadata": {},
   "source": [
    "**Matrices en 2 D**"
   ]
  },
  {
   "cell_type": "markdown",
   "metadata": {},
   "source": [
    "Selecciona las celdas en rojo oscuro de la siguiente matriz:\n",
    "(Crea un \"muro\" (matriz) de ceros y pon a 1 las celdas del centro ;-))"
   ]
  },
  {
   "cell_type": "markdown",
   "metadata": {},
   "source": [
    "![muro](./muro1.png)"
   ]
  },
  {
   "cell_type": "code",
   "execution_count": 265,
   "metadata": {},
   "outputs": [
    {
     "data": {
      "text/plain": [
       "array([[0., 0., 0., 0., 0., 0., 0., 0.],\n",
       "       [0., 0., 0., 0., 0., 0., 0., 0.],\n",
       "       [0., 0., 1., 1., 1., 1., 0., 0.],\n",
       "       [0., 0., 1., 1., 1., 1., 0., 0.],\n",
       "       [0., 0., 1., 1., 1., 1., 0., 0.],\n",
       "       [0., 0., 0., 0., 0., 0., 0., 0.],\n",
       "       [0., 0., 0., 0., 0., 0., 0., 0.]])"
      ]
     },
     "execution_count": 265,
     "metadata": {},
     "output_type": "execute_result"
    }
   ],
   "source": [
    "muro = np.zeros([7,8])\n",
    "centro = np.ones([3,4],int)\n",
    "x = 2\n",
    "y = 2\n",
    "muro[x:x+centro.shape[0], y:y+centro.shape[1]] = centro\n",
    "muro"
   ]
  },
  {
   "cell_type": "markdown",
   "metadata": {},
   "source": [
    "## 6"
   ]
  },
  {
   "cell_type": "markdown",
   "metadata": {},
   "source": [
    "**Matrices en 3 D**"
   ]
  },
  {
   "cell_type": "markdown",
   "metadata": {},
   "source": [
    "Ahora selecciona las celdas en rojo oscuro pero también las verdes y azules que hay por detrás de las rojo oscuro.\n",
    "(Crea un \"muro\" (matriz) de ceros (de 3 dimensiones) y pon a 1 las celdas del centro en todas las dimensiones ;-))"
   ]
  },
  {
   "cell_type": "markdown",
   "metadata": {},
   "source": [
    "![muro](./muro2.png)"
   ]
  },
  {
   "cell_type": "code",
   "execution_count": 266,
   "metadata": {},
   "outputs": [
    {
     "data": {
      "text/plain": [
       "array([[[0., 0., 0., 0., 0., 0., 0., 0.],\n",
       "        [0., 0., 0., 0., 0., 0., 0., 0.],\n",
       "        [0., 0., 1., 1., 1., 1., 0., 0.],\n",
       "        [0., 0., 1., 1., 1., 1., 0., 0.],\n",
       "        [0., 0., 1., 1., 1., 1., 0., 0.],\n",
       "        [0., 0., 0., 0., 0., 0., 0., 0.],\n",
       "        [0., 0., 0., 0., 0., 0., 0., 0.]],\n",
       "\n",
       "       [[0., 0., 0., 0., 0., 0., 0., 0.],\n",
       "        [0., 0., 0., 0., 0., 0., 0., 0.],\n",
       "        [0., 0., 1., 1., 1., 1., 0., 0.],\n",
       "        [0., 0., 1., 1., 1., 1., 0., 0.],\n",
       "        [0., 0., 1., 1., 1., 1., 0., 0.],\n",
       "        [0., 0., 0., 0., 0., 0., 0., 0.],\n",
       "        [0., 0., 0., 0., 0., 0., 0., 0.]],\n",
       "\n",
       "       [[0., 0., 0., 0., 0., 0., 0., 0.],\n",
       "        [0., 0., 0., 0., 0., 0., 0., 0.],\n",
       "        [0., 0., 1., 1., 1., 1., 0., 0.],\n",
       "        [0., 0., 1., 1., 1., 1., 0., 0.],\n",
       "        [0., 0., 1., 1., 1., 1., 0., 0.],\n",
       "        [0., 0., 0., 0., 0., 0., 0., 0.],\n",
       "        [0., 0., 0., 0., 0., 0., 0., 0.]]])"
      ]
     },
     "execution_count": 266,
     "metadata": {},
     "output_type": "execute_result"
    }
   ],
   "source": [
    "muro = np.zeros([3,7,8])\n",
    "centro = np.ones([3,3,4])\n",
    "x = 0\n",
    "y = 2\n",
    "z = 2\n",
    "muro[x:x+centro.shape[0], y:y+centro.shape[1], z:z+centro.shape[2]] = centro\n",
    "muro"
   ]
  },
  {
   "cell_type": "markdown",
   "metadata": {},
   "source": [
    "## 7"
   ]
  },
  {
   "cell_type": "markdown",
   "metadata": {},
   "source": [
    "Crea la siguiente matriz:\n",
    "\n",
    "$ \\begin{pmatrix} 1 & 4 & 6 & 5 \\\\ 4 & 1 & 7 & 3 \\\\ 2 & 9 & 1 & 2 \\\\ 6 & 3 & 1 & 1 \\\\ \\end{pmatrix} $\n",
    "\n",
    "\n",
    "*   A todos los elementos de la matriz sumale un 10. Usando las funciones de numpy\n",
    "*   A todos los elementos de la matriz sumale un 10 y divídelos entre 2. Usando las funciones de numpy\n",
    "*   A todos los elementos de la matriz sumale un 10. Usando operadores\n",
    "*   A todos los elementos de la matriz sumale un 10 y divídelos entre 2. Usando operadores\n"
   ]
  },
  {
   "cell_type": "code",
   "execution_count": 267,
   "metadata": {},
   "outputs": [
    {
     "data": {
      "text/plain": [
       "array([[11, 14, 16, 15],\n",
       "       [14, 11, 17, 13],\n",
       "       [12, 19, 11, 12],\n",
       "       [16, 13, 11, 11]])"
      ]
     },
     "execution_count": 267,
     "metadata": {},
     "output_type": "execute_result"
    }
   ],
   "source": [
    "array7 = np.array([[1,4,6,5],[4,1,7,3],[2,9,1,2],[6,3,1,1]])\n",
    "array7= np.add(array7,10)\n",
    "array7"
   ]
  },
  {
   "cell_type": "code",
   "execution_count": 268,
   "metadata": {},
   "outputs": [
    {
     "data": {
      "text/plain": [
       "array([[5.5, 7. , 8. , 7.5],\n",
       "       [7. , 5.5, 8.5, 6.5],\n",
       "       [6. , 9.5, 5.5, 6. ],\n",
       "       [8. , 6.5, 5.5, 5.5]])"
      ]
     },
     "execution_count": 268,
     "metadata": {},
     "output_type": "execute_result"
    }
   ],
   "source": [
    "array7 = np.array([[1,4,6,5],[4,1,7,3],[2,9,1,2],[6,3,1,1]])\n",
    "array7= np.divide(np.add(array7,10),2)\n",
    "array7"
   ]
  },
  {
   "cell_type": "code",
   "execution_count": 269,
   "metadata": {},
   "outputs": [
    {
     "data": {
      "text/plain": [
       "array([[11, 14, 16, 15],\n",
       "       [14, 11, 17, 13],\n",
       "       [12, 19, 11, 12],\n",
       "       [16, 13, 11, 11]])"
      ]
     },
     "execution_count": 269,
     "metadata": {},
     "output_type": "execute_result"
    }
   ],
   "source": [
    "array7 = np.array([[1,4,6,5],[4,1,7,3],[2,9,1,2],[6,3,1,1]])\n",
    "array7= array7+10\n",
    "array7"
   ]
  },
  {
   "cell_type": "code",
   "execution_count": 270,
   "metadata": {},
   "outputs": [
    {
     "data": {
      "text/plain": [
       "array([[5.5, 7. , 8. , 7.5],\n",
       "       [7. , 5.5, 8.5, 6.5],\n",
       "       [6. , 9.5, 5.5, 6. ],\n",
       "       [8. , 6.5, 5.5, 5.5]])"
      ]
     },
     "execution_count": 270,
     "metadata": {},
     "output_type": "execute_result"
    }
   ],
   "source": [
    "array7 = np.array([[1,4,6,5],[4,1,7,3],[2,9,1,2],[6,3,1,1]])\n",
    "array7= (array7+10)/2\n",
    "array7"
   ]
  },
  {
   "cell_type": "markdown",
   "metadata": {},
   "source": [
    "## 8"
   ]
  },
  {
   "cell_type": "markdown",
   "metadata": {},
   "source": [
    "Crea la siguiente matriz:\n",
    "\n",
    "$ \\begin{pmatrix} 1 & 2 & 3 \\\\ 4 & 5 & 6 \\\\ 7 & 8 & 9 \\\\ \\end{pmatrix} $\n",
    "\n",
    "Multiplica cada elemento de la matriz por si mismo.\n",
    "Multiplica la matriz por si misma."
   ]
  },
  {
   "cell_type": "code",
   "execution_count": 271,
   "metadata": {},
   "outputs": [
    {
     "data": {
      "text/plain": [
       "array([[ 1,  4,  9],\n",
       "       [16, 25, 36],\n",
       "       [49, 64, 81]])"
      ]
     },
     "execution_count": 271,
     "metadata": {},
     "output_type": "execute_result"
    }
   ],
   "source": [
    "\n",
    "array8 = np.arange(1,10,1)\n",
    "array8 = array8.reshape(3,3)\n",
    "array8 = np.multiply(array8,array8)\n",
    "array8"
   ]
  },
  {
   "cell_type": "markdown",
   "metadata": {},
   "source": [
    "## 9"
   ]
  },
  {
   "cell_type": "markdown",
   "metadata": {},
   "source": [
    "Crea la siguiente matriz:\n",
    "\n",
    "$ \\begin{pmatrix} 1 & 0 & 0 & 0 \\\\ 0 & 1 & 7 & 0 \\\\ 0 & 0 & 1 & 0 \\\\ 0 & 0 & 0 & 1 \\\\ \\end{pmatrix} $\n",
    "\n",
    "* Obtén el elemento de la fila 2º y la columna 3º. (Es el valor del 7).\n",
    "* Crea un nuevo array con los elementos de la 3º Fila de la matriz.\n",
    "* Crea un nuevo array con los elementos de la 2º Columna de la matriz.\n",
    "* Imprime la matriz y haz que las cabeceras de cada columna sean A, B , C y D."
   ]
  },
  {
   "cell_type": "code",
   "execution_count": 272,
   "metadata": {},
   "outputs": [
    {
     "data": {
      "text/plain": [
       "7.0"
      ]
     },
     "execution_count": 272,
     "metadata": {},
     "output_type": "execute_result"
    }
   ],
   "source": [
    "array9 = np.identity(4)\n",
    "array9[1][2] = 7\n",
    "array9[1][2]"
   ]
  },
  {
   "cell_type": "code",
   "execution_count": 273,
   "metadata": {},
   "outputs": [
    {
     "data": {
      "text/plain": [
       "array([0., 0., 1., 0.])"
      ]
     },
     "execution_count": 273,
     "metadata": {},
     "output_type": "execute_result"
    }
   ],
   "source": [
    "newarr9 = array9[2]\n",
    "newarr9"
   ]
  },
  {
   "cell_type": "code",
   "execution_count": 274,
   "metadata": {},
   "outputs": [
    {
     "data": {
      "text/plain": [
       "array([0., 1., 0., 0.])"
      ]
     },
     "execution_count": 274,
     "metadata": {},
     "output_type": "execute_result"
    }
   ],
   "source": [
    "newarr9_2 = array9[:,1]\n",
    "newarr9_2"
   ]
  },
  {
   "cell_type": "code",
   "execution_count": 275,
   "metadata": {},
   "outputs": [
    {
     "name": "stdout",
     "output_type": "stream",
     "text": [
      "    1    2    3    4\n",
      "  1.0  0.0  0.0  0.0\n",
      "\n",
      "  0.0  1.0  7.0  0.0\n",
      "\n",
      "  0.0  0.0  1.0  0.0\n",
      "\n",
      "  0.0  0.0  0.0  1.0\n",
      "\n"
     ]
    }
   ],
   "source": [
    "letras = ['A','B','C','D']\n",
    "\n",
    "i = 0\n",
    "for i in range(0,len(array9[0])):\n",
    "    print (str(i+1).rjust(5),sep=\"\",end=\"\")\n",
    "print()\n",
    "for fila in array9:\n",
    "    i+=1\n",
    "    for punt in fila:\n",
    "        print (str(punt).rjust(5),sep=\"\",end=\"\")\n",
    "            \n",
    "    print(\"\\n\")\n"
   ]
  },
  {
   "cell_type": "markdown",
   "metadata": {},
   "source": [
    "## 10"
   ]
  },
  {
   "cell_type": "markdown",
   "metadata": {},
   "source": [
    "Crea una función llamada f que acepte como parámetro el número y que retorne el valor multiplicado por 2 y además que se le sume 1.\n",
    "\n",
    "Crea ahora el vector de numpy [1,5,4,7,3,9,8,6] y aplícale la función f\n"
   ]
  },
  {
   "cell_type": "code",
   "execution_count": 276,
   "metadata": {},
   "outputs": [],
   "source": [
    "def f(num):\n",
    "    return np.add(np.multiply(num,2),1)\n"
   ]
  },
  {
   "cell_type": "code",
   "execution_count": 277,
   "metadata": {},
   "outputs": [],
   "source": [
    "array10 = np.array([[1,5,4,7,9,8,6]])"
   ]
  },
  {
   "cell_type": "code",
   "execution_count": 278,
   "metadata": {},
   "outputs": [
    {
     "data": {
      "text/plain": [
       "array([[ 3, 11,  9, 15, 19, 17, 13]])"
      ]
     },
     "execution_count": 278,
     "metadata": {},
     "output_type": "execute_result"
    }
   ],
   "source": [
    "f(array10)"
   ]
  },
  {
   "cell_type": "markdown",
   "metadata": {},
   "source": [
    "## 11"
   ]
  },
  {
   "cell_type": "markdown",
   "metadata": {},
   "source": [
    "Crea una función llamada f que acepte como parámetro el número y que retorne lo siguiente:\n",
    "\n",
    "*    Si es valor está en el rango ]-inf,3[ que retorne 0\n",
    "*    Si es valor está en el rango [3,5[ que retorne 4\n",
    "*    Si es valor está en el rango [5,6[ que retorne 5\n",
    "*    Si es valor está en el rango [6,7[ que retorne 6\n",
    "*    Si es valor está en el rango [7,9[ que retorne 8\n",
    "*    Si es valor está en el rango [9,+inf[ que retorne 10\n",
    "\n",
    "Crea ahora el vector de numpy [1,5,4,7,3,9,8,6] y aplícale la función f"
   ]
  },
  {
   "cell_type": "code",
   "execution_count": 279,
   "metadata": {},
   "outputs": [],
   "source": [
    "def f(num):\n",
    "    if num <3:\n",
    "        return 0\n",
    "    elif num < 5:\n",
    "        return 4\n",
    "    elif num < 6:\n",
    "        return 5\n",
    "    elif num < 7:\n",
    "        return 6\n",
    "    elif num < 9:\n",
    "        return 8\n",
    "    else:\n",
    "        return 10"
   ]
  },
  {
   "cell_type": "code",
   "execution_count": 280,
   "metadata": {},
   "outputs": [],
   "source": [
    "array11 = [1,5,4,7,3,9,8,6]"
   ]
  },
  {
   "cell_type": "code",
   "execution_count": 302,
   "metadata": {},
   "outputs": [
    {
     "name": "stdout",
     "output_type": "stream",
     "text": [
      "0 5 4 8 4 10 8 6 "
     ]
    }
   ],
   "source": [
    "for n in array11:\n",
    "    print(f(n),end=\" \")\n",
    "    "
   ]
  },
  {
   "cell_type": "markdown",
   "metadata": {},
   "source": [
    "## 12"
   ]
  },
  {
   "cell_type": "markdown",
   "metadata": {},
   "source": [
    "Dado el siguiente array:\n",
    "\n",
    "redes = [\n",
    "        [4, 8, 4, 2, 1],\n",
    "        [4, 8, 4, 2, 1],\n",
    "        [8, 16, 8, 4, 1], \n",
    "        [8, 16, 8, 4, 1], \n",
    "        [16, 32, 16, 8, 1], \n",
    "        [16, 32, 16, 8, 1], \n",
    "        [32, 64, 32, 8, 1], \n",
    "        [32, 64, 32, 8, 1], \n",
    "        [64, 128, 64, 8, 1], \n",
    "        [64, 128, 64, 8, 1]\n",
    "        ]\n",
    "\n",
    "Calcula:\n",
    "*    El Nº Máximo en cualquier red\n",
    "*    El Nº máximo en cada red\n",
    "*    El Nº máximo en cada capa\n",
    "*    El Nº máximo en la 3º red\n",
    "*    El Nº máximo en la 3º capa\n"
   ]
  },
  {
   "cell_type": "code",
   "execution_count": 282,
   "metadata": {},
   "outputs": [
    {
     "name": "stdout",
     "output_type": "stream",
     "text": [
      "128\n"
     ]
    }
   ],
   "source": [
    "redes = [[4, 8, 4, 2, 1], [4, 8, 4, 2, 1], [8, 16, 8, 4, 1], [8, 16, 8, 4, 1], [16, 32, 16, 8, 1], [16, 32, 16, 8, 1], [32, 64, 32, 8, 1], [32, 64, 32, 8, 1], [64, 128, 64, 8, 1], [64, 128, 64, 8, 1]]\n",
    "\n",
    "print(np.max(redes))"
   ]
  },
  {
   "cell_type": "code",
   "execution_count": 283,
   "metadata": {},
   "outputs": [
    {
     "name": "stdout",
     "output_type": "stream",
     "text": [
      "Red 1 MAX -> 8\n",
      "Red 2 MAX -> 8\n",
      "Red 3 MAX -> 16\n",
      "Red 4 MAX -> 16\n",
      "Red 5 MAX -> 32\n",
      "Red 6 MAX -> 32\n",
      "Red 7 MAX -> 64\n",
      "Red 8 MAX -> 64\n",
      "Red 9 MAX -> 128\n",
      "Red 10 MAX -> 128\n"
     ]
    }
   ],
   "source": [
    "i = 1\n",
    "for red in redes:\n",
    "    print(\"Red\",i,\"MAX -> \", end=\"\")\n",
    "    print(np.max(red))\n",
    "    i+=1"
   ]
  },
  {
   "cell_type": "code",
   "execution_count": 284,
   "metadata": {},
   "outputs": [
    {
     "name": "stdout",
     "output_type": "stream",
     "text": [
      "Capa 1 MAX -> 64\n",
      "Capa 2 MAX -> 128\n",
      "Capa 3 MAX -> 64\n",
      "Capa 4 MAX -> 8\n",
      "Capa 5 MAX -> 1\n"
     ]
    }
   ],
   "source": [
    "i = 1\n",
    "for mcap in np.max(redes, axis = 0):\n",
    "    print(\"Capa\",i,\"MAX -> \", end=\"\")\n",
    "    print(mcap)\n",
    "    i+=1"
   ]
  },
  {
   "cell_type": "code",
   "execution_count": 285,
   "metadata": {},
   "outputs": [
    {
     "name": "stdout",
     "output_type": "stream",
     "text": [
      "Max de la red 3 ->  16\n",
      "Max de la capa 3 ->  64\n"
     ]
    }
   ],
   "source": [
    "print(\"Max de la red 3 -> \",np.max(redes[2]))\n",
    "print(\"Max de la capa 3 -> \",np.max(redes,axis=0)[2])"
   ]
  },
  {
   "cell_type": "markdown",
   "metadata": {},
   "source": [
    "## 13"
   ]
  },
  {
   "cell_type": "markdown",
   "metadata": {},
   "source": [
    "Crea una función llamada mostrar_tamanyo que le pasemos un array de numpy y nos imprima el tamaño de cada una de las dimensiones.\n",
    "\n",
    "<pre>\n",
    "Por ejemplo con el array:\n",
    "array([[[ 2,  3],\n",
    "        [ 5,  7]],\n",
    "\n",
    "       [[11, 13],\n",
    "        [17, 19]],\n",
    "\n",
    "       [[23, 29],\n",
    "        [31, 37]]]) \n",
    "Deberá mostrar:\n",
    "El nº de elementos de la dimension 0 es 3\n",
    "El nº de elementos de la dimension 1 es 2\n",
    "El nº de elementos de la dimension 2 es 2\n",
    "</pre>"
   ]
  },
  {
   "cell_type": "code",
   "execution_count": 286,
   "metadata": {},
   "outputs": [
    {
     "data": {
      "text/plain": [
       "(3, 2, 2)"
      ]
     },
     "execution_count": 286,
     "metadata": {},
     "output_type": "execute_result"
    }
   ],
   "source": [
    "array13 = np.array([[[ 2,  3],\n",
    "        [ 5,  7]],\n",
    "\n",
    "       [[11, 13],\n",
    "        [17, 19]],\n",
    "\n",
    "       [[23, 29],\n",
    "        [31, 37]]]) \n",
    "array13.shape"
   ]
  },
  {
   "cell_type": "code",
   "execution_count": 287,
   "metadata": {},
   "outputs": [
    {
     "data": {
      "text/plain": [
       "3"
      ]
     },
     "execution_count": 287,
     "metadata": {},
     "output_type": "execute_result"
    }
   ],
   "source": [
    "array13.ndim"
   ]
  },
  {
   "cell_type": "code",
   "execution_count": 288,
   "metadata": {},
   "outputs": [
    {
     "name": "stdout",
     "output_type": "stream",
     "text": [
      "3\n",
      "----\n",
      "2\n",
      "----\n",
      "2\n",
      "----\n"
     ]
    }
   ],
   "source": [
    "def mostrar_tamanyo(arr):\n",
    "    for i in range(arr.ndim):\n",
    "        print(arr.shape[i])\n",
    "        print(\"----\")\n",
    "mostrar_tamanyo(array13)"
   ]
  },
  {
   "cell_type": "markdown",
   "metadata": {},
   "source": [
    "## 14"
   ]
  },
  {
   "cell_type": "markdown",
   "metadata": {},
   "source": [
    "Crea la siguiente matriz:\n",
    "\n",
    "<pre>\n",
    "array([[ 0.,  1.,  2.,  3.,  4.,  5.],\n",
    "       [10., 11., 12., 13., 14., 15.],\n",
    "       [20., 21., 22., 23., 24., 25.],\n",
    "       [30., 31., 32., 33., 34., 35.],\n",
    "       [40., 41., 42., 43., 44., 45.],\n",
    "       [50., 51., 52., 53., 54., 55.]])\n",
    "</pre>"
   ]
  },
  {
   "cell_type": "code",
   "execution_count": 289,
   "metadata": {},
   "outputs": [
    {
     "data": {
      "text/plain": [
       "array([[ 0.,  1.,  2.,  3.,  4.,  5.],\n",
       "       [10., 11., 12., 13., 14., 15.],\n",
       "       [20., 21., 22., 23., 24., 25.],\n",
       "       [30., 31., 32., 33., 34., 35.],\n",
       "       [40., 41., 42., 43., 44., 45.],\n",
       "       [50., 51., 52., 53., 54., 55.]])"
      ]
     },
     "execution_count": 289,
     "metadata": {},
     "output_type": "execute_result"
    }
   ],
   "source": [
    "array14 = np.array([])\n",
    "for i in range(0,60, 10):\n",
    "    subarr =[]\n",
    "    for j in range(0,6):\n",
    "        subarr = np.append(subarr,(j+i))\n",
    "    array14 = np.append(array14,subarr)\n",
    "array14 = np.divide(array14,1).reshape(6,6)\n",
    "array14"
   ]
  },
  {
   "cell_type": "markdown",
   "metadata": {},
   "source": [
    "## 15"
   ]
  },
  {
   "cell_type": "markdown",
   "metadata": {},
   "source": [
    "MUESTRA TODO LO QUE ESTÁ SELECCIONADO:\n",
    "* NARANJA\n",
    "* VERDE OSCURO (TURQUESA)\n",
    "* ROJO\n",
    "* VERDE CLARO"
   ]
  },
  {
   "cell_type": "markdown",
   "metadata": {},
   "source": [
    "![Matriz](./matriz.png)"
   ]
  },
  {
   "cell_type": "code",
   "execution_count": 290,
   "metadata": {},
   "outputs": [
    {
     "data": {
      "text/plain": [
       "array([3., 4.])"
      ]
     },
     "execution_count": 290,
     "metadata": {},
     "output_type": "execute_result"
    }
   ],
   "source": [
    "array14[0,[3,4]]\n"
   ]
  },
  {
   "cell_type": "code",
   "execution_count": 291,
   "metadata": {},
   "outputs": [
    {
     "data": {
      "text/plain": [
       "array([[20., 22., 24.],\n",
       "       [40., 42., 44.]])"
      ]
     },
     "execution_count": 291,
     "metadata": {},
     "output_type": "execute_result"
    }
   ],
   "source": [
    "array14[2::2,::2]"
   ]
  },
  {
   "cell_type": "code",
   "execution_count": 292,
   "metadata": {},
   "outputs": [
    {
     "data": {
      "text/plain": [
       "array([ 2., 12., 22., 32., 42., 52.])"
      ]
     },
     "execution_count": 292,
     "metadata": {},
     "output_type": "execute_result"
    }
   ],
   "source": [
    "array14[:,2]"
   ]
  },
  {
   "cell_type": "code",
   "execution_count": 293,
   "metadata": {},
   "outputs": [
    {
     "name": "stdout",
     "output_type": "stream",
     "text": [
      "[44. 45.]\n",
      "[54. 55.]\n"
     ]
    }
   ],
   "source": [
    "print(array14[-2,[-2,-1]])\n",
    "print(array14[-1,[-2,-1]])"
   ]
  },
  {
   "cell_type": "markdown",
   "metadata": {},
   "source": [
    "## 16"
   ]
  },
  {
   "cell_type": "markdown",
   "metadata": {},
   "source": [
    "MUESTRA TODO LO QUE ESTÁ SELECCIONADO:\n",
    "* NARANJA\n",
    "* AZUL\n",
    "* ROJO"
   ]
  },
  {
   "cell_type": "markdown",
   "metadata": {},
   "source": [
    "![Matriz](./matriz2.png)"
   ]
  },
  {
   "cell_type": "code",
   "execution_count": 294,
   "metadata": {},
   "outputs": [
    {
     "name": "stdout",
     "output_type": "stream",
     "text": [
      "1.0 12.0 23.0 34.0 45.0 "
     ]
    }
   ],
   "source": [
    "for i in range(len(array14[0])):\n",
    "    try:\n",
    "        print(array14[i][i+1],end=\" \")\n",
    "    except:\n",
    "        pass"
   ]
  },
  {
   "cell_type": "code",
   "execution_count": 295,
   "metadata": {},
   "outputs": [
    {
     "name": "stdout",
     "output_type": "stream",
     "text": [
      "30.0 32.0 35.0 \n",
      "40.0 42.0 45.0 \n",
      "50.0 52.0 55.0 \n"
     ]
    }
   ],
   "source": [
    "j = 0\n",
    "for row in range(0,3):\n",
    "    for i in range(0,3):\n",
    "        print(array14[row+3][i+j],end=\" \")\n",
    "\n",
    "\n",
    "        j+=1+i\n",
    "    j = 0\n",
    "    print()\n",
    "    j = 0"
   ]
  },
  {
   "cell_type": "code",
   "execution_count": 296,
   "metadata": {},
   "outputs": [
    {
     "name": "stdout",
     "output_type": "stream",
     "text": [
      "2.0 22.0 52.0 "
     ]
    }
   ],
   "source": [
    "for i in range(0,3):\n",
    "    print(array14[i+j][2],end=\" \")\n",
    "    j+=1+i"
   ]
  },
  {
   "cell_type": "markdown",
   "metadata": {},
   "source": [
    "## 17"
   ]
  },
  {
   "cell_type": "markdown",
   "metadata": {},
   "source": [
    "También se puede acceder a matrices multidimensionales utilizando secuencias enteras y matrices booleanas.\n",
    "\n",
    "Supongamos que x es una matriz bidimensional e inds es el subíndice representado por el tipo de matriz de una secuencia entera:\n",
    "* Si inds es una matriz unidimensional, x [inds] devuelve una matriz bidimensional, pero si inds es una matriz bidimensional, x [inds] devuelve una matriz tridimensional."
   ]
  },
  {
   "cell_type": "code",
   "execution_count": 297,
   "metadata": {},
   "outputs": [
    {
     "name": "stdout",
     "output_type": "stream",
     "text": [
      "(3, 3)\n"
     ]
    },
    {
     "data": {
      "text/plain": [
       "(1, 3, 3)"
      ]
     },
     "execution_count": 297,
     "metadata": {},
     "output_type": "execute_result"
    }
   ],
   "source": [
    "x = np.array([[1,2,3],[4,5,6],[7,8,9]])\n",
    "inds=np.array([[0,1,2,]])\n",
    "print(x.shape)\n",
    "x[inds].shape"
   ]
  },
  {
   "cell_type": "markdown",
   "metadata": {},
   "source": [
    "## 18"
   ]
  },
  {
   "cell_type": "markdown",
   "metadata": {},
   "source": [
    "How to convert a 1D array into a 2D array (how to add a new axis to an array)"
   ]
  },
  {
   "cell_type": "code",
   "execution_count": 298,
   "metadata": {},
   "outputs": [],
   "source": [
    "array18 = np.array([1,2,3,4,5])\n"
   ]
  },
  {
   "cell_type": "code",
   "execution_count": 299,
   "metadata": {},
   "outputs": [],
   "source": [
    "array18 = np.expand_dims(array18, 0)"
   ]
  },
  {
   "cell_type": "code",
   "execution_count": 300,
   "metadata": {},
   "outputs": [
    {
     "data": {
      "text/plain": [
       "(1, 5)"
      ]
     },
     "execution_count": 300,
     "metadata": {},
     "output_type": "execute_result"
    }
   ],
   "source": [
    "array18.shape"
   ]
  },
  {
   "cell_type": "code",
   "execution_count": null,
   "metadata": {},
   "outputs": [],
   "source": []
  }
 ],
 "metadata": {
  "kernelspec": {
   "display_name": "Python 3.9.12 ('base')",
   "language": "python",
   "name": "python3"
  },
  "language_info": {
   "codemirror_mode": {
    "name": "ipython",
    "version": 3
   },
   "file_extension": ".py",
   "mimetype": "text/x-python",
   "name": "python",
   "nbconvert_exporter": "python",
   "pygments_lexer": "ipython3",
   "version": "3.9.12"
  },
  "orig_nbformat": 4,
  "vscode": {
   "interpreter": {
    "hash": "7b23c961ca40752c0e7cc5aa8b6e7f793ceb428b075191548f50526ee1923447"
   }
  }
 },
 "nbformat": 4,
 "nbformat_minor": 2
}
