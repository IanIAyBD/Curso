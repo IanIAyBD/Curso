{
 "cells": [
  {
   "cell_type": "markdown",
   "metadata": {},
   "source": [
    "# EJERCICIOS MATPLOTLIB"
   ]
  },
  {
   "cell_type": "markdown",
   "metadata": {},
   "source": [
    "## Ejercicio 1:\n",
    "Crea una figura con los siguientes subplots. Añade un título a la figura y guarda la figura a disco:"
   ]
  },
  {
   "cell_type": "markdown",
   "metadata": {},
   "source": [
    "![Subplots](./subplot.png)"
   ]
  },
  {
   "cell_type": "code",
   "execution_count": null,
   "metadata": {},
   "outputs": [],
   "source": []
  },
  {
   "cell_type": "markdown",
   "metadata": {},
   "source": [
    "## Ejercicio 2:\n",
    "Crea una figura con los siguientes subplots. Añade un título a la figura y guarda la figura a disco:"
   ]
  },
  {
   "cell_type": "markdown",
   "metadata": {},
   "source": [
    "![Subplots](./subplot2.png)"
   ]
  },
  {
   "cell_type": "code",
   "execution_count": null,
   "metadata": {},
   "outputs": [],
   "source": []
  },
  {
   "cell_type": "markdown",
   "metadata": {},
   "source": [
    "## Ejercicio 3:\n",
    "Crea una figura con los siguientes subplots. Añade un título a la figura y guarda la figura a disco:"
   ]
  },
  {
   "cell_type": "markdown",
   "metadata": {},
   "source": [
    "![Subplots](./subplot3.png)"
   ]
  },
  {
   "cell_type": "code",
   "execution_count": null,
   "metadata": {},
   "outputs": [],
   "source": []
  },
  {
   "cell_type": "markdown",
   "metadata": {},
   "source": [
    "## Ejercicio 4:\n",
    "Dadas las variables x e y:"
   ]
  },
  {
   "cell_type": "code",
   "execution_count": 1,
   "metadata": {},
   "outputs": [],
   "source": [
    "x=[-3.       , -2.57142857, -2.14285714, -1.71428571, -1.28571429, -0.85714286, -0.42857143,  0.        ,  0.42857143,  0.85714286, 1.28571429,  1.71428571,  2.14285714,  2.57142857,  3.       ]\n",
    "y=[0.00443185, 0.01462444 , 0.04016108 , 0.09178317 , 0.17456307 , 0.27629519 , 0.36393672 , 0.39894228 , 0.36393672 , 0.27629519 , 0.17456307, 0.09178317 , 0.04016108 , 0.01462444 , 0.00443185]"
   ]
  },
  {
   "cell_type": "markdown",
   "metadata": {},
   "source": [
    "Dibuja en una única figura (con 4 subplots):\n",
    "*    x e y como una serie de puntos.\n",
    "*    x e y como una linea continua.\n",
    "*    x e y como un diagrama de barras.\n",
    "*    x e y como una linea continua y además los puntos.\n",
    "\n",
    "Cada subplot deberá tener su título y la figura otro título.\n",
    "Guarda la figura a disco."
   ]
  },
  {
   "cell_type": "code",
   "execution_count": null,
   "metadata": {},
   "outputs": [],
   "source": []
  },
  {
   "cell_type": "markdown",
   "metadata": {},
   "source": [
    "## Ejercicio 5:\n",
    "*    Crea una variable llamada x con 300 números linealmente equidistantes entre el -2 y el 2.\n",
    "*    Crea una variable llamada y que sea el valor de x elevado al cuadrado.\n",
    "*    Crea una figura en la que se muestre una línea de x e y\n",
    "\n",
    "Además:\n",
    "*    Añade un título a la figura\n",
    "*    El nombre del eje \"X\" será \"x\"\n",
    "*    El nombre del eje \"Y\" será \"x²\"\n",
    "*    Guarda la figura a disco\n"
   ]
  },
  {
   "cell_type": "code",
   "execution_count": null,
   "metadata": {},
   "outputs": [],
   "source": []
  },
  {
   "cell_type": "code",
   "execution_count": null,
   "metadata": {},
   "outputs": [],
   "source": []
  },
  {
   "cell_type": "markdown",
   "metadata": {},
   "source": [
    "## Ejercicio 6:\n",
    "*   Crea una variable llamada x con 300 números linealmente equidistantes entre el -2 y el 2.\n",
    "*   Crea una variable llamada y que sea el valor absoluto de x\n",
    "*   Crea una figura en la que se muestre una línea de x e y\n",
    "*   El nombre del eje \"X\" será \"x\"\n",
    "*   El nombre del eje \"Y\" será \"|x|\"\n",
    "\n"
   ]
  },
  {
   "cell_type": "code",
   "execution_count": null,
   "metadata": {},
   "outputs": [],
   "source": []
  },
  {
   "cell_type": "markdown",
   "metadata": {},
   "source": [
    "## Ejercicio 7:\n",
    "Junta en una sóla figura el **Ejercico 5** y el **Ejercicio 6**. Establece un título en la figura y muestra una leyenda para cada línea \"x²\" y \"|x|\""
   ]
  },
  {
   "cell_type": "code",
   "execution_count": null,
   "metadata": {},
   "outputs": [],
   "source": []
  },
  {
   "cell_type": "markdown",
   "metadata": {},
   "source": [
    "## LA PARADOJA DE SIMPSON\n",
    "<A href=\"https://twitter.com/dadosdelaplace/status/1420294893797355526\">La paradoja de Simpson   <--enlace</A>\n",
    "<hr>\n",
    "<img src=\"./paradoja_simpson.jpeg\"></img>\n",
    "<hr>"
   ]
  },
  {
   "cell_type": "markdown",
   "metadata": {},
   "source": [
    "## Ejercicio 8:\n",
    "Vamos a hacer un ejemplo sobre eficacia de la vacunación del COVID.\n",
    "<p><mark>El ejemplo es totalmente inventado y no tiene ninguna relación con la vacunación y la realidad médica. Y los datos son totalmente arbitrarios </mark>\n",
    "<p>La siguiente función de python retorna 3 variables llamadas x , y y z.</p>\n",
    "\n",
    "<pre>\n",
    "def get_data():\n",
    "    size=150\n",
    "    num_tipos=10\n",
    "    pendiente_base=-8\n",
    "    np.random.seed(6)\n",
    "\n",
    "    x=np.array([])\n",
    "    y=np.array([])    \n",
    "    z=np.array([])\n",
    "    x_ini=0\n",
    "    y_ini=50\n",
    "    z_ini=0\n",
    "    x_ancho=8\n",
    "    y_ancho=60\n",
    "    x_inc=2\n",
    "    y_inc=y_ancho-3\n",
    "    z_int=10\n",
    "\n",
    "    for i in range(0,num_tipos):\n",
    "        pendiente=np.random.uniform(pendiente_base-0.4,pendiente_base+0.4,1)[0]\n",
    "        x_tipo=np.random.uniform(x_ini,x_ini+x_ancho,size)\n",
    "        y_tipo=np.random.uniform(y_ini,y_ini+y_ancho,size)+pendiente*x_tipo\n",
    "        z_tipo=np.full(size, z_ini)\n",
    " \n",
    "        x=np.concatenate((x,x_tipo))\n",
    "        y=np.concatenate((y,y_tipo))\n",
    "        z=np.concatenate((z,z_tipo))\n",
    " \n",
    "        x_ini=x_ini+x_inc\n",
    "        y_ini=y_ini+y_inc\n",
    "        z_ini=z_ini+z_int\n",
    " \n",
    "    return x,y,z\n",
    "</pre>\n",
    "\n",
    "Variables:\n",
    "*    La variable x indica la cantidad de vacuna inyectada a los pacientes\n",
    "*    La varaible y indica la cantidad de pacientes que se han infectado con COVID cada 100.000 habitantes.\n",
    "*    La varaible z indica el rango de edad de los paciente. 0=[0,10[ 10=[10,20[ 20=[20,30[, etc.\n",
    "\n",
    "Muestra un gráfico mostrando:\n",
    "*    En el eje X la cantidad de vacuna inyectada\n",
    "*    En el eje Y la cantidad de pacientes que se han infectado con COVID cada 100.000 habitantes.\n",
    "*    Muestra nombre de los ejes\n",
    "\n",
    "Explica la relación entre mayor dosis de vacuna y la cantidad de pacientes que se han infectado con COVID. Haz un ajuste lineal con los datos y añade esa recta a la gráfica. El color de la recta debe ser similar a la de los puntos.\n",
    "Muestra ahora el mismo gráfico pero añadiento:\n",
    "*    Que se muestre cada punto de un color distinto según el rango de edad.\n",
    "*    Muestra el colorbar\n",
    "*    Cambia el colormap con alguna de las paletas de <a href=\"https://matplotlib.org/stable/gallery/color/colormap_reference.html\">Matplotlib Colormap reference</a>\n",
    "\n",
    "<p>Vuelve a explicar la relación entre mayor dosis de vacuna y la cantidad de pacientes que se han infectado con COVID pero teniendo en cuenta la edad. Haz un ajuste lineal con los datos pero ahora deberás hacer un ajuste distinto con cada grupo de edad y añade todas esas rectas a la gráfica.El color de cada recta debe ser similar a la de los puntos correspondientes.</p>\n",
    "\n",
    "Muestra los 2 gráficos anteriores uno junto al otro en una misma figura. Haz que la figura que acabas de crear se parezca a la de los \n",
    "Simpson (que está más arriba) cambiando:\n",
    "*    Etiqueta de los ejes\n",
    "        * Color\n",
    "        * Tamaño de fuente\n",
    "        * Posición del texto\n",
    "*    Spines\n",
    "        * Color\n",
    "*    Ticks\n",
    "        * Color\n",
    "        * Algunos que no se muestren\n",
    "*    Guías interiores (Grid)\n",
    "        * Mostrar guías horizontales\n",
    "*    Fondo\n",
    "        * Color\n"
   ]
  },
  {
   "cell_type": "code",
   "execution_count": null,
   "metadata": {},
   "outputs": [],
   "source": []
  },
  {
   "cell_type": "markdown",
   "metadata": {},
   "source": [
    "Vuelve a explicar los datos anteriores si:\n",
    "\n",
    "*    x es el número de policías negros en EEUU\n",
    "*    y es el número de delitos\n",
    "*    z en el PIB de cada estado de EEUU\n",
    "\n"
   ]
  },
  {
   "cell_type": "code",
   "execution_count": null,
   "metadata": {},
   "outputs": [],
   "source": []
  },
  {
   "cell_type": "markdown",
   "metadata": {},
   "source": [
    "## Ejercicio 9:\n",
    "Muestra los datos del ejercicio anterior pero ahora con una proyección 3D. Y haz que puedas rotar la imagen con el ratón."
   ]
  },
  {
   "cell_type": "code",
   "execution_count": null,
   "metadata": {},
   "outputs": [],
   "source": []
  },
  {
   "cell_type": "markdown",
   "metadata": {},
   "source": [
    "## Ejercicio 10:\n",
    "Crea las siguiente funciones:\n",
    "* Crea una función llamada resta_siguiente que acepte como parámetro un array llamado a. Esta función hará lo siguiente:\n",
    "    *  Crea un array llamado primeros que contenga todos los elementos del array menos el último\n",
    "    *  Crea un array llamado ultimos que contenga todos los elementos del array menos el primero\n",
    "    *  Retorna el resultado de restar ultimos menos primeros\n",
    "* Crea una función llamada derivada que acepte como parámetro dos arrays llamados x y y. \n",
    "    *  Crea un array llamado resta_x que sea el resultado de llamar a la función resta_siguiente con el argument x\n",
    "    *  Crea un array llamado resta_y que sea el resultado de llamar a la función resta_siguiente con el argument y\n",
    "    *  Retorna dos valores que serán:\n",
    "        *  El array x menos el último elemento\n",
    "        *  El resultado de dividir resta_y entre resta_x\n",
    "<p>\n",
    "Con todo ello haz el siguiente programa: \n",
    "\n",
    "* Crea un array llamado x, con 100 números entre el -2 y el 2\n",
    "* Crea un array llamado y_absoluto que sea el valor absoluto del array x\n",
    "* Crea un array llamado y_cuadrado que sea el valor al cuadrado del array x\n",
    "* Llama a la función derivada con los argumentos x e y_absoluto y guarda el resultado en los arrays derivada_x_absoluto,derivada_y_absoluto.\n",
    "* Llama a la función derivada con los argumentos x e y_cuadrado y guarda el resultado en los arrays derivada_x_cuadrado,derivada_y_cuadrado."
   ]
  },
  {
   "cell_type": "code",
   "execution_count": null,
   "metadata": {},
   "outputs": [],
   "source": []
  },
  {
   "cell_type": "markdown",
   "metadata": {},
   "source": [
    "## Ejercicio 11:\n",
    "Representación de Funciones Matemáticas:\n",
    "\n",
    "$f(x) = 4x^3 + 2x^2 + 5x$\n",
    "\n",
    "<p>Incluso si se establecen límites para -5 <= x <= 5, hay un infinito número de valores para la x. Para representar la función, necesitamos crear una versión discreta de la recta numérica real:</p>"
   ]
  },
  {
   "cell_type": "code",
   "execution_count": null,
   "metadata": {},
   "outputs": [],
   "source": []
  },
  {
   "cell_type": "markdown",
   "metadata": {},
   "source": [
    "## Ejercicio 12:\n",
    "Dado el siguiente código python: \n",
    "<pre>\n",
    "import matplotlib.pyplot as plt\n",
    "import numpy as np\n",
    "\n",
    "figure=plt.figure(figsize=(8,8))\n",
    "axes = figure.add_subplot()\n",
    "\n",
    "x=[-3,-2,-1,0,1,2,3]\n",
    "y = 3*(1 - x)**2 * np.exp(-x**2 ) - 10*(x/5 - x**3 )*np.exp(-x**2 ) - 1./3*np.exp(-(x + 1)**2 ) \n",
    "\n",
    "axes.plot(x,y)\n",
    "</pre>\n",
    "<p>\n",
    "\n",
    "* Modifica el código que genera la variable x para que sea un array de numpy y de tipo float. Muestra la imagen\n",
    "* Modifica el código que genera la variable x para que sean 10 valores entre el [-3,3]. Muestra la imagen\n",
    "* Modifica el código que genera la variable x para que sean 20 valores entre el [-3,3]. Muestra la imagen\n",
    "* Modifica el código que genera la variable x para que sean 40 valores entre el [-3,3]. Muestra la imagen\n",
    "* Modifica el código que genera la variable x para que sean 60 valores entre el [-3,3]. Muestra la imagen\n",
    "* Modifica el código que genera la variable x para que sean 100 valores entre el [-3,3]. Muestra la imagen"
   ]
  },
  {
   "cell_type": "code",
   "execution_count": null,
   "metadata": {},
   "outputs": [],
   "source": []
  },
  {
   "cell_type": "markdown",
   "metadata": {},
   "source": [
    "## Ejercicio 13:\n",
    "Dibuja una superficie en 3D pero como curvas de nivel de distintos colores (debes usar **''contourf''**), sabiendo que:\n",
    "\n",
    "$x\\in [-15,15]\\\\y\\in [-15,15]\\\\z=\\frac{sin(\\sqrt {x^2+y^2+4})}{\\sqrt {x^2+y^2+4}}$\n",
    "\n",
    "<p>Además:</p>\n",
    "\n",
    "*    Cambia el color map por uno adecuado.\n",
    "*    Muestra el colorbar\n"
   ]
  },
  {
   "cell_type": "code",
   "execution_count": null,
   "metadata": {},
   "outputs": [],
   "source": []
  },
  {
   "cell_type": "markdown",
   "metadata": {},
   "source": [
    "## Ejercicio 14:\n",
    "Muestra el Kernel density estimation (KDE) (es como el histograma pero como una línea continua) de diversas alturas de hombre y de mujeres.\n",
    "<pre>\n",
    "altura_hombres=[182.74607218, 169.32946152, 169.83096949, 166.56218827,\n",
    "       178.19244578, 159.19076782, 183.46887059, 168.43275859,\n",
    "       174.91423458, 171.50377775, 181.77264762, 160.63915574,\n",
    "       171.06549678, 170.69567387, 179.80261665, 166.4006524 ,\n",
    "       171.96543075, 167.73284949, 173.25328248, 176.49689128,\n",
    "       166.39628494, 179.86834226, 178.40954432, 176.01496603,\n",
    "       178.4051357 , 168.89763284, 172.26265865, 167.38538339,\n",
    "       171.39267152, 176.1821328 , 168.85003549, 170.61947884,\n",
    "       168.8769638 , 167.92876615, 168.97252321, 172.92401241,\n",
    "       166.29613791, 174.40649419, 182.95881306, 177.45226496,\n",
    "       171.84898669, 167.67422622, 168.51705024, 183.15472761,\n",
    "       173.30484653, 169.17802612, 174.14549291, 185.60153082,\n",
    "       173.72095371, 176.70321866, 174.80102192, 170.88650092,\n",
    "       166.14489081, 170.90394367, 171.7466346 , 176.51973915,\n",
    "       178.03390048, 178.58661249, 174.71352395, 178.31084699,\n",
    "       168.47361235, 180.51720893, 176.07757892, 171.21144299,\n",
    "       175.93110888, 172.54656972, 179.78977632, 182.1189009 ,\n",
    "       186.11345244, 164.62102199, 164.33531717, 169.97320482,\n",
    "       173.96022242, 178.25701353, 174.89380968, 160.86679271,\n",
    "       171.16277592, 177.96784786, 174.38056841, 177.57206708,\n",
    "       171.66603114, 171.79545159, 174.11936835, 175.46030988,\n",
    "       174.18979832, 173.71405187, 168.97602628, 175.26538272,\n",
    "       173.73092763, 179.77690345, 180.19350728, 174.1109385 ,\n",
    "       170.7482903 , 169.16761756, 175.54096612, 173.46404041,\n",
    "       170.93687795, 173.26158114, 169.27999494, 177.1881922 ]\n",
    "altura_mujeres=[159.31722861, 169.34704623, 164.42094985, 165.56147114,\n",
    "       155.43052893, 163.0162946 , 166.44333871, 156.27779639,\n",
    "       160.40268896, 162.19568728, 153.76129608, 163.89095635,\n",
    "       167.07696389, 156.84290436, 164.10327587, 154.12629953,\n",
    "       161.76782694, 152.30536587, 168.72850625, 164.45340323,\n",
    "       161.85229826, 157.34903028, 169.64253558, 173.8026105 ,\n",
    "       150.85210881, 169.41698418, 171.76590452, 164.02807018,\n",
    "       154.80439181, 167.18007191, 160.91447819, 158.37647623,\n",
    "       154.61965119, 165.30322498, 166.7568412 , 158.25881562,\n",
    "       165.12345802, 155.13395166, 166.81116619, 162.27940379,\n",
    "       160.88058137, 161.38952476, 167.21331694, 166.50246984,\n",
    "       165.17679195, 162.82620726, 162.46692677, 165.71028157,\n",
    "       163.39496736, 166.09530844, 160.13929936, 147.39097342,\n",
    "       168.23294761, 175.12187788, 164.64818666, 161.3990686 ,\n",
    "       161.18133154, 161.28567487, 162.10445645, 155.26788763,\n",
    "       158.89743325, 156.01783903, 163.49279497, 160.22015309,\n",
    "       164.97126794, 160.95178104, 167.91801113, 163.28120341,\n",
    "       175.14419837, 150.62183446, 158.11849987, 167.40892135,\n",
    "       177.16995424, 160.50819133, 162.26201396, 160.64211454,\n",
    "       169.98874268, 160.27615282, 166.08041904, 160.08119041,\n",
    "       154.36464747, 163.88128632, 165.01910888, 169.7593553 ,\n",
    "       161.33731784, 158.29582762, 165.37656658, 163.44442255,\n",
    "       163.68399046, 161.56132378, 168.96203142, 164.2169563 ,\n",
    "       173.42795225, 168.66634019, 165.95429878, 152.23536996,\n",
    "       165.61391568, 164.52169322, 166.86571004, 168.26665257]\n",
    "</pre>\n",
    " Muestra los datos:\n",
    "\n",
    "*    En el mismo subplot\n",
    "*    Que las etiquetas sean \"Hombre\" y \"Mujer\"\n",
    "*    Título de la figura\n",
    "*    La etiqueta del eje X sea \"Edad\"\n",
    "*    La etiqueta del eje Y sea \"Densidad\"\n"
   ]
  },
  {
   "cell_type": "code",
   "execution_count": null,
   "metadata": {},
   "outputs": [],
   "source": []
  },
  {
   "cell_type": "markdown",
   "metadata": {},
   "source": [
    "## Ejercicio 15:\n",
    "Repite el ejercicio anterior pero ahora muestra los datos como un histograma y haz que tengan colores distintos."
   ]
  },
  {
   "cell_type": "code",
   "execution_count": null,
   "metadata": {},
   "outputs": [],
   "source": []
  },
  {
   "cell_type": "markdown",
   "metadata": {},
   "source": [
    "## Ejercicio 16:\n",
    "Realiza el siguiente gráfico con los siguientes datos:\n",
    "<pre>\n",
    "fruits = ['Apples', 'Pears', 'Nectarines', 'Plums', 'Grapes', 'Strawberries']\n",
    "counts = [5, 3, 4, 2, 4, 6]\n",
    "</pre>\n",
    "<p>\n",
    "<img src=\"frutas.png\"></img>\n"
   ]
  },
  {
   "cell_type": "code",
   "execution_count": null,
   "metadata": {},
   "outputs": [],
   "source": []
  },
  {
   "cell_type": "markdown",
   "metadata": {},
   "source": [
    "## Ejercicio 17:\n",
    "El fichero mario.csv contiene un array de numpy.\n",
    "\n",
    "Carga ese array y sabiendo que contiene una imagen de tamaño 41x31 y que cada color son 3 números, haz con matplotlib que se muestre la imagen de Mario Bros.\n",
    "<p>\n",
    "<img src=\"mario_8bits.png\"></img>\n",
    "<p>\n",
    "Fíjate que en la imagen no debe salir ninguno de los ejes."
   ]
  },
  {
   "cell_type": "code",
   "execution_count": null,
   "metadata": {},
   "outputs": [],
   "source": []
  }
 ],
 "metadata": {
  "interpreter": {
   "hash": "33ba981f45df271ef2947761f0b739a390df0f363cc4477a01d79ff1edceb140"
  },
  "kernelspec": {
   "display_name": "Python 3.8.8 64-bit ('base': conda)",
   "language": "python",
   "name": "python3"
  },
  "language_info": {
   "codemirror_mode": {
    "name": "ipython",
    "version": 3
   },
   "file_extension": ".py",
   "mimetype": "text/x-python",
   "name": "python",
   "nbconvert_exporter": "python",
   "pygments_lexer": "ipython3",
   "version": "3.8.8"
  },
  "orig_nbformat": 4
 },
 "nbformat": 4,
 "nbformat_minor": 2
}
