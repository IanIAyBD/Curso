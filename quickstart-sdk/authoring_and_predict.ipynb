{
 "cells": [
  {
   "cell_type": "code",
   "execution_count": 11,
   "metadata": {},
   "outputs": [],
   "source": [
    "from azure.cognitiveservices.language.luis.authoring import LUISAuthoringClient\n",
    "from azure.cognitiveservices.language.luis.authoring.models import ApplicationCreateObject\n",
    "from azure.cognitiveservices.language.luis.runtime import LUISRuntimeClient\n",
    "from msrest.authentication import CognitiveServicesCredentials\n",
    "from functools import reduce\n",
    "\n",
    "import json, time, uuid"
   ]
  },
  {
   "cell_type": "code",
   "execution_count": 12,
   "metadata": {},
   "outputs": [],
   "source": [
    "key = 'b2b291599f8a4c8d8e5cfa5b538bb95c'\n",
    "endpoint = 'https://ianiaybdluis.cognitiveservices.azure.com/'\n",
    "appid = '60e5434b-410c-4401-8419-24f30f11ac32'\n",
    "slot = 'Staging'"
   ]
  },
  {
   "cell_type": "code",
   "execution_count": 13,
   "metadata": {},
   "outputs": [],
   "source": [
    "clientRuntime = LUISRuntimeClient(endpoint, CognitiveServicesCredentials(key))"
   ]
  },
  {
   "cell_type": "code",
   "execution_count": 20,
   "metadata": {},
   "outputs": [
    {
     "name": "stdout",
     "output_type": "stream",
     "text": [
      "Top intent: Add Item\n",
      "Sentiment: None\n",
      "Intents: \n",
      "\t\"Add Item\"\n",
      "Entities: {'Item': ['5 kilotones de masa cerebral']}\n"
     ]
    }
   ],
   "source": [
    "# Production == slot name\n",
    "predictionRequest = { \"query\" : \"Mete 5 kilotones de masa cerebral\" }\n",
    "\n",
    "predictionResponse = clientRuntime.prediction.get_slot_prediction(appid, slot, predictionRequest)\n",
    "print(\"Top intent: {}\".format(predictionResponse.prediction.top_intent))\n",
    "print(\"Sentiment: {}\".format (predictionResponse.prediction.sentiment))\n",
    "print(\"Intents: \")\n",
    "\n",
    "for intent in predictionResponse.prediction.intents:\n",
    "    print(\"\\t{}\".format (json.dumps (intent)))\n",
    "print(\"Entities: {}\".format (predictionResponse.prediction.entities))"
   ]
  },
  {
   "cell_type": "code",
   "execution_count": null,
   "metadata": {},
   "outputs": [],
   "source": []
  }
 ],
 "metadata": {
  "interpreter": {
   "hash": "916dbcbb3f70747c44a77c7bcd40155683ae19c65e1c03b4aa3499c5328201f1"
  },
  "kernelspec": {
   "display_name": "Python 3.8.10 64-bit",
   "language": "python",
   "name": "python3"
  },
  "language_info": {
   "codemirror_mode": {
    "name": "ipython",
    "version": 3
   },
   "file_extension": ".py",
   "mimetype": "text/x-python",
   "name": "python",
   "nbconvert_exporter": "python",
   "pygments_lexer": "ipython3",
   "version": "3.9.12"
  },
  "orig_nbformat": 4
 },
 "nbformat": 4,
 "nbformat_minor": 2
}
